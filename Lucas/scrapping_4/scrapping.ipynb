{
 "cells": [
  {
   "cell_type": "markdown",
   "id": "interpreted-personality",
   "metadata": {},
   "source": [
    "## Scrapping"
   ]
  },
  {
   "cell_type": "code",
   "execution_count": 1,
   "id": "successful-rocket",
   "metadata": {},
   "outputs": [],
   "source": [
    "from bs4 import BeautifulSoup as BS\n",
    "from rich import print\n",
    "from requests import get\n",
    "import re\n",
    "from time import sleep, time\n",
    "import json\n",
    "import urllib.request # for downloading data\n",
    "from tqdm import tqdm # for displaying a smart progress meter in loops\n",
    "import concurrent.futures # for multi-threading\n",
    "import webscrapping\n",
    "import csv\n",
    "import multithread as mlt"
   ]
  },
  {
   "cell_type": "markdown",
   "id": "hydraulic-letters",
   "metadata": {},
   "source": [
    "## V1"
   ]
  },
  {
   "cell_type": "code",
   "execution_count": 2,
   "id": "digital-compilation",
   "metadata": {},
   "outputs": [],
   "source": [
    "mlt.multi_thread()"
   ]
  },
  {
   "cell_type": "code",
   "execution_count": null,
   "id": "subjective-wages",
   "metadata": {},
   "outputs": [],
   "source": []
  }
 ],
 "metadata": {
  "kernelspec": {
   "display_name": "Python 3",
   "language": "python",
   "name": "python3"
  },
  "language_info": {
   "codemirror_mode": {
    "name": "ipython",
    "version": 3
   },
   "file_extension": ".py",
   "mimetype": "text/x-python",
   "name": "python",
   "nbconvert_exporter": "python",
   "pygments_lexer": "ipython3",
   "version": "3.8.5"
  }
 },
 "nbformat": 4,
 "nbformat_minor": 5
}
