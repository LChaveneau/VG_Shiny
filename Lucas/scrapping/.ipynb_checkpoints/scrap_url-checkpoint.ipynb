{
 "cells": [
  {
   "cell_type": "markdown",
   "id": "bizarre-portal",
   "metadata": {},
   "source": [
    "# Récupération de tout les URL des pages descriptifs des jeux"
   ]
  },
  {
   "cell_type": "code",
   "execution_count": null,
   "id": "indoor-stevens",
   "metadata": {},
   "outputs": [],
   "source": [
    "from bs4 import BeautifulSoup as BS\n",
    "from rich import print\n",
    "from requests import get\n",
    "import re\n",
    "from time import sleep, time\n",
    "import json"
   ]
  },
  {
   "cell_type": "code",
   "execution_count": null,
   "id": "infinite-edward",
   "metadata": {},
   "outputs": [],
   "source": [
    "motif = re.compile('https://www.mobygames.com/game/(.*?)')\n",
    "for i in range(0,140250, 25):\n",
    "    page = get('https://www.mobygames.com/browse/games/offset,' + str(i)+ '/so,0a/list-games/')\n",
    "    code = page.content.decode(\"utf8\")\n",
    "    soupe = BS(code, \"lxml\")\n",
    "    tablo, *_ = soupe.find_all(attrs={'id' : ['mof_object_list']})\n",
    "    elements = tablo.find_all(name = 'tr')\n",
    "    elements.pop(0)\n",
    "    for element in elements:\n",
    "        liste_href = element.find_all(href = True)\n",
    "        for href in liste_href:\n",
    "            if motif.findall(href['href']):\n",
    "                with open(r'C:\\Users\\Lucas\\Documents/M2/S2/Big data/Shiny_VG/Lucas/scrapping/url.json', 'a') as f:\n",
    "                    f.write(json.dumps(href['href']) +',')\n",
    "                    f.write('\\n')\n",
    "                break\n",
    "    print(i)"
   ]
  }
 ],
 "metadata": {
  "kernelspec": {
   "display_name": "Python 3",
   "language": "python",
   "name": "python3"
  },
  "language_info": {
   "codemirror_mode": {
    "name": "ipython",
    "version": 3
   },
   "file_extension": ".py",
   "mimetype": "text/x-python",
   "name": "python",
   "nbconvert_exporter": "python",
   "pygments_lexer": "ipython3",
   "version": "3.8.5"
  }
 },
 "nbformat": 4,
 "nbformat_minor": 5
}
