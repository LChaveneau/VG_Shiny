{
 "cells": [
  {
   "cell_type": "markdown",
   "id": "announced-adjustment",
   "metadata": {},
   "source": [
    "# Scrapping "
   ]
  },
  {
   "cell_type": "code",
   "execution_count": 2,
   "id": "alien-cambridge",
   "metadata": {},
   "outputs": [],
   "source": [
    "from bs4 import BeautifulSoup as BS\n",
    "from rich import print\n",
    "from requests import get\n",
    "import re\n",
    "from time import sleep, time\n",
    "import json\n",
    "import urllib.request # for downloading data\n",
    "from tqdm import tqdm # for displaying a smart progress meter in loops\n",
    "import concurrent.futures # for multi-threading\n",
    "import webscrapping"
   ]
  },
  {
   "cell_type": "code",
   "execution_count": 19,
   "id": "excited-wallet",
   "metadata": {},
   "outputs": [],
   "source": [
    "with open(r'C:\\Users\\Lucas\\Documents/M2/S2/Big data/Shiny_VG/Lucas/scrapping/url.json', \"r\", encoding=\"utf-8\") as fichier:\n",
    "    data = fichier.read()\n",
    "    data = data[:-1]\n",
    "    data = \"[\" + data + \"]\"\n",
    "    with open(r'C:\\Users\\Lucas\\Documents/M2/S2/Big data/Shiny_VG/Lucas/scrapping/good_url.json', \"w\", encoding=\"utf8\") as fichier:\n",
    "        fichier.write(data)"
   ]
  },
  {
   "cell_type": "code",
   "execution_count": null,
   "id": "written-tracker",
   "metadata": {},
   "outputs": [],
   "source": [
    "with open(r'C:\\Users\\Lucas\\Documents/M2/S2/Big data/Shiny_VG/Lucas/scrapping/good_url.json',\n",
    "    \"r\",\n",
    "    encoding=\"utf-8\",\n",
    ") as fichier:\n",
    "    urls = fichier.read()\n",
    "    urls = json.loads(urls"
   ]
  },
  {
   "cell_type": "code",
   "execution_count": 14,
   "id": "julian-journalist",
   "metadata": {},
   "outputs": [
    {
     "name": "stderr",
     "output_type": "stream",
     "text": [
      "100%|██████████| 17/17 [00:00<00:00, 448.63it/s]\n"
     ]
    }
   ],
   "source": [
    "no_threads = 16\n",
    "with concurrent.futures.ThreadPoolExecutor(max_workers=no_threads) as executor:\n",
    "    for url in tqdm(urls):\n",
    "        executor.submit(webscrapping.traite_url, url, urls)"
   ]
  },
  {
   "cell_type": "code",
   "execution_count": null,
   "id": "charged-earthquake",
   "metadata": {},
   "outputs": [],
   "source": []
  }
 ],
 "metadata": {
  "kernelspec": {
   "display_name": "Python 3",
   "language": "python",
   "name": "python3"
  },
  "language_info": {
   "codemirror_mode": {
    "name": "ipython",
    "version": 3
   },
   "file_extension": ".py",
   "mimetype": "text/x-python",
   "name": "python",
   "nbconvert_exporter": "python",
   "pygments_lexer": "ipython3",
   "version": "3.8.5"
  }
 },
 "nbformat": 4,
 "nbformat_minor": 5
}
