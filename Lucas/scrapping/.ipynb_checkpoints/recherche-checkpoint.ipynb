{
 "cells": [
  {
   "cell_type": "markdown",
   "id": "knowing-ambassador",
   "metadata": {},
   "source": [
    "# Webscrapping time"
   ]
  },
  {
   "cell_type": "markdown",
   "id": "initial-charity",
   "metadata": {},
   "source": [
    "Le webscrapping s'effectuera si possible en deux partie :\n",
    "* Récupération des liens des jeux vidéo \n",
    "* Rentrer dans les liens pour récupérer les données\n",
    "\n",
    "En présence de plus de 1000000 données, le code doit être optimisé pour que cela prennent le moins de temps. La navigation via selenium est donc à éviter."
   ]
  },
  {
   "cell_type": "code",
   "execution_count": 1,
   "id": "arctic-seeker",
   "metadata": {},
   "outputs": [],
   "source": [
    "from bs4 import BeautifulSoup as BS\n",
    "from rich import print\n",
    "from requests import get\n",
    "import re\n",
    "from time import sleep, time\n",
    "import json"
   ]
  },
  {
   "cell_type": "markdown",
   "id": "economic-gallery",
   "metadata": {},
   "source": [
    "## Récupération des liens"
   ]
  },
  {
   "cell_type": "markdown",
   "id": "immune-acquisition",
   "metadata": {},
   "source": [
    "### Test première page"
   ]
  },
  {
   "cell_type": "code",
   "execution_count": 15,
   "id": "inclusive-swift",
   "metadata": {},
   "outputs": [],
   "source": [
    "page = get('https://www.mobygames.com/browse/games/offset,25/so,0a/list-games/')"
   ]
  },
  {
   "cell_type": "code",
   "execution_count": 16,
   "id": "hollywood-modem",
   "metadata": {},
   "outputs": [],
   "source": [
    "code = page.content.decode(\"utf8\")\n",
    "soupe = BS(code, \"lxml\")"
   ]
  },
  {
   "cell_type": "code",
   "execution_count": 19,
   "id": "arranged-costa",
   "metadata": {
    "collapsed": true,
    "jupyter": {
     "outputs_hidden": true
    }
   },
   "outputs": [
    {
     "data": {
      "text/plain": [
       "<!DOCTYPE html>\n",
       "<html>\n",
       "<head>\n",
       "<title>MobyGames: Game Browser</title>\n",
       "<meta charset=\"utf-8\"/>\n",
       "<meta content=\"IE=edge,chrome=1\" http-equiv=\"X-UA-Compatible\"/>\n",
       "<meta content=\"width=device-width, initial-scale=1.0\" name=\"viewport\"/>\n",
       "<meta content=\"MobyGames game browser game All Games\" name=\"description\"/>\n",
       "<meta content=\"MobyGames\" property=\"og:site_name\"/>\n",
       "<meta content=\"website\" property=\"og:type\"/>\n",
       "<meta content=\"https://www.mobygames.com/images/mobygames-logo-bg.png\" property=\"og:image\"/>\n",
       "<meta content=\"MobyGames: Game Browser\" property=\"og:title\"/>\n",
       "<meta content=\"MobyGames game browser game All Games\" property=\"og:description\"/>\n",
       "<meta content=\"tJt3KCZCKYjBQCF3Fi55jOw6LD2AiPzSrlP6E-mZvSs\" name=\"google-site-verification\"/>\n",
       "<meta content=\"aeca3386c9fda93d0a64006ba1249e4c\" name=\"p:domain_verify\"/>\n",
       "<link href=\"https://www.mobygames.com/favicon.ico\" rel=\"shortcut icon\"/>\n",
       "<link href=\"https://www.mobygames.com/images/moby300x300.png\" rel=\"apple-touch-icon image_src\"/>\n",
       "<link href=\"https://www.mobygames.com/rss/news.rss\" rel=\"alternate\" title=\"MobyGames RSS\" type=\"application/rss+xml\"/>\n",
       "<link href=\"https://www.mobygames.com/browse/games/offset,25/so,0a/list-games/\" rel=\"canonical\"/>\n",
       "<link href=\"//maxcdn.bootstrapcdn.com/bootstrap/3.3.4/css/bootstrap.min.css\" rel=\"stylesheet\"/>\n",
       "<script src=\"//ajax.googleapis.com/ajax/libs/jquery/1.11.0/jquery.min.js\"></script>\n",
       "<link href=\"https://www.mobygames.com/css/21020100/1s/moby.css\" rel=\"stylesheet\" type=\"text/css\"/>\n",
       "<script src=\"/js/21020100/global_domUtils_gamebrowser.js\" type=\"text/javascript\"></script>\n",
       "<script async=\"\" src=\"/cdn-cgi/bm/cv/669835187/api.js\"></script></head>\n",
       "<body>\n",
       "<div class=\"container\">\n",
       "<div class=\"grid grid-navbar\">\n",
       "<div class=\"grid-navbar-logo\">\n",
       "<a href=\"https://www.mobygames.com/\"><img alt=\"MobyGames\" height=\"75\" src=\"/images/mobygames-logo.png\" width=\"163\"/></a>\n",
       "</div>\n",
       "<div class=\"grid-navbar-menu\">\n",
       "<form accept-charset=\"UTF-8\" action=\"/search/quick\" id=\"formaafr\" method=\"GET\">\n",
       "<div class=\"input-group input-group-sm\">\n",
       "<input class=\"form-control headerSearchForm searchBarHeight\" id=\"qsearch\" name=\"q\" placeholder=\"Search games, credits, companies...\" type=\"text\"/>\n",
       "<div class=\"input-group-btn\">\n",
       "<button class=\"btn btn-primary searchBarHeight\" type=\"submit\"><span class=\"glyphicon glyphicon-search\"></span></button>\n",
       "</div>\n",
       "</div>\n",
       "</form>\n",
       "<ul id=\"moby-main-menu\">\n",
       "<li><a href=\"https://www.mobygames.com/browse/games\" title=\"Browse games\">Games</a></li>\n",
       "<li><a href=\"https://www.mobygames.com/forums\" title=\"Community discussion\">Forums</a></li>\n",
       "<li class=\"hidden-xs hidden-sm\">\n",
       "<a data-toggle=\"dropdown\" href=\"https://www.mobygames.com/news\" title=\"The latest at MobyGames\">Updates <span class=\"caret\"></span></a>\n",
       "<ul class=\"dropdown-menu\">\n",
       "<li><a href=\"https://www.mobygames.com/news\">Site News</a></li>\n",
       "<li class=\"divider\"></li>\n",
       "<li><a href=\"https://www.mobygames.com/stats/recent_entries\">New Games</a></li>\n",
       "<li><a href=\"https://www.mobygames.com/stats/recent_modifications\">Game Updates</a></li>\n",
       "<li><a href=\"https://www.mobygames.com/stats/recent_reviews\">New Reviews</a></li>\n",
       "<li><a href=\"https://www.mobygames.com/stats/new_companies\">New Companies</a></li>\n",
       "<li><a href=\"https://www.mobygames.com/stats/company_modifications\">Company Updates</a></li>\n",
       "<li><a href=\"https://www.mobygames.com/stats/developer_modifications\">Developer Updates</a></li>\n",
       "</ul>\n",
       "</li>\n",
       "<li>\n",
       "<a data-toggle=\"dropdown\" href=\"https://www.mobygames.com/info/contribute\" title=\"Contribute\">Contribute <span class=\"caret\"></span></a>\n",
       "<ul class=\"dropdown-menu\">\n",
       "<li><a href=\"https://www.mobygames.com/new_game_wizard/\">Add New Game</a></li>\n",
       "<li><a href=\"https://www.mobygames.com/poll_wizard\">Add New Poll</a></li>\n",
       "<li><a href=\"https://www.mobygames.com/featured_game_wizard/\">Add Featured Game</a></li>\n",
       "<li class=\"divider\"></li>\n",
       "<li><a href=\"https://www.mobygames.com/info/contribute\">Instructions</a></li>\n",
       "<li><a href=\"https://www.mobygames.com/info/standards\">Standards</a></li>\n",
       "<li><a href=\"https://www.mobygames.com/stats/contributors\">Top Contributors</a></li>\n",
       "<li><a href=\"https://www.mobygames.com/wanted/dead-or-alive\">Most Wanted</a></li>\n",
       "<li><a href=\"https://www.mobygames.com/info/patrons\">Patrons</a></li>\n",
       "</ul>\n",
       "</li>\n",
       "<li><a data-container=\"body\" data-placement=\"bottom\" data-toggle=\"tooltip\" href=\"https://www.mobygames.com/random/game?1645874704\" title=\"Random Game\"><span class=\"glyphicon glyphicon-random\"></span></a></li>\n",
       "<li> </li>\n",
       "</ul>\n",
       "</div>\n",
       "<div class=\"grid-navbar-user\"><div style=\"text-align: right\"><a class=\"btn btn-teal\" href=\"https://www.mobygames.com/acct/logon/from,:2fbrowse:2fgames:2foffset,25:2fso,0a:2flist-games:2f/g,3/\">Sign in</a> <a class=\"btn btn-teal\" href=\"https://www.mobygames.com/acct/create_account\">Register</a></div></div> </div><!-- /.grid -->\n",
       "</div><!-- /.container -->\n",
       "<div class=\"moby-headliner\">\n",
       "<div class=\"container\">\n",
       "<p class=\"moby-headliner-text\">\n",
       "<b><a href=\"https://discord.gg/8zWGTQp\">Join our Discord</a> to chat with fellow friendly gamers and our knowledgeable contributors!</b> </p>\n",
       "</div>\n",
       "</div>\n",
       "<div id=\"wrapper\">\n",
       "<div class=\"container\">\n",
       "<div class=\"row\" id=\"main\">\n",
       "<div class=\"col-md-12 col-lg-12\">\n",
       "<div class=\"lifesupport-header\"><div class=\"lifesupport-header\">\n",
       "<a href=\"https://www.antstream.com\"><img alt=\"antstream\" class=\"img-responsive\" height=\"250\" src=\"/images/ads/antstream/970x250.png\" style=\"margin: 0 auto;\" width=\"970\"/></a>\n",
       "</div></div>\n",
       "<div style=\"overflow: hidden;\">\n",
       "<div><b><a href=\"https://www.mobygames.com/browse/games\">Game Browser</a></b> » </div><div>\n",
       "<div class=\"moBrowse\">\n",
       "<div class=\"mobHeader\"><table summary=\"Object List\"><tr>\n",
       "<td class=\"mobHeaderPage\" width=\"33%\">Viewing Page 2 of 5609</td>\n",
       "<td class=\"mobHeaderItems\" width=\"34%\">(items 26-50 of 140223)</td>\n",
       "<td class=\"mobHeaderNav\" width=\"33%\"><a href=\"https://www.mobygames.com/browse/games/offset,0/so,0a/list-games/\">Previous</a> <span> | </span> <a href=\"https://www.mobygames.com/browse/games/offset,50/so,0a/list-games/\">Next</a></td></tr></table></div>\n",
       "<div class=\"floatholder mobFooter\"><ul class=\"pagination\"> <li><a href=\"https://www.mobygames.com/browse/games/offset,0/so,0a/list-games/\">_ - 0</a></li>\n",
       "<li><a href=\"https://www.mobygames.com/browse/games/offset,25/so,0a/list-games/\">1</a></li>\n",
       "<li><a href=\"https://www.mobygames.com/browse/games/offset,575/so,0a/list-games/\">2</a></li>\n",
       "<li><a href=\"https://www.mobygames.com/browse/games/offset,875/so,0a/list-games/\">3</a></li>\n",
       "<li><a href=\"https://www.mobygames.com/browse/games/offset,1275/so,0a/list-games/\">4</a></li>\n",
       "<li><a href=\"https://www.mobygames.com/browse/games/offset,1400/so,0a/list-games/\">5</a></li>\n",
       "<li><a href=\"https://www.mobygames.com/browse/games/offset,1525/so,0a/list-games/\">6</a></li>\n",
       "<li><a href=\"https://www.mobygames.com/browse/games/offset,1575/so,0a/list-games/\">7</a></li>\n",
       "<li><a href=\"https://www.mobygames.com/browse/games/offset,1650/so,0a/list-games/\">8</a></li>\n",
       "<li><a href=\"https://www.mobygames.com/browse/games/offset,1725/so,0a/list-games/\">9</a></li>\n",
       "<li><a href=\"https://www.mobygames.com/browse/games/offset,1800/so,0a/list-games/\">10 - a</a></li>\n",
       "<li><a href=\"https://www.mobygames.com/browse/games/offset,10475/so,0a/list-games/\">b</a></li>\n",
       "<li><a href=\"https://www.mobygames.com/browse/games/offset,18425/so,0a/list-games/\">c</a></li>\n",
       "<li><a href=\"https://www.mobygames.com/browse/games/offset,20725/so,0a/list-games/\">č - c</a></li>\n",
       "<li><a href=\"https://www.mobygames.com/browse/games/offset,27225/so,0a/list-games/\">d</a></li>\n",
       "<li><a href=\"https://www.mobygames.com/browse/games/offset,37800/so,0a/list-games/\">e</a></li>\n",
       "<li><a href=\"https://www.mobygames.com/browse/games/offset,41375/so,0a/list-games/\">f</a></li>\n",
       "<li><a href=\"https://www.mobygames.com/browse/games/offset,47500/so,0a/list-games/\">g</a></li>\n",
       "<li><a href=\"https://www.mobygames.com/browse/games/offset,52875/so,0a/list-games/\">h</a></li>\n",
       "<li><a href=\"https://www.mobygames.com/browse/games/offset,57800/so,0a/list-games/\">i</a></li>\n",
       "<li><a href=\"https://www.mobygames.com/browse/games/offset,60525/so,0a/list-games/\">j</a></li>\n",
       "<li><a href=\"https://www.mobygames.com/browse/games/offset,62450/so,0a/list-games/\">k</a></li>\n",
       "<li><a href=\"https://www.mobygames.com/browse/games/offset,65100/so,0a/list-games/\">l</a></li>\n",
       "<li><a href=\"https://www.mobygames.com/browse/games/offset,70050/so,0a/list-games/\">m</a></li>\n",
       "<li><a href=\"https://www.mobygames.com/browse/games/offset,79725/so,0a/list-games/\">n</a></li>\n",
       "<li><a href=\"https://www.mobygames.com/browse/games/offset,83125/so,0a/list-games/\">o</a></li>\n",
       "<li><a href=\"https://www.mobygames.com/browse/games/offset,85200/so,0a/list-games/\">p</a></li>\n",
       "<li><a href=\"https://www.mobygames.com/browse/games/offset,92625/so,0a/list-games/\">q</a></li>\n",
       "<li><a href=\"https://www.mobygames.com/browse/games/offset,93150/so,0a/list-games/\">r</a></li>\n",
       "<li><a href=\"https://www.mobygames.com/browse/games/offset,101525/so,0a/list-games/\">s</a></li>\n",
       "<li><a href=\"https://www.mobygames.com/browse/games/offset,117900/so,0a/list-games/\">t</a></li>\n",
       "<li><a href=\"https://www.mobygames.com/browse/games/offset,120625/so,0a/list-games/\">u - h</a></li>\n",
       "<li><a href=\"https://www.mobygames.com/browse/games/offset,128450/so,0a/list-games/\">ú - u</a></li>\n",
       "<li><a href=\"https://www.mobygames.com/browse/games/offset,130100/so,0a/list-games/\">v - ü</a></li>\n",
       "<li><a href=\"https://www.mobygames.com/browse/games/offset,131800/so,0a/list-games/\">w</a></li>\n",
       "<li><a href=\"https://www.mobygames.com/browse/games/offset,137425/so,0a/list-games/\">x</a></li>\n",
       "<li><a href=\"https://www.mobygames.com/browse/games/offset,138075/so,0a/list-games/\">y</a></li>\n",
       "<li><a href=\"https://www.mobygames.com/browse/games/offset,139000/so,0a/list-games/\">z</a></li>\n",
       "<li><a href=\"https://www.mobygames.com/browse/games/offset,139600/so,0a/list-games/\">ż - z</a></li>\n",
       "</ul>\n",
       "</div>\n",
       "<div class=\"mobList\"><div class=\"molist\"><table border=\"0\" cellpadding=\"1\" cellspacing=\"0\" class=\"molist\" id=\"mof_object_list\" summary=\"Object List\"><thead>\n",
       "<tr><td><b><a class=\"windowTitle\" href=\"https://www.mobygames.com/browse/games/offset,25/so,0d/list-games/\" title=\"Sort by Game Title\"><img alt=\"sorted in ascending order\" border=\"0\" height=\"7\" hspace=\"3\" src=\"/images/asc.gif\" width=\"7\"/>Game Title</a></b></td><td><b><a class=\"windowTitle\" href=\"https://www.mobygames.com/browse/games/offset,25/so,1d/list-games/\" title=\"Sort by Year\">Year</a></b></td><td><b><a class=\"windowTitle\" href=\"https://www.mobygames.com/browse/games/offset,25/so,2a/list-games/\" title=\"Sort by Publisher\">Publisher</a></b></td><td><b>Genre</b></td><td><b>Platform</b></td></tr></thead><tbody>\n",
       "<tr valign=\"top\"><td><a href=\"https://www.mobygames.com/game/007-quantum-of-solace\">007: Quantum of Solace</a></td><td><a href=\"https://www.mobygames.com/browse/games/2008/\">2008</a></td><td><a href=\"https://www.mobygames.com/company/activision-deutschland-gmbh\">Activision Deutschland GmbH</a>, <a href=\"https://www.mobygames.com/company/activision-publishing-inc\">Activision Publishing, Inc.</a>, <a href=\"https://www.mobygames.com/company/ak-tronic-software-services-gmbh\">ak tronic Software &amp; Services GmbH</a>, <a href=\"https://www.mobygames.com/company/noviy-disk\">Noviy Disk</a>, <a href=\"https://www.mobygames.com/company/square-enix-co-ltd\">Square Enix Co., Ltd.</a></td><td><a href=\"https://www.mobygames.com/genre/sheet/action/\">Action</a></td><td><a href=\"https://www.mobygames.com/browse/games/ps3/\">PlayStation 3</a>, <a href=\"https://www.mobygames.com/browse/games/wii/\">Wii</a>, <a href=\"https://www.mobygames.com/browse/games/windows/\">Windows</a>, <a href=\"https://www.mobygames.com/browse/games/xbox360/\">Xbox 360</a></td></tr>\n",
       "<tr valign=\"top\"><td><a href=\"https://www.mobygames.com/game/007-quantum-of-solace__\">007: Quantum of Solace</a></td><td><a href=\"https://www.mobygames.com/browse/games/2008/\">2008</a></td><td><a href=\"https://www.mobygames.com/company/activision-publishing-inc\">Activision Publishing, Inc.</a></td><td><a href=\"https://www.mobygames.com/genre/sheet/action/\">Action</a></td><td><a href=\"https://www.mobygames.com/browse/games/ps2/\">PlayStation 2</a></td></tr>\n",
       "<tr valign=\"top\"><td><a href=\"https://www.mobygames.com/game/007-quantum-of-solace-collectors-edition\">007: Quantum of Solace (Collector's Edition)</a></td><td><a href=\"https://www.mobygames.com/browse/games/2008/\">2008</a></td><td><a href=\"https://www.mobygames.com/company/activision-publishing-inc\">Activision Publishing, Inc.</a></td><td><a href=\"https://www.mobygames.com/genre/sheet/special_edition/\">Special edition</a></td><td><a href=\"https://www.mobygames.com/browse/games/ps3/\">PlayStation 3</a>, <a href=\"https://www.mobygames.com/browse/games/xbox360/\">Xbox 360</a></td></tr>\n",
       "<tr valign=\"top\"><td><a href=\"https://www.mobygames.com/game/007-racing\">007: Racing</a></td><td><a href=\"https://www.mobygames.com/browse/games/2000/\">2000</a></td><td><a href=\"https://www.mobygames.com/company/electronic-arts-inc\">Electronic Arts, Inc.</a></td><td><a href=\"https://www.mobygames.com/genre/sheet/action/\">Action</a>, <a href=\"https://www.mobygames.com/genre/sheet/racing-driving/\">Racing / driving</a></td><td><a href=\"https://www.mobygames.com/browse/games/playstation/\">PlayStation</a></td></tr>\n",
       "<tr valign=\"top\"><td><a href=\"https://www.mobygames.com/game/007-the-world-is-not-enough__\">007: The World is Not Enough</a></td><td><a href=\"https://www.mobygames.com/browse/games/2001/\">2001</a></td><td><a href=\"https://www.mobygames.com/company/electronic-arts-inc\">Electronic Arts, Inc.</a></td><td><a href=\"https://www.mobygames.com/genre/sheet/action/\">Action</a></td><td><a href=\"https://www.mobygames.com/browse/games/gameboy-color/\">Game Boy Color</a></td></tr>\n",
       "<tr valign=\"top\"><td><a href=\"https://www.mobygames.com/game/007-the-world-is-not-enough\">007: The World Is Not Enough</a></td><td><a href=\"https://www.mobygames.com/browse/games/2000/\">2000</a></td><td><a href=\"https://www.mobygames.com/company/electronic-arts-inc\">Electronic Arts, Inc.</a></td><td><a href=\"https://www.mobygames.com/genre/sheet/action/\">Action</a></td><td><a href=\"https://www.mobygames.com/browse/games/n64/\">Nintendo 64</a></td></tr>\n",
       "<tr valign=\"top\"><td><a href=\"https://www.mobygames.com/game/007-the-world-is-not-enough_\">007: The World is Not Enough</a></td><td><a href=\"https://www.mobygames.com/browse/games/2000/\">2000</a></td><td><a href=\"https://www.mobygames.com/company/electronic-arts-inc\">Electronic Arts, Inc.</a>, <a href=\"https://www.mobygames.com/company/electronic-arts-ltd\">Electronic Arts Ltd.</a></td><td><a href=\"https://www.mobygames.com/genre/sheet/action/\">Action</a></td><td><a href=\"https://www.mobygames.com/browse/games/playstation/\">PlayStation</a></td></tr>\n",
       "<tr valign=\"top\"><td><a href=\"https://www.mobygames.com/game/007-tomorrow-never-dies\">007: Tomorrow Never Dies</a></td><td><a href=\"https://www.mobygames.com/browse/games/1999/\">1999</a></td><td><a href=\"https://www.mobygames.com/company/electronic-arts-inc\">Electronic Arts, Inc.</a>, <a href=\"https://www.mobygames.com/company/electronic-arts-kk\">Electronic Arts Square, K.K.</a>, <a href=\"https://www.mobygames.com/company/mgm-interactive\">MGM Interactive</a></td><td><a href=\"https://www.mobygames.com/genre/sheet/action/\">Action</a></td><td><a href=\"https://www.mobygames.com/browse/games/playstation/\">PlayStation</a></td></tr>\n",
       "<tr valign=\"top\"><td><a href=\"https://www.mobygames.com/game/03dot04\">03.04</a></td><td><a href=\"https://www.mobygames.com/browse/games/2019/\">2019</a></td><td><a href=\"https://www.mobygames.com/company/jpeg-of-pain-games\">JPEG of Pain Games</a></td><td><a href=\"https://www.mobygames.com/genre/sheet/action/\">Action</a></td><td><a href=\"https://www.mobygames.com/browse/games/windows/\">Windows</a></td></tr>\n",
       "<tr valign=\"top\"><td><a href=\"https://www.mobygames.com/game/07-zgo-si_\">07 Zgłoś Się</a></td><td><a href=\"https://www.mobygames.com/browse/games/2017/\">2017</a></td><td><a href=\"https://www.mobygames.com/company/atarionlinepl\">AtariOnline.pl</a></td><td><a href=\"https://www.mobygames.com/genre/sheet/adventure/\">Adventure</a></td><td><a href=\"https://www.mobygames.com/browse/games/atari-8-bit/\">Atari 8-bit</a></td></tr>\n",
       "<tr valign=\"top\"><td><a href=\"https://www.mobygames.com/game/07-zgo-si\">07 Zgłoś Się</a></td><td><a href=\"https://www.mobygames.com/browse/games/1993/\">1993</a></td><td></td><td><a href=\"https://www.mobygames.com/genre/sheet/adventure/\">Adventure</a></td><td><a href=\"https://www.mobygames.com/browse/games/zx-spectrum/\">ZX Spectrum</a></td></tr>\n",
       "<tr valign=\"top\"><td><a href=\"https://www.mobygames.com/game/07-zgo-si-collectors-edition\">07 Zgłoś Się: Collector's Edition</a></td><td><a href=\"https://www.mobygames.com/browse/games/2017/\">2017</a></td><td><a href=\"https://www.mobygames.com/company/retronics\">Retronics</a></td><td><a href=\"https://www.mobygames.com/genre/sheet/adventure/\">Adventure</a></td><td><a href=\"https://www.mobygames.com/browse/games/atari-8-bit/\">Atari 8-bit</a></td></tr>\n",
       "<tr valign=\"top\"><td><a href=\"https://www.mobygames.com/game/0-and-x\">0 and x</a></td><td><a href=\"https://www.mobygames.com/browse/games/1986/\">1986</a></td><td><a href=\"https://www.mobygames.com/company/robtek-ltd\">Robtek Ltd.</a></td><td><a href=\"https://www.mobygames.com/genre/sheet/strategy/\">Strategy / tactics</a></td><td><a href=\"https://www.mobygames.com/browse/games/commodore-16-plus4/\">Commodore 16, Plus/4</a>, <a href=\"https://www.mobygames.com/browse/games/c64/\">Commodore 64</a></td></tr>\n",
       "<tr valign=\"top\"><td><a href=\"https://www.mobygames.com/game/0-day\">0 Day</a></td><td><a href=\"https://www.mobygames.com/browse/games/2016/\">2016</a></td><td><a href=\"https://www.mobygames.com/company/zero-day-games\">Zero Day Games</a></td><td><a href=\"https://www.mobygames.com/genre/sheet/action/\">Action</a></td><td><a href=\"https://www.mobygames.com/browse/games/windows/\">Windows</a></td></tr>\n",
       "<tr valign=\"top\"><td><a href=\"https://www.mobygames.com/game/0-day-attack-on-earth\">0 day Attack on Earth</a></td><td><a href=\"https://www.mobygames.com/browse/games/2009/\">2009</a></td><td><a href=\"https://www.mobygames.com/company/square-enix-inc\">Square Enix, Inc.</a></td><td><a href=\"https://www.mobygames.com/genre/sheet/action/\">Action</a></td><td><a href=\"https://www.mobygames.com/browse/games/xbox360/\">Xbox 360</a>, <a href=\"https://www.mobygames.com/browse/games/xbox-one/\">Xbox One</a></td></tr>\n",
       "<tr valign=\"top\"><td><a href=\"https://www.mobygames.com/game/0d-beat-drop\">0D Beat Drop</a></td><td><a href=\"https://www.mobygames.com/browse/games/2009/\">2009</a></td><td><a href=\"https://www.mobygames.com/company/arc-system-works-co-ltd\">Arc System Works Co., Ltd.</a></td><td><a href=\"https://www.mobygames.com/genre/sheet/puzzle/\">Puzzle</a></td><td><a href=\"https://www.mobygames.com/browse/games/xbox360/\">Xbox 360</a></td></tr>\n",
       "<tr valign=\"top\"><td><a href=\"https://www.mobygames.com/game/0-degrees\">0 Degrees</a></td><td><a href=\"https://www.mobygames.com/browse/games/2020/\">2020</a></td><td><a href=\"https://www.mobygames.com/company/eastasiasoft-limited\">Eastasiasoft Limited</a></td><td><a href=\"https://www.mobygames.com/genre/sheet/action/\">Action</a></td><td><a href=\"https://www.mobygames.com/browse/games/browser/\">Browser</a>, <a href=\"https://www.mobygames.com/browse/games/switch/\">Nintendo Switch</a>, <a href=\"https://www.mobygames.com/browse/games/playstation-4/\">PlayStation 4</a>, <a href=\"https://www.mobygames.com/browse/games/playstation-5/\">PlayStation 5</a>, <a href=\"https://www.mobygames.com/browse/games/xbox-one/\">Xbox One</a>, <a href=\"https://www.mobygames.com/browse/games/xbox-series/\">Xbox Series</a></td></tr>\n",
       "<tr valign=\"top\"><td><a href=\"https://www.mobygames.com/game/0n-0w\">0°N 0°W</a></td><td><a href=\"https://www.mobygames.com/browse/games/2018/\">2018</a></td><td><a href=\"https://www.mobygames.com/company/colorfiction\">Colorfiction</a></td><td><a href=\"https://www.mobygames.com/genre/sheet/adventure/\">Adventure</a></td><td><a href=\"https://www.mobygames.com/browse/games/linux/\">Linux</a>, <a href=\"https://www.mobygames.com/browse/games/macintosh/\">Macintosh</a>, <a href=\"https://www.mobygames.com/browse/games/windows/\">Windows</a></td></tr>\n",
       "<tr valign=\"top\"><td><a href=\"https://www.mobygames.com/game/0-nord\">0° Nord</a></td><td><a href=\"https://www.mobygames.com/browse/games/1985/\">1985</a></td><td><a href=\"https://www.mobygames.com/company/ke-soft\">KE-Soft</a>, <a href=\"https://www.mobygames.com/company/united-software-gmbh\">ariolasoft GmbH</a></td><td><a href=\"https://www.mobygames.com/genre/sheet/adventure/\">Adventure</a></td><td><a href=\"https://www.mobygames.com/browse/games/atari-8-bit/\">Atari 8-bit</a>, <a href=\"https://www.mobygames.com/browse/games/c64/\">Commodore 64</a></td></tr>\n",
       "<tr valign=\"top\"><td><a href=\"https://www.mobygames.com/game/0rbitalis\">0RBITALIS</a></td><td><a href=\"https://www.mobygames.com/browse/games/2014/\">2014</a></td><td><a href=\"https://www.mobygames.com/company/mastertronic-group-ltd\">Mastertronic Group Ltd.</a></td><td><a href=\"https://www.mobygames.com/genre/sheet/puzzle/\">Puzzle</a></td><td><a href=\"https://www.mobygames.com/browse/games/macintosh/\">Macintosh</a>, <a href=\"https://www.mobygames.com/browse/games/windows/\">Windows</a></td></tr>\n",
       "<tr valign=\"top\"><td><a href=\"https://www.mobygames.com/game/0rbitalis-supernova-edition\">0RBITALIS (Supernova Edition)</a></td><td><a href=\"https://www.mobygames.com/browse/games/2015/\">2015</a></td><td><a href=\"https://www.mobygames.com/company/mastertronic-group-ltd\">Mastertronic Group Ltd.</a></td><td><a href=\"https://www.mobygames.com/genre/sheet/special_edition/\">Special edition</a></td><td><a href=\"https://www.mobygames.com/browse/games/macintosh/\">Macintosh</a>, <a href=\"https://www.mobygames.com/browse/games/windows/\">Windows</a></td></tr>\n",
       "<tr valign=\"top\"><td><a href=\"https://www.mobygames.com/game/0rca\">0rca</a></td><td><a href=\"https://www.mobygames.com/browse/games/2017/\">2017</a></td><td><a href=\"https://www.mobygames.com/company/turezure-soft\">Turezure soft</a></td><td><a href=\"https://www.mobygames.com/genre/sheet/action/\">Action</a></td><td><a href=\"https://www.mobygames.com/browse/games/android/\">Android</a>, <a href=\"https://www.mobygames.com/browse/games/windows/\">Windows</a></td></tr>\n",
       "<tr valign=\"top\"><td><a href=\"https://www.mobygames.com/game/not1prop0\">!1∝0</a></td><td><a href=\"https://www.mobygames.com/browse/games/2015/\">2015</a></td><td></td><td><a href=\"https://www.mobygames.com/genre/sheet/puzzle/\">Puzzle</a></td><td><a href=\"https://www.mobygames.com/browse/games/ipad/\">iPad</a>, <a href=\"https://www.mobygames.com/browse/games/iphone/\">iPhone</a></td></tr>\n",
       "<tr valign=\"top\"><td><a href=\"https://www.mobygames.com/game/100zx\">100</a></td><td><a href=\"https://www.mobygames.com/browse/games/1995/\">1995</a></td><td><a href=\"https://www.mobygames.com/company/power-of-sound\">Power of Sound</a></td><td><a href=\"https://www.mobygames.com/genre/sheet/puzzle/\">Puzzle</a></td><td><a href=\"https://www.mobygames.com/browse/games/zx-spectrum/\">ZX Spectrum</a></td></tr>\n",
       "<tr valign=\"top\"><td><a href=\"https://www.mobygames.com/game/100euro\">€100</a></td><td><a href=\"https://www.mobygames.com/browse/games/2019/\">2019</a></td><td><a href=\"https://www.mobygames.com/company/kuko\">KuKo</a></td><td><a href=\"https://www.mobygames.com/genre/sheet/action/\">Action</a></td><td><a href=\"https://www.mobygames.com/browse/games/windows/\">Windows</a></td></tr></tbody></table></div></div>\n",
       "<div class=\"mobFooter\">Goto Page: <a href=\"https://www.mobygames.com/browse/games/offset,0/so,0a/list-games/\">1</a><span> | </span><a href=\"https://www.mobygames.com/browse/games/offset,25/so,0a/list-games/\"><b>2</b></a><span> | </span><a href=\"https://www.mobygames.com/browse/games/offset,50/so,0a/list-games/\">3</a><span> | </span><a href=\"https://www.mobygames.com/browse/games/offset,75/so,0a/list-games/\">4</a><span> | </span><a href=\"https://www.mobygames.com/browse/games/offset,100/so,0a/list-games/\">5</a><span> | </span><a href=\"https://www.mobygames.com/browse/games/offset,125/so,0a/list-games/\">6</a><span> | </span><a href=\"https://www.mobygames.com/browse/games/offset,150/so,0a/list-games/\">7</a><span> | </span><a href=\"https://www.mobygames.com/browse/games/offset,175/so,0a/list-games/\">8</a><span> | </span><a href=\"https://www.mobygames.com/browse/games/offset,200/so,0a/list-games/\">9</a><span> | </span><a href=\"https://www.mobygames.com/browse/games/offset,225/so,0a/list-games/\">10</a><span> | </span><a href=\"https://www.mobygames.com/browse/games/offset,250/so,0a/list-games/\">11</a><span> | </span><a href=\"https://www.mobygames.com/browse/games/offset,275/so,0a/list-games/\">12</a><span> | </span><a href=\"https://www.mobygames.com/browse/games/offset,300/so,0a/list-games/\">13</a><span> | </span><a href=\"https://www.mobygames.com/browse/games/offset,325/so,0a/list-games/\">14</a><span> | </span><a href=\"https://www.mobygames.com/browse/games/offset,350/so,0a/list-games/\">15</a></div>\n",
       "<div class=\"mobFooter\"><ul class=\"pagination\"> <li><a href=\"https://www.mobygames.com/browse/games/offset,0/so,0a/list-games/\">_ - 0</a></li>\n",
       "<li><a href=\"https://www.mobygames.com/browse/games/offset,25/so,0a/list-games/\">1</a></li>\n",
       "<li><a href=\"https://www.mobygames.com/browse/games/offset,575/so,0a/list-games/\">2</a></li>\n",
       "<li><a href=\"https://www.mobygames.com/browse/games/offset,875/so,0a/list-games/\">3</a></li>\n",
       "<li><a href=\"https://www.mobygames.com/browse/games/offset,1275/so,0a/list-games/\">4</a></li>\n",
       "<li><a href=\"https://www.mobygames.com/browse/games/offset,1400/so,0a/list-games/\">5</a></li>\n",
       "<li><a href=\"https://www.mobygames.com/browse/games/offset,1525/so,0a/list-games/\">6</a></li>\n",
       "<li><a href=\"https://www.mobygames.com/browse/games/offset,1575/so,0a/list-games/\">7</a></li>\n",
       "<li><a href=\"https://www.mobygames.com/browse/games/offset,1650/so,0a/list-games/\">8</a></li>\n",
       "<li><a href=\"https://www.mobygames.com/browse/games/offset,1725/so,0a/list-games/\">9</a></li>\n",
       "<li><a href=\"https://www.mobygames.com/browse/games/offset,1800/so,0a/list-games/\">10 - a</a></li>\n",
       "<li><a href=\"https://www.mobygames.com/browse/games/offset,10475/so,0a/list-games/\">b</a></li>\n",
       "<li><a href=\"https://www.mobygames.com/browse/games/offset,18425/so,0a/list-games/\">c</a></li>\n",
       "<li><a href=\"https://www.mobygames.com/browse/games/offset,20725/so,0a/list-games/\">č - c</a></li>\n",
       "<li><a href=\"https://www.mobygames.com/browse/games/offset,27225/so,0a/list-games/\">d</a></li>\n",
       "<li><a href=\"https://www.mobygames.com/browse/games/offset,37800/so,0a/list-games/\">e</a></li>\n",
       "<li><a href=\"https://www.mobygames.com/browse/games/offset,41375/so,0a/list-games/\">f</a></li>\n",
       "<li><a href=\"https://www.mobygames.com/browse/games/offset,47500/so,0a/list-games/\">g</a></li>\n",
       "<li><a href=\"https://www.mobygames.com/browse/games/offset,52875/so,0a/list-games/\">h</a></li>\n",
       "<li><a href=\"https://www.mobygames.com/browse/games/offset,57800/so,0a/list-games/\">i</a></li>\n",
       "<li><a href=\"https://www.mobygames.com/browse/games/offset,60525/so,0a/list-games/\">j</a></li>\n",
       "<li><a href=\"https://www.mobygames.com/browse/games/offset,62450/so,0a/list-games/\">k</a></li>\n",
       "<li><a href=\"https://www.mobygames.com/browse/games/offset,65100/so,0a/list-games/\">l</a></li>\n",
       "<li><a href=\"https://www.mobygames.com/browse/games/offset,70050/so,0a/list-games/\">m</a></li>\n",
       "<li><a href=\"https://www.mobygames.com/browse/games/offset,79725/so,0a/list-games/\">n</a></li>\n",
       "<li><a href=\"https://www.mobygames.com/browse/games/offset,83125/so,0a/list-games/\">o</a></li>\n",
       "<li><a href=\"https://www.mobygames.com/browse/games/offset,85200/so,0a/list-games/\">p</a></li>\n",
       "<li><a href=\"https://www.mobygames.com/browse/games/offset,92625/so,0a/list-games/\">q</a></li>\n",
       "<li><a href=\"https://www.mobygames.com/browse/games/offset,93150/so,0a/list-games/\">r</a></li>\n",
       "<li><a href=\"https://www.mobygames.com/browse/games/offset,101525/so,0a/list-games/\">s</a></li>\n",
       "<li><a href=\"https://www.mobygames.com/browse/games/offset,117900/so,0a/list-games/\">t</a></li>\n",
       "<li><a href=\"https://www.mobygames.com/browse/games/offset,120625/so,0a/list-games/\">u - h</a></li>\n",
       "<li><a href=\"https://www.mobygames.com/browse/games/offset,128450/so,0a/list-games/\">ú - u</a></li>\n",
       "<li><a href=\"https://www.mobygames.com/browse/games/offset,130100/so,0a/list-games/\">v - ü</a></li>\n",
       "<li><a href=\"https://www.mobygames.com/browse/games/offset,131800/so,0a/list-games/\">w</a></li>\n",
       "<li><a href=\"https://www.mobygames.com/browse/games/offset,137425/so,0a/list-games/\">x</a></li>\n",
       "<li><a href=\"https://www.mobygames.com/browse/games/offset,138075/so,0a/list-games/\">y</a></li>\n",
       "<li><a href=\"https://www.mobygames.com/browse/games/offset,139000/so,0a/list-games/\">z</a></li>\n",
       "<li><a href=\"https://www.mobygames.com/browse/games/offset,139600/so,0a/list-games/\">ż - z</a></li>\n",
       "</ul>\n",
       "</div></div><br/></div></div>\n",
       "</div>\n",
       "</div>\n",
       "</div>\n",
       "</div>\n",
       "<div id=\"footer-menu\">\n",
       "<div class=\"container\">\n",
       "<div class=\"row\">\n",
       "<div class=\"col-xs-6 col-sm-3 col-md-2\">\n",
       "<div class=\"footer-header\">MobyGames</div>\n",
       "<ul class=\"footer-nav\">\n",
       "<li><a href=\"https://www.mobygames.com/\">Home</a></li>\n",
       "<li><a href=\"https://www.mobygames.com/info/faq\">FAQ</a></li>\n",
       "<li><a href=\"https://www.mobygames.com/info/standards\">Standards</a></li>\n",
       "<li><a href=\"https://www.mobygames.com/info/api\">API</a></li>\n",
       "<li><a href=\"https://www.mobygames.com/info/feedback\">Contact</a></li>\n",
       "</ul>\n",
       "</div>\n",
       "<div class=\"col-xs-6 col-sm-3 col-md-2\">\n",
       "<div class=\"footer-header\">What's New</div>\n",
       "<ul class=\"footer-nav\">\n",
       "<li><a href=\"https://www.mobygames.com/stats/recent_entries\">New Games</a></li>\n",
       "<li><a href=\"https://www.mobygames.com/stats/recent_modifications\">Game Updates</a></li>\n",
       "<li><a href=\"https://www.mobygames.com/stats/recent_reviews\">New Reviews</a></li>\n",
       "<li><a href=\"https://www.mobygames.com/stats/new_companies\">New Companies</a></li>\n",
       "<li><a href=\"https://www.mobygames.com/changelog\">Changelog</a></li>\n",
       "</ul>\n",
       "</div>\n",
       "<div class=\"col-xs-6 col-sm-3 col-md-2\">\n",
       "<div class=\"footer-header\">Stats</div>\n",
       "<ul class=\"footer-nav\">\n",
       "<li><a href=\"https://www.mobygames.com/stats/contributors\">Top Contributors</a></li>\n",
       "<li><a href=\"https://www.mobygames.com/wanted/dead-or-alive\">Most Wanted</a></li>\n",
       "<li><a href=\"https://www.mobygames.com/moby_stats\">Database Stats</a></li>\n",
       "</ul>\n",
       "</div>\n",
       "<div class=\"col-xs-6 col-sm-3 col-md-2\">\n",
       "<div class=\"footer-header\">\n",
       "            Community\n",
       "          </div>\n",
       "<ul class=\"footer-nav\">\n",
       "<li><a href=\"https://www.mobygames.com/forums\">Forums</a></li>\n",
       "<li><a href=\"https://discord.gg/8zWGTQp\">Discord</a></li>\n",
       "<li><a href=\"https://twitter.com/MobyGames\">Twitter</a></li>\n",
       "</ul>\n",
       "</div>\n",
       "<div class=\"col-xs-12 col-sm-12 col-md-4\">\n",
       "<div class=\"footer-moby-logo\">\n",
       "<a class=\"add-margin-right hidden-xs\" href=\"https://www.mobygames.com/\"><img alt=\"mobygames logo\" height=\"50\" src=\"/images/mobygames-logo.png\" width=\"109\"/></a>\n",
       "</div>\n",
       "<div class=\"footer-moby-info\">\n",
       "<p>\n",
       "              The oldest, largest and most accurate video game database covering over 280 platforms from 1950 to date!\n",
       "            </p>\n",
       "</div>\n",
       "</div>\n",
       "</div>\n",
       "</div>\n",
       "</div>\n",
       "<div id=\"footer-bottom\">\n",
       "<div class=\"container\">\n",
       "<p class=\"copyright\">\n",
       "<a href=\"https://www.mobygames.com/\">MobyGames</a>™ Copyright © 1999-2022\n",
       "        <a href=\"http://blueflamelabs.com\"><span class=\"glyphicon glyphicon-fire\"></span> Blue Flame Labs</a>. All rights reserved.\n",
       "        <a href=\"https://www.mobygames.com/info/terms\">Terms of Use</a>.\n",
       "        <a href=\"https://www.mobygames.com/info/privacy\">Privacy Policy</a>.\n",
       "      </p>\n",
       "<p class=\"mobyquote\">\n",
       "        \"<a href=\"https://www.mobygames.com/game/nba-jam\">Boomshakalaka!</a>\" <a href=\"https://www.mobygames.com/game/nba-jam\"><span class=\"glyphicon glyphicon-info-sign\"></span></a>\n",
       "</p>\n",
       "</div>\n",
       "</div>\n",
       "<script>\n",
       "  (function(i,s,o,g,r,a,m){i['GoogleAnalyticsObject']=r;i[r]=i[r]||function(){\n",
       "  (i[r].q=i[r].q||[]).push(arguments)},i[r].l=1*new Date();a=s.createElement(o),\n",
       "  m=s.getElementsByTagName(o)[0];a.async=1;a.src=g;m.parentNode.insertBefore(a,m)\n",
       "  })(window,document,'script','//www.google-analytics.com/analytics.js','ga');\n",
       "\n",
       "  ga('create', 'UA-258321-1', 'auto');\n",
       "  ga('send', 'pageview');\n",
       "\n",
       "</script><script type=\"text/javascript\">\n",
       "\n",
       "function mofJsOnLoadInit()\n",
       "{\n",
       "gameBrowserDocumentLoaded();\n",
       "\n",
       "}\n",
       "\n",
       "window.onload = mofJsOnLoadInit;\n",
       "\n",
       "</script><script type=\"text/javascript\">(function(){window['__CF$cv$params']={r:'6e38ce6508f3889e',m:'YL7mliKB2U_KVKt8_ENuHWDcT6hVTAiKBQElW_VjER8-1645874665-0-AW4/ogKiE9PMGJG8Ym/WKY0pDwENwbB7ovRkvYX5N0o9X3UsMdAFWbmDhDb1jAH2na0Ca83/9uS3kn7+y0d+v1awcY4hwoV46Y8i1ZmfeFY3yhSDCAs0IvWmTVyxxItxkKaLiukEFcTICFnxchb9mIPMLZcUA0u7LUyTQT3+2k8G',s:[0x8d594105e3,0xd7998d2015],}})();</script></body>\n",
       "</html>"
      ]
     },
     "execution_count": 19,
     "metadata": {},
     "output_type": "execute_result"
    }
   ],
   "source": [
    "soupe"
   ]
  },
  {
   "cell_type": "code",
   "execution_count": 38,
   "id": "willing-wilson",
   "metadata": {},
   "outputs": [],
   "source": [
    "tablo = soupe.find_all(attrs={'id' : ['mof_object_list']})"
   ]
  },
  {
   "cell_type": "code",
   "execution_count": 39,
   "id": "joint-change",
   "metadata": {},
   "outputs": [
    {
     "data": {
      "text/plain": [
       "1"
      ]
     },
     "execution_count": 39,
     "metadata": {},
     "output_type": "execute_result"
    }
   ],
   "source": [
    "len(tablo)"
   ]
  },
  {
   "cell_type": "code",
   "execution_count": 41,
   "id": "painful-installation",
   "metadata": {
    "collapsed": true,
    "jupyter": {
     "outputs_hidden": true
    }
   },
   "outputs": [
    {
     "data": {
      "text/html": [
       "<pre style=\"white-space:pre;overflow-x:auto;line-height:normal;font-family:Menlo,'DejaVu Sans Mono',consolas,'Courier New',monospace\"><span style=\"font-weight: bold\">&lt;</span><span style=\"color: #ff00ff; font-weight: bold\">table</span><span style=\"color: #000000\"> </span><span style=\"color: #808000\">border</span><span style=\"color: #000000\">=</span><span style=\"color: #008000\">\"0\"</span><span style=\"color: #000000\"> </span><span style=\"color: #808000\">cellpadding</span><span style=\"color: #000000\">=</span><span style=\"color: #008000\">\"1\"</span><span style=\"color: #000000\"> </span><span style=\"color: #808000\">cellspacing</span><span style=\"color: #000000\">=</span><span style=\"color: #008000\">\"0\"</span><span style=\"color: #000000\"> </span><span style=\"color: #808000\">class</span><span style=\"color: #000000\">=</span><span style=\"color: #008000\">\"molist\"</span><span style=\"color: #000000\"> </span><span style=\"color: #808000\">id</span><span style=\"color: #000000\">=</span><span style=\"color: #008000\">\"mof_object_list\"</span><span style=\"color: #000000\"> </span>\n",
       "<span style=\"color: #808000\">summary</span><span style=\"color: #000000\">=</span><span style=\"color: #008000\">\"Object List\"</span><span style=\"font-weight: bold\">&gt;</span>\n",
       " <span style=\"font-weight: bold\">&lt;</span><span style=\"color: #ff00ff; font-weight: bold\">thead</span><span style=\"font-weight: bold\">&gt;</span>\n",
       "  <span style=\"font-weight: bold\">&lt;</span><span style=\"color: #ff00ff; font-weight: bold\">tr</span><span style=\"font-weight: bold\">&gt;</span>\n",
       "   <span style=\"font-weight: bold\">&lt;</span><span style=\"color: #ff00ff; font-weight: bold\">td</span><span style=\"font-weight: bold\">&gt;</span>\n",
       "    <span style=\"font-weight: bold\">&lt;</span><span style=\"color: #ff00ff; font-weight: bold\">b</span><span style=\"font-weight: bold\">&gt;</span>\n",
       "     <span style=\"font-weight: bold\">&lt;</span><span style=\"color: #ff00ff; font-weight: bold\">a</span><span style=\"color: #000000\"> </span><span style=\"color: #808000\">class</span><span style=\"color: #000000\">=</span><span style=\"color: #008000\">\"windowTitle\"</span><span style=\"color: #000000\"> </span>\n",
       "<span style=\"color: #808000\">href</span><span style=\"color: #000000\">=</span><span style=\"color: #008000\">\"https://www.mobygames.com/browse/games/offset,25/so,0d/list-games/\"</span><span style=\"color: #000000\"> </span><span style=\"color: #808000\">title</span><span style=\"color: #000000\">=</span><span style=\"color: #008000\">\"Sort by Game</span>\n",
       "<span style=\"color: #008000\">Title\"</span><span style=\"font-weight: bold\">&gt;</span>\n",
       "      <span style=\"font-weight: bold\">&lt;</span><span style=\"color: #ff00ff; font-weight: bold\">img</span><span style=\"color: #000000\"> </span><span style=\"color: #808000\">alt</span><span style=\"color: #000000\">=</span><span style=\"color: #008000\">\"sorted in ascending order\"</span><span style=\"color: #000000\"> </span><span style=\"color: #808000\">border</span><span style=\"color: #000000\">=</span><span style=\"color: #008000\">\"0\"</span><span style=\"color: #000000\"> </span><span style=\"color: #808000\">height</span><span style=\"color: #000000\">=</span><span style=\"color: #008000\">\"7\"</span><span style=\"color: #000000\"> </span><span style=\"color: #808000\">hspace</span><span style=\"color: #000000\">=</span><span style=\"color: #008000\">\"3\"</span><span style=\"color: #000000\"> </span>\n",
       "<span style=\"color: #808000\">src</span><span style=\"color: #000000\">=</span><span style=\"color: #008000\">\"/images/asc.gif\"</span><span style=\"color: #000000\"> </span><span style=\"color: #808000\">width</span><span style=\"color: #000000\">=</span><span style=\"color: #008000\">\"7\"</span><span style=\"color: #800080\">/</span><span style=\"font-weight: bold\">&gt;</span>\n",
       "      Game Title\n",
       "     <span style=\"font-weight: bold\">&lt;</span><span style=\"color: #800080\">/</span><span style=\"color: #ff00ff\">a</span><span style=\"font-weight: bold\">&gt;</span>\n",
       "    <span style=\"font-weight: bold\">&lt;</span><span style=\"color: #800080\">/</span><span style=\"color: #ff00ff\">b</span><span style=\"font-weight: bold\">&gt;</span>\n",
       "   <span style=\"font-weight: bold\">&lt;</span><span style=\"color: #800080\">/</span><span style=\"color: #ff00ff\">td</span><span style=\"font-weight: bold\">&gt;</span>\n",
       "   <span style=\"font-weight: bold\">&lt;</span><span style=\"color: #ff00ff; font-weight: bold\">td</span><span style=\"font-weight: bold\">&gt;</span>\n",
       "    <span style=\"font-weight: bold\">&lt;</span><span style=\"color: #ff00ff; font-weight: bold\">b</span><span style=\"font-weight: bold\">&gt;</span>\n",
       "     <span style=\"font-weight: bold\">&lt;</span><span style=\"color: #ff00ff; font-weight: bold\">a</span><span style=\"color: #000000\"> </span><span style=\"color: #808000\">class</span><span style=\"color: #000000\">=</span><span style=\"color: #008000\">\"windowTitle\"</span><span style=\"color: #000000\"> </span>\n",
       "<span style=\"color: #808000\">href</span><span style=\"color: #000000\">=</span><span style=\"color: #008000\">\"https://www.mobygames.com/browse/games/offset,25/so,1d/list-games/\"</span><span style=\"color: #000000\"> </span><span style=\"color: #808000\">title</span><span style=\"color: #000000\">=</span><span style=\"color: #008000\">\"Sort by </span>\n",
       "<span style=\"color: #008000\">Year\"</span><span style=\"font-weight: bold\">&gt;</span>\n",
       "      Year\n",
       "     <span style=\"font-weight: bold\">&lt;</span><span style=\"color: #800080\">/</span><span style=\"color: #ff00ff\">a</span><span style=\"font-weight: bold\">&gt;</span>\n",
       "    <span style=\"font-weight: bold\">&lt;</span><span style=\"color: #800080\">/</span><span style=\"color: #ff00ff\">b</span><span style=\"font-weight: bold\">&gt;</span>\n",
       "   <span style=\"font-weight: bold\">&lt;</span><span style=\"color: #800080\">/</span><span style=\"color: #ff00ff\">td</span><span style=\"font-weight: bold\">&gt;</span>\n",
       "   <span style=\"font-weight: bold\">&lt;</span><span style=\"color: #ff00ff; font-weight: bold\">td</span><span style=\"font-weight: bold\">&gt;</span>\n",
       "    <span style=\"font-weight: bold\">&lt;</span><span style=\"color: #ff00ff; font-weight: bold\">b</span><span style=\"font-weight: bold\">&gt;</span>\n",
       "     <span style=\"font-weight: bold\">&lt;</span><span style=\"color: #ff00ff; font-weight: bold\">a</span><span style=\"color: #000000\"> </span><span style=\"color: #808000\">class</span><span style=\"color: #000000\">=</span><span style=\"color: #008000\">\"windowTitle\"</span><span style=\"color: #000000\"> </span>\n",
       "<span style=\"color: #808000\">href</span><span style=\"color: #000000\">=</span><span style=\"color: #008000\">\"https://www.mobygames.com/browse/games/offset,25/so,2a/list-games/\"</span><span style=\"color: #000000\"> </span><span style=\"color: #808000\">title</span><span style=\"color: #000000\">=</span><span style=\"color: #008000\">\"Sort by </span>\n",
       "<span style=\"color: #008000\">Publisher\"</span><span style=\"font-weight: bold\">&gt;</span>\n",
       "      Publisher\n",
       "     <span style=\"font-weight: bold\">&lt;</span><span style=\"color: #800080\">/</span><span style=\"color: #ff00ff\">a</span><span style=\"font-weight: bold\">&gt;</span>\n",
       "    <span style=\"font-weight: bold\">&lt;</span><span style=\"color: #800080\">/</span><span style=\"color: #ff00ff\">b</span><span style=\"font-weight: bold\">&gt;</span>\n",
       "   <span style=\"font-weight: bold\">&lt;</span><span style=\"color: #800080\">/</span><span style=\"color: #ff00ff\">td</span><span style=\"font-weight: bold\">&gt;</span>\n",
       "   <span style=\"font-weight: bold\">&lt;</span><span style=\"color: #ff00ff; font-weight: bold\">td</span><span style=\"font-weight: bold\">&gt;</span>\n",
       "    <span style=\"font-weight: bold\">&lt;</span><span style=\"color: #ff00ff; font-weight: bold\">b</span><span style=\"font-weight: bold\">&gt;</span>\n",
       "     Genre\n",
       "    <span style=\"font-weight: bold\">&lt;</span><span style=\"color: #800080\">/</span><span style=\"color: #ff00ff\">b</span><span style=\"font-weight: bold\">&gt;</span>\n",
       "   <span style=\"font-weight: bold\">&lt;</span><span style=\"color: #800080\">/</span><span style=\"color: #ff00ff\">td</span><span style=\"font-weight: bold\">&gt;</span>\n",
       "   <span style=\"font-weight: bold\">&lt;</span><span style=\"color: #ff00ff; font-weight: bold\">td</span><span style=\"font-weight: bold\">&gt;</span>\n",
       "    <span style=\"font-weight: bold\">&lt;</span><span style=\"color: #ff00ff; font-weight: bold\">b</span><span style=\"font-weight: bold\">&gt;</span>\n",
       "     Platform\n",
       "    <span style=\"font-weight: bold\">&lt;</span><span style=\"color: #800080\">/</span><span style=\"color: #ff00ff\">b</span><span style=\"font-weight: bold\">&gt;</span>\n",
       "   <span style=\"font-weight: bold\">&lt;</span><span style=\"color: #800080\">/</span><span style=\"color: #ff00ff\">td</span><span style=\"font-weight: bold\">&gt;</span>\n",
       "  <span style=\"font-weight: bold\">&lt;</span><span style=\"color: #800080\">/</span><span style=\"color: #ff00ff\">tr</span><span style=\"font-weight: bold\">&gt;</span>\n",
       " <span style=\"font-weight: bold\">&lt;</span><span style=\"color: #800080\">/</span><span style=\"color: #ff00ff\">thead</span><span style=\"font-weight: bold\">&gt;</span>\n",
       " <span style=\"font-weight: bold\">&lt;</span><span style=\"color: #ff00ff; font-weight: bold\">tbody</span><span style=\"font-weight: bold\">&gt;</span>\n",
       "  <span style=\"font-weight: bold\">&lt;</span><span style=\"color: #ff00ff; font-weight: bold\">tr</span><span style=\"color: #000000\"> </span><span style=\"color: #808000\">valign</span><span style=\"color: #000000\">=</span><span style=\"color: #008000\">\"top\"</span><span style=\"font-weight: bold\">&gt;</span>\n",
       "   <span style=\"font-weight: bold\">&lt;</span><span style=\"color: #ff00ff; font-weight: bold\">td</span><span style=\"font-weight: bold\">&gt;</span>\n",
       "    <span style=\"font-weight: bold\">&lt;</span><span style=\"color: #ff00ff; font-weight: bold\">a</span><span style=\"color: #000000\"> </span><span style=\"color: #808000\">href</span><span style=\"color: #000000\">=</span><span style=\"color: #008000\">\"https://www.mobygames.com/game/007-quantum-of-solace\"</span><span style=\"font-weight: bold\">&gt;</span>\n",
       "     <span style=\"color: #000080; font-weight: bold\">007</span>: Quantum of Solace\n",
       "    <span style=\"font-weight: bold\">&lt;</span><span style=\"color: #800080\">/</span><span style=\"color: #ff00ff\">a</span><span style=\"font-weight: bold\">&gt;</span>\n",
       "   <span style=\"font-weight: bold\">&lt;</span><span style=\"color: #800080\">/</span><span style=\"color: #ff00ff\">td</span><span style=\"font-weight: bold\">&gt;</span>\n",
       "   <span style=\"font-weight: bold\">&lt;</span><span style=\"color: #ff00ff; font-weight: bold\">td</span><span style=\"font-weight: bold\">&gt;</span>\n",
       "    <span style=\"font-weight: bold\">&lt;</span><span style=\"color: #ff00ff; font-weight: bold\">a</span><span style=\"color: #000000\"> </span><span style=\"color: #808000\">href</span><span style=\"color: #000000\">=</span><span style=\"color: #008000\">\"https://www.mobygames.com/browse/games/2008/\"</span><span style=\"font-weight: bold\">&gt;</span>\n",
       "     <span style=\"color: #000080; font-weight: bold\">2008</span>\n",
       "    <span style=\"font-weight: bold\">&lt;</span><span style=\"color: #800080\">/</span><span style=\"color: #ff00ff\">a</span><span style=\"font-weight: bold\">&gt;</span>\n",
       "   <span style=\"font-weight: bold\">&lt;</span><span style=\"color: #800080\">/</span><span style=\"color: #ff00ff\">td</span><span style=\"font-weight: bold\">&gt;</span>\n",
       "   <span style=\"font-weight: bold\">&lt;</span><span style=\"color: #ff00ff; font-weight: bold\">td</span><span style=\"font-weight: bold\">&gt;</span>\n",
       "    <span style=\"font-weight: bold\">&lt;</span><span style=\"color: #ff00ff; font-weight: bold\">a</span><span style=\"color: #000000\"> </span><span style=\"color: #808000\">href</span><span style=\"color: #000000\">=</span><span style=\"color: #008000\">\"https://www.mobygames.com/company/activision-deutschland-gmbh\"</span><span style=\"font-weight: bold\">&gt;</span>\n",
       "     Activision Deutschland GmbH\n",
       "    <span style=\"font-weight: bold\">&lt;</span><span style=\"color: #800080\">/</span><span style=\"color: #ff00ff\">a</span><span style=\"font-weight: bold\">&gt;</span>\n",
       "    ,\n",
       "    <span style=\"font-weight: bold\">&lt;</span><span style=\"color: #ff00ff; font-weight: bold\">a</span><span style=\"color: #000000\"> </span><span style=\"color: #808000\">href</span><span style=\"color: #000000\">=</span><span style=\"color: #008000\">\"https://www.mobygames.com/company/activision-publishing-inc\"</span><span style=\"font-weight: bold\">&gt;</span>\n",
       "     Activision Publishing, Inc.\n",
       "    <span style=\"font-weight: bold\">&lt;</span><span style=\"color: #800080\">/</span><span style=\"color: #ff00ff\">a</span><span style=\"font-weight: bold\">&gt;</span>\n",
       "    ,\n",
       "    <span style=\"font-weight: bold\">&lt;</span><span style=\"color: #ff00ff; font-weight: bold\">a</span><span style=\"color: #000000\"> </span><span style=\"color: #808000\">href</span><span style=\"color: #000000\">=</span><span style=\"color: #008000\">\"https://www.mobygames.com/company/ak-tronic-software-services-gmbh\"</span><span style=\"font-weight: bold\">&gt;</span>\n",
       "     ak tronic Software &amp;amp; Services GmbH\n",
       "    <span style=\"font-weight: bold\">&lt;</span><span style=\"color: #800080\">/</span><span style=\"color: #ff00ff\">a</span><span style=\"font-weight: bold\">&gt;</span>\n",
       "    ,\n",
       "    <span style=\"font-weight: bold\">&lt;</span><span style=\"color: #ff00ff; font-weight: bold\">a</span><span style=\"color: #000000\"> </span><span style=\"color: #808000\">href</span><span style=\"color: #000000\">=</span><span style=\"color: #008000\">\"https://www.mobygames.com/company/noviy-disk\"</span><span style=\"font-weight: bold\">&gt;</span>\n",
       "     Noviy Disk\n",
       "    <span style=\"font-weight: bold\">&lt;</span><span style=\"color: #800080\">/</span><span style=\"color: #ff00ff\">a</span><span style=\"font-weight: bold\">&gt;</span>\n",
       "    ,\n",
       "    <span style=\"font-weight: bold\">&lt;</span><span style=\"color: #ff00ff; font-weight: bold\">a</span><span style=\"color: #000000\"> </span><span style=\"color: #808000\">href</span><span style=\"color: #000000\">=</span><span style=\"color: #008000\">\"https://www.mobygames.com/company/square-enix-co-ltd\"</span><span style=\"font-weight: bold\">&gt;</span>\n",
       "     Square Enix Co., Ltd.\n",
       "    <span style=\"font-weight: bold\">&lt;</span><span style=\"color: #800080\">/</span><span style=\"color: #ff00ff\">a</span><span style=\"font-weight: bold\">&gt;</span>\n",
       "   <span style=\"font-weight: bold\">&lt;</span><span style=\"color: #800080\">/</span><span style=\"color: #ff00ff\">td</span><span style=\"font-weight: bold\">&gt;</span>\n",
       "   <span style=\"font-weight: bold\">&lt;</span><span style=\"color: #ff00ff; font-weight: bold\">td</span><span style=\"font-weight: bold\">&gt;</span>\n",
       "    <span style=\"font-weight: bold\">&lt;</span><span style=\"color: #ff00ff; font-weight: bold\">a</span><span style=\"color: #000000\"> </span><span style=\"color: #808000\">href</span><span style=\"color: #000000\">=</span><span style=\"color: #008000\">\"https://www.mobygames.com/genre/sheet/action/\"</span><span style=\"font-weight: bold\">&gt;</span>\n",
       "     Action\n",
       "    <span style=\"font-weight: bold\">&lt;</span><span style=\"color: #800080\">/</span><span style=\"color: #ff00ff\">a</span><span style=\"font-weight: bold\">&gt;</span>\n",
       "   <span style=\"font-weight: bold\">&lt;</span><span style=\"color: #800080\">/</span><span style=\"color: #ff00ff\">td</span><span style=\"font-weight: bold\">&gt;</span>\n",
       "   <span style=\"font-weight: bold\">&lt;</span><span style=\"color: #ff00ff; font-weight: bold\">td</span><span style=\"font-weight: bold\">&gt;</span>\n",
       "    <span style=\"font-weight: bold\">&lt;</span><span style=\"color: #ff00ff; font-weight: bold\">a</span><span style=\"color: #000000\"> </span><span style=\"color: #808000\">href</span><span style=\"color: #000000\">=</span><span style=\"color: #008000\">\"https://www.mobygames.com/browse/games/ps3/\"</span><span style=\"font-weight: bold\">&gt;</span>\n",
       "     PlayStation <span style=\"color: #000080; font-weight: bold\">3</span>\n",
       "    <span style=\"font-weight: bold\">&lt;</span><span style=\"color: #800080\">/</span><span style=\"color: #ff00ff\">a</span><span style=\"font-weight: bold\">&gt;</span>\n",
       "    ,\n",
       "    <span style=\"font-weight: bold\">&lt;</span><span style=\"color: #ff00ff; font-weight: bold\">a</span><span style=\"color: #000000\"> </span><span style=\"color: #808000\">href</span><span style=\"color: #000000\">=</span><span style=\"color: #008000\">\"https://www.mobygames.com/browse/games/wii/\"</span><span style=\"font-weight: bold\">&gt;</span>\n",
       "     Wii\n",
       "    <span style=\"font-weight: bold\">&lt;</span><span style=\"color: #800080\">/</span><span style=\"color: #ff00ff\">a</span><span style=\"font-weight: bold\">&gt;</span>\n",
       "    ,\n",
       "    <span style=\"font-weight: bold\">&lt;</span><span style=\"color: #ff00ff; font-weight: bold\">a</span><span style=\"color: #000000\"> </span><span style=\"color: #808000\">href</span><span style=\"color: #000000\">=</span><span style=\"color: #008000\">\"https://www.mobygames.com/browse/games/windows/\"</span><span style=\"font-weight: bold\">&gt;</span>\n",
       "     Windows\n",
       "    <span style=\"font-weight: bold\">&lt;</span><span style=\"color: #800080\">/</span><span style=\"color: #ff00ff\">a</span><span style=\"font-weight: bold\">&gt;</span>\n",
       "    ,\n",
       "    <span style=\"font-weight: bold\">&lt;</span><span style=\"color: #ff00ff; font-weight: bold\">a</span><span style=\"color: #000000\"> </span><span style=\"color: #808000\">href</span><span style=\"color: #000000\">=</span><span style=\"color: #008000\">\"https://www.mobygames.com/browse/games/xbox360/\"</span><span style=\"font-weight: bold\">&gt;</span>\n",
       "     Xbox <span style=\"color: #000080; font-weight: bold\">360</span>\n",
       "    <span style=\"font-weight: bold\">&lt;</span><span style=\"color: #800080\">/</span><span style=\"color: #ff00ff\">a</span><span style=\"font-weight: bold\">&gt;</span>\n",
       "   <span style=\"font-weight: bold\">&lt;</span><span style=\"color: #800080\">/</span><span style=\"color: #ff00ff\">td</span><span style=\"font-weight: bold\">&gt;</span>\n",
       "  <span style=\"font-weight: bold\">&lt;</span><span style=\"color: #800080\">/</span><span style=\"color: #ff00ff\">tr</span><span style=\"font-weight: bold\">&gt;</span>\n",
       "  <span style=\"font-weight: bold\">&lt;</span><span style=\"color: #ff00ff; font-weight: bold\">tr</span><span style=\"color: #000000\"> </span><span style=\"color: #808000\">valign</span><span style=\"color: #000000\">=</span><span style=\"color: #008000\">\"top\"</span><span style=\"font-weight: bold\">&gt;</span>\n",
       "   <span style=\"font-weight: bold\">&lt;</span><span style=\"color: #ff00ff; font-weight: bold\">td</span><span style=\"font-weight: bold\">&gt;</span>\n",
       "    <span style=\"font-weight: bold\">&lt;</span><span style=\"color: #ff00ff; font-weight: bold\">a</span><span style=\"color: #000000\"> </span><span style=\"color: #808000\">href</span><span style=\"color: #000000\">=</span><span style=\"color: #008000\">\"https://www.mobygames.com/game/007-quantum-of-solace__\"</span><span style=\"font-weight: bold\">&gt;</span>\n",
       "     <span style=\"color: #000080; font-weight: bold\">007</span>: Quantum of Solace\n",
       "    <span style=\"font-weight: bold\">&lt;</span><span style=\"color: #800080\">/</span><span style=\"color: #ff00ff\">a</span><span style=\"font-weight: bold\">&gt;</span>\n",
       "   <span style=\"font-weight: bold\">&lt;</span><span style=\"color: #800080\">/</span><span style=\"color: #ff00ff\">td</span><span style=\"font-weight: bold\">&gt;</span>\n",
       "   <span style=\"font-weight: bold\">&lt;</span><span style=\"color: #ff00ff; font-weight: bold\">td</span><span style=\"font-weight: bold\">&gt;</span>\n",
       "    <span style=\"font-weight: bold\">&lt;</span><span style=\"color: #ff00ff; font-weight: bold\">a</span><span style=\"color: #000000\"> </span><span style=\"color: #808000\">href</span><span style=\"color: #000000\">=</span><span style=\"color: #008000\">\"https://www.mobygames.com/browse/games/2008/\"</span><span style=\"font-weight: bold\">&gt;</span>\n",
       "     <span style=\"color: #000080; font-weight: bold\">2008</span>\n",
       "    <span style=\"font-weight: bold\">&lt;</span><span style=\"color: #800080\">/</span><span style=\"color: #ff00ff\">a</span><span style=\"font-weight: bold\">&gt;</span>\n",
       "   <span style=\"font-weight: bold\">&lt;</span><span style=\"color: #800080\">/</span><span style=\"color: #ff00ff\">td</span><span style=\"font-weight: bold\">&gt;</span>\n",
       "   <span style=\"font-weight: bold\">&lt;</span><span style=\"color: #ff00ff; font-weight: bold\">td</span><span style=\"font-weight: bold\">&gt;</span>\n",
       "    <span style=\"font-weight: bold\">&lt;</span><span style=\"color: #ff00ff; font-weight: bold\">a</span><span style=\"color: #000000\"> </span><span style=\"color: #808000\">href</span><span style=\"color: #000000\">=</span><span style=\"color: #008000\">\"https://www.mobygames.com/company/activision-publishing-inc\"</span><span style=\"font-weight: bold\">&gt;</span>\n",
       "     Activision Publishing, Inc.\n",
       "    <span style=\"font-weight: bold\">&lt;</span><span style=\"color: #800080\">/</span><span style=\"color: #ff00ff\">a</span><span style=\"font-weight: bold\">&gt;</span>\n",
       "   <span style=\"font-weight: bold\">&lt;</span><span style=\"color: #800080\">/</span><span style=\"color: #ff00ff\">td</span><span style=\"font-weight: bold\">&gt;</span>\n",
       "   <span style=\"font-weight: bold\">&lt;</span><span style=\"color: #ff00ff; font-weight: bold\">td</span><span style=\"font-weight: bold\">&gt;</span>\n",
       "    <span style=\"font-weight: bold\">&lt;</span><span style=\"color: #ff00ff; font-weight: bold\">a</span><span style=\"color: #000000\"> </span><span style=\"color: #808000\">href</span><span style=\"color: #000000\">=</span><span style=\"color: #008000\">\"https://www.mobygames.com/genre/sheet/action/\"</span><span style=\"font-weight: bold\">&gt;</span>\n",
       "     Action\n",
       "    <span style=\"font-weight: bold\">&lt;</span><span style=\"color: #800080\">/</span><span style=\"color: #ff00ff\">a</span><span style=\"font-weight: bold\">&gt;</span>\n",
       "   <span style=\"font-weight: bold\">&lt;</span><span style=\"color: #800080\">/</span><span style=\"color: #ff00ff\">td</span><span style=\"font-weight: bold\">&gt;</span>\n",
       "   <span style=\"font-weight: bold\">&lt;</span><span style=\"color: #ff00ff; font-weight: bold\">td</span><span style=\"font-weight: bold\">&gt;</span>\n",
       "    <span style=\"font-weight: bold\">&lt;</span><span style=\"color: #ff00ff; font-weight: bold\">a</span><span style=\"color: #000000\"> </span><span style=\"color: #808000\">href</span><span style=\"color: #000000\">=</span><span style=\"color: #008000\">\"https://www.mobygames.com/browse/games/ps2/\"</span><span style=\"font-weight: bold\">&gt;</span>\n",
       "     PlayStation <span style=\"color: #000080; font-weight: bold\">2</span>\n",
       "    <span style=\"font-weight: bold\">&lt;</span><span style=\"color: #800080\">/</span><span style=\"color: #ff00ff\">a</span><span style=\"font-weight: bold\">&gt;</span>\n",
       "   <span style=\"font-weight: bold\">&lt;</span><span style=\"color: #800080\">/</span><span style=\"color: #ff00ff\">td</span><span style=\"font-weight: bold\">&gt;</span>\n",
       "  <span style=\"font-weight: bold\">&lt;</span><span style=\"color: #800080\">/</span><span style=\"color: #ff00ff\">tr</span><span style=\"font-weight: bold\">&gt;</span>\n",
       "  <span style=\"font-weight: bold\">&lt;</span><span style=\"color: #ff00ff; font-weight: bold\">tr</span><span style=\"color: #000000\"> </span><span style=\"color: #808000\">valign</span><span style=\"color: #000000\">=</span><span style=\"color: #008000\">\"top\"</span><span style=\"font-weight: bold\">&gt;</span>\n",
       "   <span style=\"font-weight: bold\">&lt;</span><span style=\"color: #ff00ff; font-weight: bold\">td</span><span style=\"font-weight: bold\">&gt;</span>\n",
       "    <span style=\"font-weight: bold\">&lt;</span><span style=\"color: #ff00ff; font-weight: bold\">a</span><span style=\"color: #000000\"> </span><span style=\"color: #808000\">href</span><span style=\"color: #000000\">=</span><span style=\"color: #008000\">\"https://www.mobygames.com/game/007-quantum-of-solace-collectors-edition\"</span><span style=\"font-weight: bold\">&gt;</span>\n",
       "     <span style=\"color: #000080; font-weight: bold\">007</span>: Quantum of Solace <span style=\"font-weight: bold\">(</span>Collector's Edition<span style=\"font-weight: bold\">)</span>\n",
       "    <span style=\"font-weight: bold\">&lt;</span><span style=\"color: #800080\">/</span><span style=\"color: #ff00ff\">a</span><span style=\"font-weight: bold\">&gt;</span>\n",
       "   <span style=\"font-weight: bold\">&lt;</span><span style=\"color: #800080\">/</span><span style=\"color: #ff00ff\">td</span><span style=\"font-weight: bold\">&gt;</span>\n",
       "   <span style=\"font-weight: bold\">&lt;</span><span style=\"color: #ff00ff; font-weight: bold\">td</span><span style=\"font-weight: bold\">&gt;</span>\n",
       "    <span style=\"font-weight: bold\">&lt;</span><span style=\"color: #ff00ff; font-weight: bold\">a</span><span style=\"color: #000000\"> </span><span style=\"color: #808000\">href</span><span style=\"color: #000000\">=</span><span style=\"color: #008000\">\"https://www.mobygames.com/browse/games/2008/\"</span><span style=\"font-weight: bold\">&gt;</span>\n",
       "     <span style=\"color: #000080; font-weight: bold\">2008</span>\n",
       "    <span style=\"font-weight: bold\">&lt;</span><span style=\"color: #800080\">/</span><span style=\"color: #ff00ff\">a</span><span style=\"font-weight: bold\">&gt;</span>\n",
       "   <span style=\"font-weight: bold\">&lt;</span><span style=\"color: #800080\">/</span><span style=\"color: #ff00ff\">td</span><span style=\"font-weight: bold\">&gt;</span>\n",
       "   <span style=\"font-weight: bold\">&lt;</span><span style=\"color: #ff00ff; font-weight: bold\">td</span><span style=\"font-weight: bold\">&gt;</span>\n",
       "    <span style=\"font-weight: bold\">&lt;</span><span style=\"color: #ff00ff; font-weight: bold\">a</span><span style=\"color: #000000\"> </span><span style=\"color: #808000\">href</span><span style=\"color: #000000\">=</span><span style=\"color: #008000\">\"https://www.mobygames.com/company/activision-publishing-inc\"</span><span style=\"font-weight: bold\">&gt;</span>\n",
       "     Activision Publishing, Inc.\n",
       "    <span style=\"font-weight: bold\">&lt;</span><span style=\"color: #800080\">/</span><span style=\"color: #ff00ff\">a</span><span style=\"font-weight: bold\">&gt;</span>\n",
       "   <span style=\"font-weight: bold\">&lt;</span><span style=\"color: #800080\">/</span><span style=\"color: #ff00ff\">td</span><span style=\"font-weight: bold\">&gt;</span>\n",
       "   <span style=\"font-weight: bold\">&lt;</span><span style=\"color: #ff00ff; font-weight: bold\">td</span><span style=\"font-weight: bold\">&gt;</span>\n",
       "    <span style=\"font-weight: bold\">&lt;</span><span style=\"color: #ff00ff; font-weight: bold\">a</span><span style=\"color: #000000\"> </span><span style=\"color: #808000\">href</span><span style=\"color: #000000\">=</span><span style=\"color: #008000\">\"https://www.mobygames.com/genre/sheet/special_edition/\"</span><span style=\"font-weight: bold\">&gt;</span>\n",
       "     Special edition\n",
       "    <span style=\"font-weight: bold\">&lt;</span><span style=\"color: #800080\">/</span><span style=\"color: #ff00ff\">a</span><span style=\"font-weight: bold\">&gt;</span>\n",
       "   <span style=\"font-weight: bold\">&lt;</span><span style=\"color: #800080\">/</span><span style=\"color: #ff00ff\">td</span><span style=\"font-weight: bold\">&gt;</span>\n",
       "   <span style=\"font-weight: bold\">&lt;</span><span style=\"color: #ff00ff; font-weight: bold\">td</span><span style=\"font-weight: bold\">&gt;</span>\n",
       "    <span style=\"font-weight: bold\">&lt;</span><span style=\"color: #ff00ff; font-weight: bold\">a</span><span style=\"color: #000000\"> </span><span style=\"color: #808000\">href</span><span style=\"color: #000000\">=</span><span style=\"color: #008000\">\"https://www.mobygames.com/browse/games/ps3/\"</span><span style=\"font-weight: bold\">&gt;</span>\n",
       "     PlayStation <span style=\"color: #000080; font-weight: bold\">3</span>\n",
       "    <span style=\"font-weight: bold\">&lt;</span><span style=\"color: #800080\">/</span><span style=\"color: #ff00ff\">a</span><span style=\"font-weight: bold\">&gt;</span>\n",
       "    ,\n",
       "    <span style=\"font-weight: bold\">&lt;</span><span style=\"color: #ff00ff; font-weight: bold\">a</span><span style=\"color: #000000\"> </span><span style=\"color: #808000\">href</span><span style=\"color: #000000\">=</span><span style=\"color: #008000\">\"https://www.mobygames.com/browse/games/xbox360/\"</span><span style=\"font-weight: bold\">&gt;</span>\n",
       "     Xbox <span style=\"color: #000080; font-weight: bold\">360</span>\n",
       "    <span style=\"font-weight: bold\">&lt;</span><span style=\"color: #800080\">/</span><span style=\"color: #ff00ff\">a</span><span style=\"font-weight: bold\">&gt;</span>\n",
       "   <span style=\"font-weight: bold\">&lt;</span><span style=\"color: #800080\">/</span><span style=\"color: #ff00ff\">td</span><span style=\"font-weight: bold\">&gt;</span>\n",
       "  <span style=\"font-weight: bold\">&lt;</span><span style=\"color: #800080\">/</span><span style=\"color: #ff00ff\">tr</span><span style=\"font-weight: bold\">&gt;</span>\n",
       "  <span style=\"font-weight: bold\">&lt;</span><span style=\"color: #ff00ff; font-weight: bold\">tr</span><span style=\"color: #000000\"> </span><span style=\"color: #808000\">valign</span><span style=\"color: #000000\">=</span><span style=\"color: #008000\">\"top\"</span><span style=\"font-weight: bold\">&gt;</span>\n",
       "   <span style=\"font-weight: bold\">&lt;</span><span style=\"color: #ff00ff; font-weight: bold\">td</span><span style=\"font-weight: bold\">&gt;</span>\n",
       "    <span style=\"font-weight: bold\">&lt;</span><span style=\"color: #ff00ff; font-weight: bold\">a</span><span style=\"color: #000000\"> </span><span style=\"color: #808000\">href</span><span style=\"color: #000000\">=</span><span style=\"color: #008000\">\"https://www.mobygames.com/game/007-racing\"</span><span style=\"font-weight: bold\">&gt;</span>\n",
       "     <span style=\"color: #000080; font-weight: bold\">007</span>: Racing\n",
       "    <span style=\"font-weight: bold\">&lt;</span><span style=\"color: #800080\">/</span><span style=\"color: #ff00ff\">a</span><span style=\"font-weight: bold\">&gt;</span>\n",
       "   <span style=\"font-weight: bold\">&lt;</span><span style=\"color: #800080\">/</span><span style=\"color: #ff00ff\">td</span><span style=\"font-weight: bold\">&gt;</span>\n",
       "   <span style=\"font-weight: bold\">&lt;</span><span style=\"color: #ff00ff; font-weight: bold\">td</span><span style=\"font-weight: bold\">&gt;</span>\n",
       "    <span style=\"font-weight: bold\">&lt;</span><span style=\"color: #ff00ff; font-weight: bold\">a</span><span style=\"color: #000000\"> </span><span style=\"color: #808000\">href</span><span style=\"color: #000000\">=</span><span style=\"color: #008000\">\"https://www.mobygames.com/browse/games/2000/\"</span><span style=\"font-weight: bold\">&gt;</span>\n",
       "     <span style=\"color: #000080; font-weight: bold\">2000</span>\n",
       "    <span style=\"font-weight: bold\">&lt;</span><span style=\"color: #800080\">/</span><span style=\"color: #ff00ff\">a</span><span style=\"font-weight: bold\">&gt;</span>\n",
       "   <span style=\"font-weight: bold\">&lt;</span><span style=\"color: #800080\">/</span><span style=\"color: #ff00ff\">td</span><span style=\"font-weight: bold\">&gt;</span>\n",
       "   <span style=\"font-weight: bold\">&lt;</span><span style=\"color: #ff00ff; font-weight: bold\">td</span><span style=\"font-weight: bold\">&gt;</span>\n",
       "    <span style=\"font-weight: bold\">&lt;</span><span style=\"color: #ff00ff; font-weight: bold\">a</span><span style=\"color: #000000\"> </span><span style=\"color: #808000\">href</span><span style=\"color: #000000\">=</span><span style=\"color: #008000\">\"https://www.mobygames.com/company/electronic-arts-inc\"</span><span style=\"font-weight: bold\">&gt;</span>\n",
       "     Electronic Arts, Inc.\n",
       "    <span style=\"font-weight: bold\">&lt;</span><span style=\"color: #800080\">/</span><span style=\"color: #ff00ff\">a</span><span style=\"font-weight: bold\">&gt;</span>\n",
       "   <span style=\"font-weight: bold\">&lt;</span><span style=\"color: #800080\">/</span><span style=\"color: #ff00ff\">td</span><span style=\"font-weight: bold\">&gt;</span>\n",
       "   <span style=\"font-weight: bold\">&lt;</span><span style=\"color: #ff00ff; font-weight: bold\">td</span><span style=\"font-weight: bold\">&gt;</span>\n",
       "    <span style=\"font-weight: bold\">&lt;</span><span style=\"color: #ff00ff; font-weight: bold\">a</span><span style=\"color: #000000\"> </span><span style=\"color: #808000\">href</span><span style=\"color: #000000\">=</span><span style=\"color: #008000\">\"https://www.mobygames.com/genre/sheet/action/\"</span><span style=\"font-weight: bold\">&gt;</span>\n",
       "     Action\n",
       "    <span style=\"font-weight: bold\">&lt;</span><span style=\"color: #800080\">/</span><span style=\"color: #ff00ff\">a</span><span style=\"font-weight: bold\">&gt;</span>\n",
       "    ,\n",
       "    <span style=\"font-weight: bold\">&lt;</span><span style=\"color: #ff00ff; font-weight: bold\">a</span><span style=\"color: #000000\"> </span><span style=\"color: #808000\">href</span><span style=\"color: #000000\">=</span><span style=\"color: #008000\">\"https://www.mobygames.com/genre/sheet/racing-driving/\"</span><span style=\"font-weight: bold\">&gt;</span>\n",
       "     Racing <span style=\"color: #800080\">/</span> driving\n",
       "    <span style=\"font-weight: bold\">&lt;</span><span style=\"color: #800080\">/</span><span style=\"color: #ff00ff\">a</span><span style=\"font-weight: bold\">&gt;</span>\n",
       "   <span style=\"font-weight: bold\">&lt;</span><span style=\"color: #800080\">/</span><span style=\"color: #ff00ff\">td</span><span style=\"font-weight: bold\">&gt;</span>\n",
       "   <span style=\"font-weight: bold\">&lt;</span><span style=\"color: #ff00ff; font-weight: bold\">td</span><span style=\"font-weight: bold\">&gt;</span>\n",
       "    <span style=\"font-weight: bold\">&lt;</span><span style=\"color: #ff00ff; font-weight: bold\">a</span><span style=\"color: #000000\"> </span><span style=\"color: #808000\">href</span><span style=\"color: #000000\">=</span><span style=\"color: #008000\">\"https://www.mobygames.com/browse/games/playstation/\"</span><span style=\"font-weight: bold\">&gt;</span>\n",
       "     PlayStation\n",
       "    <span style=\"font-weight: bold\">&lt;</span><span style=\"color: #800080\">/</span><span style=\"color: #ff00ff\">a</span><span style=\"font-weight: bold\">&gt;</span>\n",
       "   <span style=\"font-weight: bold\">&lt;</span><span style=\"color: #800080\">/</span><span style=\"color: #ff00ff\">td</span><span style=\"font-weight: bold\">&gt;</span>\n",
       "  <span style=\"font-weight: bold\">&lt;</span><span style=\"color: #800080\">/</span><span style=\"color: #ff00ff\">tr</span><span style=\"font-weight: bold\">&gt;</span>\n",
       "  <span style=\"font-weight: bold\">&lt;</span><span style=\"color: #ff00ff; font-weight: bold\">tr</span><span style=\"color: #000000\"> </span><span style=\"color: #808000\">valign</span><span style=\"color: #000000\">=</span><span style=\"color: #008000\">\"top\"</span><span style=\"font-weight: bold\">&gt;</span>\n",
       "   <span style=\"font-weight: bold\">&lt;</span><span style=\"color: #ff00ff; font-weight: bold\">td</span><span style=\"font-weight: bold\">&gt;</span>\n",
       "    <span style=\"font-weight: bold\">&lt;</span><span style=\"color: #ff00ff; font-weight: bold\">a</span><span style=\"color: #000000\"> </span><span style=\"color: #808000\">href</span><span style=\"color: #000000\">=</span><span style=\"color: #008000\">\"https://www.mobygames.com/game/007-the-world-is-not-enough__\"</span><span style=\"font-weight: bold\">&gt;</span>\n",
       "     <span style=\"color: #000080; font-weight: bold\">007</span>: The World is Not Enough\n",
       "    <span style=\"font-weight: bold\">&lt;</span><span style=\"color: #800080\">/</span><span style=\"color: #ff00ff\">a</span><span style=\"font-weight: bold\">&gt;</span>\n",
       "   <span style=\"font-weight: bold\">&lt;</span><span style=\"color: #800080\">/</span><span style=\"color: #ff00ff\">td</span><span style=\"font-weight: bold\">&gt;</span>\n",
       "   <span style=\"font-weight: bold\">&lt;</span><span style=\"color: #ff00ff; font-weight: bold\">td</span><span style=\"font-weight: bold\">&gt;</span>\n",
       "    <span style=\"font-weight: bold\">&lt;</span><span style=\"color: #ff00ff; font-weight: bold\">a</span><span style=\"color: #000000\"> </span><span style=\"color: #808000\">href</span><span style=\"color: #000000\">=</span><span style=\"color: #008000\">\"https://www.mobygames.com/browse/games/2001/\"</span><span style=\"font-weight: bold\">&gt;</span>\n",
       "     <span style=\"color: #000080; font-weight: bold\">2001</span>\n",
       "    <span style=\"font-weight: bold\">&lt;</span><span style=\"color: #800080\">/</span><span style=\"color: #ff00ff\">a</span><span style=\"font-weight: bold\">&gt;</span>\n",
       "   <span style=\"font-weight: bold\">&lt;</span><span style=\"color: #800080\">/</span><span style=\"color: #ff00ff\">td</span><span style=\"font-weight: bold\">&gt;</span>\n",
       "   <span style=\"font-weight: bold\">&lt;</span><span style=\"color: #ff00ff; font-weight: bold\">td</span><span style=\"font-weight: bold\">&gt;</span>\n",
       "    <span style=\"font-weight: bold\">&lt;</span><span style=\"color: #ff00ff; font-weight: bold\">a</span><span style=\"color: #000000\"> </span><span style=\"color: #808000\">href</span><span style=\"color: #000000\">=</span><span style=\"color: #008000\">\"https://www.mobygames.com/company/electronic-arts-inc\"</span><span style=\"font-weight: bold\">&gt;</span>\n",
       "     Electronic Arts, Inc.\n",
       "    <span style=\"font-weight: bold\">&lt;</span><span style=\"color: #800080\">/</span><span style=\"color: #ff00ff\">a</span><span style=\"font-weight: bold\">&gt;</span>\n",
       "   <span style=\"font-weight: bold\">&lt;</span><span style=\"color: #800080\">/</span><span style=\"color: #ff00ff\">td</span><span style=\"font-weight: bold\">&gt;</span>\n",
       "   <span style=\"font-weight: bold\">&lt;</span><span style=\"color: #ff00ff; font-weight: bold\">td</span><span style=\"font-weight: bold\">&gt;</span>\n",
       "    <span style=\"font-weight: bold\">&lt;</span><span style=\"color: #ff00ff; font-weight: bold\">a</span><span style=\"color: #000000\"> </span><span style=\"color: #808000\">href</span><span style=\"color: #000000\">=</span><span style=\"color: #008000\">\"https://www.mobygames.com/genre/sheet/action/\"</span><span style=\"font-weight: bold\">&gt;</span>\n",
       "     Action\n",
       "    <span style=\"font-weight: bold\">&lt;</span><span style=\"color: #800080\">/</span><span style=\"color: #ff00ff\">a</span><span style=\"font-weight: bold\">&gt;</span>\n",
       "   <span style=\"font-weight: bold\">&lt;</span><span style=\"color: #800080\">/</span><span style=\"color: #ff00ff\">td</span><span style=\"font-weight: bold\">&gt;</span>\n",
       "   <span style=\"font-weight: bold\">&lt;</span><span style=\"color: #ff00ff; font-weight: bold\">td</span><span style=\"font-weight: bold\">&gt;</span>\n",
       "    <span style=\"font-weight: bold\">&lt;</span><span style=\"color: #ff00ff; font-weight: bold\">a</span><span style=\"color: #000000\"> </span><span style=\"color: #808000\">href</span><span style=\"color: #000000\">=</span><span style=\"color: #008000\">\"https://www.mobygames.com/browse/games/gameboy-color/\"</span><span style=\"font-weight: bold\">&gt;</span>\n",
       "     Game Boy Color\n",
       "    <span style=\"font-weight: bold\">&lt;</span><span style=\"color: #800080\">/</span><span style=\"color: #ff00ff\">a</span><span style=\"font-weight: bold\">&gt;</span>\n",
       "   <span style=\"font-weight: bold\">&lt;</span><span style=\"color: #800080\">/</span><span style=\"color: #ff00ff\">td</span><span style=\"font-weight: bold\">&gt;</span>\n",
       "  <span style=\"font-weight: bold\">&lt;</span><span style=\"color: #800080\">/</span><span style=\"color: #ff00ff\">tr</span><span style=\"font-weight: bold\">&gt;</span>\n",
       "  <span style=\"font-weight: bold\">&lt;</span><span style=\"color: #ff00ff; font-weight: bold\">tr</span><span style=\"color: #000000\"> </span><span style=\"color: #808000\">valign</span><span style=\"color: #000000\">=</span><span style=\"color: #008000\">\"top\"</span><span style=\"font-weight: bold\">&gt;</span>\n",
       "   <span style=\"font-weight: bold\">&lt;</span><span style=\"color: #ff00ff; font-weight: bold\">td</span><span style=\"font-weight: bold\">&gt;</span>\n",
       "    <span style=\"font-weight: bold\">&lt;</span><span style=\"color: #ff00ff; font-weight: bold\">a</span><span style=\"color: #000000\"> </span><span style=\"color: #808000\">href</span><span style=\"color: #000000\">=</span><span style=\"color: #008000\">\"https://www.mobygames.com/game/007-the-world-is-not-enough\"</span><span style=\"font-weight: bold\">&gt;</span>\n",
       "     <span style=\"color: #000080; font-weight: bold\">007</span>: The World Is Not Enough\n",
       "    <span style=\"font-weight: bold\">&lt;</span><span style=\"color: #800080\">/</span><span style=\"color: #ff00ff\">a</span><span style=\"font-weight: bold\">&gt;</span>\n",
       "   <span style=\"font-weight: bold\">&lt;</span><span style=\"color: #800080\">/</span><span style=\"color: #ff00ff\">td</span><span style=\"font-weight: bold\">&gt;</span>\n",
       "   <span style=\"font-weight: bold\">&lt;</span><span style=\"color: #ff00ff; font-weight: bold\">td</span><span style=\"font-weight: bold\">&gt;</span>\n",
       "    <span style=\"font-weight: bold\">&lt;</span><span style=\"color: #ff00ff; font-weight: bold\">a</span><span style=\"color: #000000\"> </span><span style=\"color: #808000\">href</span><span style=\"color: #000000\">=</span><span style=\"color: #008000\">\"https://www.mobygames.com/browse/games/2000/\"</span><span style=\"font-weight: bold\">&gt;</span>\n",
       "     <span style=\"color: #000080; font-weight: bold\">2000</span>\n",
       "    <span style=\"font-weight: bold\">&lt;</span><span style=\"color: #800080\">/</span><span style=\"color: #ff00ff\">a</span><span style=\"font-weight: bold\">&gt;</span>\n",
       "   <span style=\"font-weight: bold\">&lt;</span><span style=\"color: #800080\">/</span><span style=\"color: #ff00ff\">td</span><span style=\"font-weight: bold\">&gt;</span>\n",
       "   <span style=\"font-weight: bold\">&lt;</span><span style=\"color: #ff00ff; font-weight: bold\">td</span><span style=\"font-weight: bold\">&gt;</span>\n",
       "    <span style=\"font-weight: bold\">&lt;</span><span style=\"color: #ff00ff; font-weight: bold\">a</span><span style=\"color: #000000\"> </span><span style=\"color: #808000\">href</span><span style=\"color: #000000\">=</span><span style=\"color: #008000\">\"https://www.mobygames.com/company/electronic-arts-inc\"</span><span style=\"font-weight: bold\">&gt;</span>\n",
       "     Electronic Arts, Inc.\n",
       "    <span style=\"font-weight: bold\">&lt;</span><span style=\"color: #800080\">/</span><span style=\"color: #ff00ff\">a</span><span style=\"font-weight: bold\">&gt;</span>\n",
       "   <span style=\"font-weight: bold\">&lt;</span><span style=\"color: #800080\">/</span><span style=\"color: #ff00ff\">td</span><span style=\"font-weight: bold\">&gt;</span>\n",
       "   <span style=\"font-weight: bold\">&lt;</span><span style=\"color: #ff00ff; font-weight: bold\">td</span><span style=\"font-weight: bold\">&gt;</span>\n",
       "    <span style=\"font-weight: bold\">&lt;</span><span style=\"color: #ff00ff; font-weight: bold\">a</span><span style=\"color: #000000\"> </span><span style=\"color: #808000\">href</span><span style=\"color: #000000\">=</span><span style=\"color: #008000\">\"https://www.mobygames.com/genre/sheet/action/\"</span><span style=\"font-weight: bold\">&gt;</span>\n",
       "     Action\n",
       "    <span style=\"font-weight: bold\">&lt;</span><span style=\"color: #800080\">/</span><span style=\"color: #ff00ff\">a</span><span style=\"font-weight: bold\">&gt;</span>\n",
       "   <span style=\"font-weight: bold\">&lt;</span><span style=\"color: #800080\">/</span><span style=\"color: #ff00ff\">td</span><span style=\"font-weight: bold\">&gt;</span>\n",
       "   <span style=\"font-weight: bold\">&lt;</span><span style=\"color: #ff00ff; font-weight: bold\">td</span><span style=\"font-weight: bold\">&gt;</span>\n",
       "    <span style=\"font-weight: bold\">&lt;</span><span style=\"color: #ff00ff; font-weight: bold\">a</span><span style=\"color: #000000\"> </span><span style=\"color: #808000\">href</span><span style=\"color: #000000\">=</span><span style=\"color: #008000\">\"https://www.mobygames.com/browse/games/n64/\"</span><span style=\"font-weight: bold\">&gt;</span>\n",
       "     Nintendo <span style=\"color: #000080; font-weight: bold\">64</span>\n",
       "    <span style=\"font-weight: bold\">&lt;</span><span style=\"color: #800080\">/</span><span style=\"color: #ff00ff\">a</span><span style=\"font-weight: bold\">&gt;</span>\n",
       "   <span style=\"font-weight: bold\">&lt;</span><span style=\"color: #800080\">/</span><span style=\"color: #ff00ff\">td</span><span style=\"font-weight: bold\">&gt;</span>\n",
       "  <span style=\"font-weight: bold\">&lt;</span><span style=\"color: #800080\">/</span><span style=\"color: #ff00ff\">tr</span><span style=\"font-weight: bold\">&gt;</span>\n",
       "  <span style=\"font-weight: bold\">&lt;</span><span style=\"color: #ff00ff; font-weight: bold\">tr</span><span style=\"color: #000000\"> </span><span style=\"color: #808000\">valign</span><span style=\"color: #000000\">=</span><span style=\"color: #008000\">\"top\"</span><span style=\"font-weight: bold\">&gt;</span>\n",
       "   <span style=\"font-weight: bold\">&lt;</span><span style=\"color: #ff00ff; font-weight: bold\">td</span><span style=\"font-weight: bold\">&gt;</span>\n",
       "    <span style=\"font-weight: bold\">&lt;</span><span style=\"color: #ff00ff; font-weight: bold\">a</span><span style=\"color: #000000\"> </span><span style=\"color: #808000\">href</span><span style=\"color: #000000\">=</span><span style=\"color: #008000\">\"https://www.mobygames.com/game/007-the-world-is-not-enough_\"</span><span style=\"font-weight: bold\">&gt;</span>\n",
       "     <span style=\"color: #000080; font-weight: bold\">007</span>: The World is Not Enough\n",
       "    <span style=\"font-weight: bold\">&lt;</span><span style=\"color: #800080\">/</span><span style=\"color: #ff00ff\">a</span><span style=\"font-weight: bold\">&gt;</span>\n",
       "   <span style=\"font-weight: bold\">&lt;</span><span style=\"color: #800080\">/</span><span style=\"color: #ff00ff\">td</span><span style=\"font-weight: bold\">&gt;</span>\n",
       "   <span style=\"font-weight: bold\">&lt;</span><span style=\"color: #ff00ff; font-weight: bold\">td</span><span style=\"font-weight: bold\">&gt;</span>\n",
       "    <span style=\"font-weight: bold\">&lt;</span><span style=\"color: #ff00ff; font-weight: bold\">a</span><span style=\"color: #000000\"> </span><span style=\"color: #808000\">href</span><span style=\"color: #000000\">=</span><span style=\"color: #008000\">\"https://www.mobygames.com/browse/games/2000/\"</span><span style=\"font-weight: bold\">&gt;</span>\n",
       "     <span style=\"color: #000080; font-weight: bold\">2000</span>\n",
       "    <span style=\"font-weight: bold\">&lt;</span><span style=\"color: #800080\">/</span><span style=\"color: #ff00ff\">a</span><span style=\"font-weight: bold\">&gt;</span>\n",
       "   <span style=\"font-weight: bold\">&lt;</span><span style=\"color: #800080\">/</span><span style=\"color: #ff00ff\">td</span><span style=\"font-weight: bold\">&gt;</span>\n",
       "   <span style=\"font-weight: bold\">&lt;</span><span style=\"color: #ff00ff; font-weight: bold\">td</span><span style=\"font-weight: bold\">&gt;</span>\n",
       "    <span style=\"font-weight: bold\">&lt;</span><span style=\"color: #ff00ff; font-weight: bold\">a</span><span style=\"color: #000000\"> </span><span style=\"color: #808000\">href</span><span style=\"color: #000000\">=</span><span style=\"color: #008000\">\"https://www.mobygames.com/company/electronic-arts-inc\"</span><span style=\"font-weight: bold\">&gt;</span>\n",
       "     Electronic Arts, Inc.\n",
       "    <span style=\"font-weight: bold\">&lt;</span><span style=\"color: #800080\">/</span><span style=\"color: #ff00ff\">a</span><span style=\"font-weight: bold\">&gt;</span>\n",
       "    ,\n",
       "    <span style=\"font-weight: bold\">&lt;</span><span style=\"color: #ff00ff; font-weight: bold\">a</span><span style=\"color: #000000\"> </span><span style=\"color: #808000\">href</span><span style=\"color: #000000\">=</span><span style=\"color: #008000\">\"https://www.mobygames.com/company/electronic-arts-ltd\"</span><span style=\"font-weight: bold\">&gt;</span>\n",
       "     Electronic Arts Ltd.\n",
       "    <span style=\"font-weight: bold\">&lt;</span><span style=\"color: #800080\">/</span><span style=\"color: #ff00ff\">a</span><span style=\"font-weight: bold\">&gt;</span>\n",
       "   <span style=\"font-weight: bold\">&lt;</span><span style=\"color: #800080\">/</span><span style=\"color: #ff00ff\">td</span><span style=\"font-weight: bold\">&gt;</span>\n",
       "   <span style=\"font-weight: bold\">&lt;</span><span style=\"color: #ff00ff; font-weight: bold\">td</span><span style=\"font-weight: bold\">&gt;</span>\n",
       "    <span style=\"font-weight: bold\">&lt;</span><span style=\"color: #ff00ff; font-weight: bold\">a</span><span style=\"color: #000000\"> </span><span style=\"color: #808000\">href</span><span style=\"color: #000000\">=</span><span style=\"color: #008000\">\"https://www.mobygames.com/genre/sheet/action/\"</span><span style=\"font-weight: bold\">&gt;</span>\n",
       "     Action\n",
       "    <span style=\"font-weight: bold\">&lt;</span><span style=\"color: #800080\">/</span><span style=\"color: #ff00ff\">a</span><span style=\"font-weight: bold\">&gt;</span>\n",
       "   <span style=\"font-weight: bold\">&lt;</span><span style=\"color: #800080\">/</span><span style=\"color: #ff00ff\">td</span><span style=\"font-weight: bold\">&gt;</span>\n",
       "   <span style=\"font-weight: bold\">&lt;</span><span style=\"color: #ff00ff; font-weight: bold\">td</span><span style=\"font-weight: bold\">&gt;</span>\n",
       "    <span style=\"font-weight: bold\">&lt;</span><span style=\"color: #ff00ff; font-weight: bold\">a</span><span style=\"color: #000000\"> </span><span style=\"color: #808000\">href</span><span style=\"color: #000000\">=</span><span style=\"color: #008000\">\"https://www.mobygames.com/browse/games/playstation/\"</span><span style=\"font-weight: bold\">&gt;</span>\n",
       "     PlayStation\n",
       "    <span style=\"font-weight: bold\">&lt;</span><span style=\"color: #800080\">/</span><span style=\"color: #ff00ff\">a</span><span style=\"font-weight: bold\">&gt;</span>\n",
       "   <span style=\"font-weight: bold\">&lt;</span><span style=\"color: #800080\">/</span><span style=\"color: #ff00ff\">td</span><span style=\"font-weight: bold\">&gt;</span>\n",
       "  <span style=\"font-weight: bold\">&lt;</span><span style=\"color: #800080\">/</span><span style=\"color: #ff00ff\">tr</span><span style=\"font-weight: bold\">&gt;</span>\n",
       "  <span style=\"font-weight: bold\">&lt;</span><span style=\"color: #ff00ff; font-weight: bold\">tr</span><span style=\"color: #000000\"> </span><span style=\"color: #808000\">valign</span><span style=\"color: #000000\">=</span><span style=\"color: #008000\">\"top\"</span><span style=\"font-weight: bold\">&gt;</span>\n",
       "   <span style=\"font-weight: bold\">&lt;</span><span style=\"color: #ff00ff; font-weight: bold\">td</span><span style=\"font-weight: bold\">&gt;</span>\n",
       "    <span style=\"font-weight: bold\">&lt;</span><span style=\"color: #ff00ff; font-weight: bold\">a</span><span style=\"color: #000000\"> </span><span style=\"color: #808000\">href</span><span style=\"color: #000000\">=</span><span style=\"color: #008000\">\"https://www.mobygames.com/game/007-tomorrow-never-dies\"</span><span style=\"font-weight: bold\">&gt;</span>\n",
       "     <span style=\"color: #000080; font-weight: bold\">007</span>: Tomorrow Never Dies\n",
       "    <span style=\"font-weight: bold\">&lt;</span><span style=\"color: #800080\">/</span><span style=\"color: #ff00ff\">a</span><span style=\"font-weight: bold\">&gt;</span>\n",
       "   <span style=\"font-weight: bold\">&lt;</span><span style=\"color: #800080\">/</span><span style=\"color: #ff00ff\">td</span><span style=\"font-weight: bold\">&gt;</span>\n",
       "   <span style=\"font-weight: bold\">&lt;</span><span style=\"color: #ff00ff; font-weight: bold\">td</span><span style=\"font-weight: bold\">&gt;</span>\n",
       "    <span style=\"font-weight: bold\">&lt;</span><span style=\"color: #ff00ff; font-weight: bold\">a</span><span style=\"color: #000000\"> </span><span style=\"color: #808000\">href</span><span style=\"color: #000000\">=</span><span style=\"color: #008000\">\"https://www.mobygames.com/browse/games/1999/\"</span><span style=\"font-weight: bold\">&gt;</span>\n",
       "     <span style=\"color: #000080; font-weight: bold\">1999</span>\n",
       "    <span style=\"font-weight: bold\">&lt;</span><span style=\"color: #800080\">/</span><span style=\"color: #ff00ff\">a</span><span style=\"font-weight: bold\">&gt;</span>\n",
       "   <span style=\"font-weight: bold\">&lt;</span><span style=\"color: #800080\">/</span><span style=\"color: #ff00ff\">td</span><span style=\"font-weight: bold\">&gt;</span>\n",
       "   <span style=\"font-weight: bold\">&lt;</span><span style=\"color: #ff00ff; font-weight: bold\">td</span><span style=\"font-weight: bold\">&gt;</span>\n",
       "    <span style=\"font-weight: bold\">&lt;</span><span style=\"color: #ff00ff; font-weight: bold\">a</span><span style=\"color: #000000\"> </span><span style=\"color: #808000\">href</span><span style=\"color: #000000\">=</span><span style=\"color: #008000\">\"https://www.mobygames.com/company/electronic-arts-inc\"</span><span style=\"font-weight: bold\">&gt;</span>\n",
       "     Electronic Arts, Inc.\n",
       "    <span style=\"font-weight: bold\">&lt;</span><span style=\"color: #800080\">/</span><span style=\"color: #ff00ff\">a</span><span style=\"font-weight: bold\">&gt;</span>\n",
       "    ,\n",
       "    <span style=\"font-weight: bold\">&lt;</span><span style=\"color: #ff00ff; font-weight: bold\">a</span><span style=\"color: #000000\"> </span><span style=\"color: #808000\">href</span><span style=\"color: #000000\">=</span><span style=\"color: #008000\">\"https://www.mobygames.com/company/electronic-arts-kk\"</span><span style=\"font-weight: bold\">&gt;</span>\n",
       "     Electronic Arts Square, K.K.\n",
       "    <span style=\"font-weight: bold\">&lt;</span><span style=\"color: #800080\">/</span><span style=\"color: #ff00ff\">a</span><span style=\"font-weight: bold\">&gt;</span>\n",
       "    ,\n",
       "    <span style=\"font-weight: bold\">&lt;</span><span style=\"color: #ff00ff; font-weight: bold\">a</span><span style=\"color: #000000\"> </span><span style=\"color: #808000\">href</span><span style=\"color: #000000\">=</span><span style=\"color: #008000\">\"https://www.mobygames.com/company/mgm-interactive\"</span><span style=\"font-weight: bold\">&gt;</span>\n",
       "     MGM Interactive\n",
       "    <span style=\"font-weight: bold\">&lt;</span><span style=\"color: #800080\">/</span><span style=\"color: #ff00ff\">a</span><span style=\"font-weight: bold\">&gt;</span>\n",
       "   <span style=\"font-weight: bold\">&lt;</span><span style=\"color: #800080\">/</span><span style=\"color: #ff00ff\">td</span><span style=\"font-weight: bold\">&gt;</span>\n",
       "   <span style=\"font-weight: bold\">&lt;</span><span style=\"color: #ff00ff; font-weight: bold\">td</span><span style=\"font-weight: bold\">&gt;</span>\n",
       "    <span style=\"font-weight: bold\">&lt;</span><span style=\"color: #ff00ff; font-weight: bold\">a</span><span style=\"color: #000000\"> </span><span style=\"color: #808000\">href</span><span style=\"color: #000000\">=</span><span style=\"color: #008000\">\"https://www.mobygames.com/genre/sheet/action/\"</span><span style=\"font-weight: bold\">&gt;</span>\n",
       "     Action\n",
       "    <span style=\"font-weight: bold\">&lt;</span><span style=\"color: #800080\">/</span><span style=\"color: #ff00ff\">a</span><span style=\"font-weight: bold\">&gt;</span>\n",
       "   <span style=\"font-weight: bold\">&lt;</span><span style=\"color: #800080\">/</span><span style=\"color: #ff00ff\">td</span><span style=\"font-weight: bold\">&gt;</span>\n",
       "   <span style=\"font-weight: bold\">&lt;</span><span style=\"color: #ff00ff; font-weight: bold\">td</span><span style=\"font-weight: bold\">&gt;</span>\n",
       "    <span style=\"font-weight: bold\">&lt;</span><span style=\"color: #ff00ff; font-weight: bold\">a</span><span style=\"color: #000000\"> </span><span style=\"color: #808000\">href</span><span style=\"color: #000000\">=</span><span style=\"color: #008000\">\"https://www.mobygames.com/browse/games/playstation/\"</span><span style=\"font-weight: bold\">&gt;</span>\n",
       "     PlayStation\n",
       "    <span style=\"font-weight: bold\">&lt;</span><span style=\"color: #800080\">/</span><span style=\"color: #ff00ff\">a</span><span style=\"font-weight: bold\">&gt;</span>\n",
       "   <span style=\"font-weight: bold\">&lt;</span><span style=\"color: #800080\">/</span><span style=\"color: #ff00ff\">td</span><span style=\"font-weight: bold\">&gt;</span>\n",
       "  <span style=\"font-weight: bold\">&lt;</span><span style=\"color: #800080\">/</span><span style=\"color: #ff00ff\">tr</span><span style=\"font-weight: bold\">&gt;</span>\n",
       "  <span style=\"font-weight: bold\">&lt;</span><span style=\"color: #ff00ff; font-weight: bold\">tr</span><span style=\"color: #000000\"> </span><span style=\"color: #808000\">valign</span><span style=\"color: #000000\">=</span><span style=\"color: #008000\">\"top\"</span><span style=\"font-weight: bold\">&gt;</span>\n",
       "   <span style=\"font-weight: bold\">&lt;</span><span style=\"color: #ff00ff; font-weight: bold\">td</span><span style=\"font-weight: bold\">&gt;</span>\n",
       "    <span style=\"font-weight: bold\">&lt;</span><span style=\"color: #ff00ff; font-weight: bold\">a</span><span style=\"color: #000000\"> </span><span style=\"color: #808000\">href</span><span style=\"color: #000000\">=</span><span style=\"color: #008000\">\"https://www.mobygames.com/game/03dot04\"</span><span style=\"font-weight: bold\">&gt;</span>\n",
       "     <span style=\"color: #000080; font-weight: bold\">03.04</span>\n",
       "    <span style=\"font-weight: bold\">&lt;</span><span style=\"color: #800080\">/</span><span style=\"color: #ff00ff\">a</span><span style=\"font-weight: bold\">&gt;</span>\n",
       "   <span style=\"font-weight: bold\">&lt;</span><span style=\"color: #800080\">/</span><span style=\"color: #ff00ff\">td</span><span style=\"font-weight: bold\">&gt;</span>\n",
       "   <span style=\"font-weight: bold\">&lt;</span><span style=\"color: #ff00ff; font-weight: bold\">td</span><span style=\"font-weight: bold\">&gt;</span>\n",
       "    <span style=\"font-weight: bold\">&lt;</span><span style=\"color: #ff00ff; font-weight: bold\">a</span><span style=\"color: #000000\"> </span><span style=\"color: #808000\">href</span><span style=\"color: #000000\">=</span><span style=\"color: #008000\">\"https://www.mobygames.com/browse/games/2019/\"</span><span style=\"font-weight: bold\">&gt;</span>\n",
       "     <span style=\"color: #000080; font-weight: bold\">2019</span>\n",
       "    <span style=\"font-weight: bold\">&lt;</span><span style=\"color: #800080\">/</span><span style=\"color: #ff00ff\">a</span><span style=\"font-weight: bold\">&gt;</span>\n",
       "   <span style=\"font-weight: bold\">&lt;</span><span style=\"color: #800080\">/</span><span style=\"color: #ff00ff\">td</span><span style=\"font-weight: bold\">&gt;</span>\n",
       "   <span style=\"font-weight: bold\">&lt;</span><span style=\"color: #ff00ff; font-weight: bold\">td</span><span style=\"font-weight: bold\">&gt;</span>\n",
       "    <span style=\"font-weight: bold\">&lt;</span><span style=\"color: #ff00ff; font-weight: bold\">a</span><span style=\"color: #000000\"> </span><span style=\"color: #808000\">href</span><span style=\"color: #000000\">=</span><span style=\"color: #008000\">\"https://www.mobygames.com/company/jpeg-of-pain-games\"</span><span style=\"font-weight: bold\">&gt;</span>\n",
       "     JPEG of Pain Games\n",
       "    <span style=\"font-weight: bold\">&lt;</span><span style=\"color: #800080\">/</span><span style=\"color: #ff00ff\">a</span><span style=\"font-weight: bold\">&gt;</span>\n",
       "   <span style=\"font-weight: bold\">&lt;</span><span style=\"color: #800080\">/</span><span style=\"color: #ff00ff\">td</span><span style=\"font-weight: bold\">&gt;</span>\n",
       "   <span style=\"font-weight: bold\">&lt;</span><span style=\"color: #ff00ff; font-weight: bold\">td</span><span style=\"font-weight: bold\">&gt;</span>\n",
       "    <span style=\"font-weight: bold\">&lt;</span><span style=\"color: #ff00ff; font-weight: bold\">a</span><span style=\"color: #000000\"> </span><span style=\"color: #808000\">href</span><span style=\"color: #000000\">=</span><span style=\"color: #008000\">\"https://www.mobygames.com/genre/sheet/action/\"</span><span style=\"font-weight: bold\">&gt;</span>\n",
       "     Action\n",
       "    <span style=\"font-weight: bold\">&lt;</span><span style=\"color: #800080\">/</span><span style=\"color: #ff00ff\">a</span><span style=\"font-weight: bold\">&gt;</span>\n",
       "   <span style=\"font-weight: bold\">&lt;</span><span style=\"color: #800080\">/</span><span style=\"color: #ff00ff\">td</span><span style=\"font-weight: bold\">&gt;</span>\n",
       "   <span style=\"font-weight: bold\">&lt;</span><span style=\"color: #ff00ff; font-weight: bold\">td</span><span style=\"font-weight: bold\">&gt;</span>\n",
       "    <span style=\"font-weight: bold\">&lt;</span><span style=\"color: #ff00ff; font-weight: bold\">a</span><span style=\"color: #000000\"> </span><span style=\"color: #808000\">href</span><span style=\"color: #000000\">=</span><span style=\"color: #008000\">\"https://www.mobygames.com/browse/games/windows/\"</span><span style=\"font-weight: bold\">&gt;</span>\n",
       "     Windows\n",
       "    <span style=\"font-weight: bold\">&lt;</span><span style=\"color: #800080\">/</span><span style=\"color: #ff00ff\">a</span><span style=\"font-weight: bold\">&gt;</span>\n",
       "   <span style=\"font-weight: bold\">&lt;</span><span style=\"color: #800080\">/</span><span style=\"color: #ff00ff\">td</span><span style=\"font-weight: bold\">&gt;</span>\n",
       "  <span style=\"font-weight: bold\">&lt;</span><span style=\"color: #800080\">/</span><span style=\"color: #ff00ff\">tr</span><span style=\"font-weight: bold\">&gt;</span>\n",
       "  <span style=\"font-weight: bold\">&lt;</span><span style=\"color: #ff00ff; font-weight: bold\">tr</span><span style=\"color: #000000\"> </span><span style=\"color: #808000\">valign</span><span style=\"color: #000000\">=</span><span style=\"color: #008000\">\"top\"</span><span style=\"font-weight: bold\">&gt;</span>\n",
       "   <span style=\"font-weight: bold\">&lt;</span><span style=\"color: #ff00ff; font-weight: bold\">td</span><span style=\"font-weight: bold\">&gt;</span>\n",
       "    <span style=\"font-weight: bold\">&lt;</span><span style=\"color: #ff00ff; font-weight: bold\">a</span><span style=\"color: #000000\"> </span><span style=\"color: #808000\">href</span><span style=\"color: #000000\">=</span><span style=\"color: #008000\">\"https://www.mobygames.com/game/07-zgo-si_\"</span><span style=\"font-weight: bold\">&gt;</span>\n",
       "     <span style=\"color: #000080; font-weight: bold\">07</span> Zgłoś Się\n",
       "    <span style=\"font-weight: bold\">&lt;</span><span style=\"color: #800080\">/</span><span style=\"color: #ff00ff\">a</span><span style=\"font-weight: bold\">&gt;</span>\n",
       "   <span style=\"font-weight: bold\">&lt;</span><span style=\"color: #800080\">/</span><span style=\"color: #ff00ff\">td</span><span style=\"font-weight: bold\">&gt;</span>\n",
       "   <span style=\"font-weight: bold\">&lt;</span><span style=\"color: #ff00ff; font-weight: bold\">td</span><span style=\"font-weight: bold\">&gt;</span>\n",
       "    <span style=\"font-weight: bold\">&lt;</span><span style=\"color: #ff00ff; font-weight: bold\">a</span><span style=\"color: #000000\"> </span><span style=\"color: #808000\">href</span><span style=\"color: #000000\">=</span><span style=\"color: #008000\">\"https://www.mobygames.com/browse/games/2017/\"</span><span style=\"font-weight: bold\">&gt;</span>\n",
       "     <span style=\"color: #000080; font-weight: bold\">2017</span>\n",
       "    <span style=\"font-weight: bold\">&lt;</span><span style=\"color: #800080\">/</span><span style=\"color: #ff00ff\">a</span><span style=\"font-weight: bold\">&gt;</span>\n",
       "   <span style=\"font-weight: bold\">&lt;</span><span style=\"color: #800080\">/</span><span style=\"color: #ff00ff\">td</span><span style=\"font-weight: bold\">&gt;</span>\n",
       "   <span style=\"font-weight: bold\">&lt;</span><span style=\"color: #ff00ff; font-weight: bold\">td</span><span style=\"font-weight: bold\">&gt;</span>\n",
       "    <span style=\"font-weight: bold\">&lt;</span><span style=\"color: #ff00ff; font-weight: bold\">a</span><span style=\"color: #000000\"> </span><span style=\"color: #808000\">href</span><span style=\"color: #000000\">=</span><span style=\"color: #008000\">\"https://www.mobygames.com/company/atarionlinepl\"</span><span style=\"font-weight: bold\">&gt;</span>\n",
       "     AtariOnline.pl\n",
       "    <span style=\"font-weight: bold\">&lt;</span><span style=\"color: #800080\">/</span><span style=\"color: #ff00ff\">a</span><span style=\"font-weight: bold\">&gt;</span>\n",
       "   <span style=\"font-weight: bold\">&lt;</span><span style=\"color: #800080\">/</span><span style=\"color: #ff00ff\">td</span><span style=\"font-weight: bold\">&gt;</span>\n",
       "   <span style=\"font-weight: bold\">&lt;</span><span style=\"color: #ff00ff; font-weight: bold\">td</span><span style=\"font-weight: bold\">&gt;</span>\n",
       "    <span style=\"font-weight: bold\">&lt;</span><span style=\"color: #ff00ff; font-weight: bold\">a</span><span style=\"color: #000000\"> </span><span style=\"color: #808000\">href</span><span style=\"color: #000000\">=</span><span style=\"color: #008000\">\"https://www.mobygames.com/genre/sheet/adventure/\"</span><span style=\"font-weight: bold\">&gt;</span>\n",
       "     Adventure\n",
       "    <span style=\"font-weight: bold\">&lt;</span><span style=\"color: #800080\">/</span><span style=\"color: #ff00ff\">a</span><span style=\"font-weight: bold\">&gt;</span>\n",
       "   <span style=\"font-weight: bold\">&lt;</span><span style=\"color: #800080\">/</span><span style=\"color: #ff00ff\">td</span><span style=\"font-weight: bold\">&gt;</span>\n",
       "   <span style=\"font-weight: bold\">&lt;</span><span style=\"color: #ff00ff; font-weight: bold\">td</span><span style=\"font-weight: bold\">&gt;</span>\n",
       "    <span style=\"font-weight: bold\">&lt;</span><span style=\"color: #ff00ff; font-weight: bold\">a</span><span style=\"color: #000000\"> </span><span style=\"color: #808000\">href</span><span style=\"color: #000000\">=</span><span style=\"color: #008000\">\"https://www.mobygames.com/browse/games/atari-8-bit/\"</span><span style=\"font-weight: bold\">&gt;</span>\n",
       "     Atari <span style=\"color: #000080; font-weight: bold\">8</span>-bit\n",
       "    <span style=\"font-weight: bold\">&lt;</span><span style=\"color: #800080\">/</span><span style=\"color: #ff00ff\">a</span><span style=\"font-weight: bold\">&gt;</span>\n",
       "   <span style=\"font-weight: bold\">&lt;</span><span style=\"color: #800080\">/</span><span style=\"color: #ff00ff\">td</span><span style=\"font-weight: bold\">&gt;</span>\n",
       "  <span style=\"font-weight: bold\">&lt;</span><span style=\"color: #800080\">/</span><span style=\"color: #ff00ff\">tr</span><span style=\"font-weight: bold\">&gt;</span>\n",
       "  <span style=\"font-weight: bold\">&lt;</span><span style=\"color: #ff00ff; font-weight: bold\">tr</span><span style=\"color: #000000\"> </span><span style=\"color: #808000\">valign</span><span style=\"color: #000000\">=</span><span style=\"color: #008000\">\"top\"</span><span style=\"font-weight: bold\">&gt;</span>\n",
       "   <span style=\"font-weight: bold\">&lt;</span><span style=\"color: #ff00ff; font-weight: bold\">td</span><span style=\"font-weight: bold\">&gt;</span>\n",
       "    <span style=\"font-weight: bold\">&lt;</span><span style=\"color: #ff00ff; font-weight: bold\">a</span><span style=\"color: #000000\"> </span><span style=\"color: #808000\">href</span><span style=\"color: #000000\">=</span><span style=\"color: #008000\">\"https://www.mobygames.com/game/07-zgo-si\"</span><span style=\"font-weight: bold\">&gt;</span>\n",
       "     <span style=\"color: #000080; font-weight: bold\">07</span> Zgłoś Się\n",
       "    <span style=\"font-weight: bold\">&lt;</span><span style=\"color: #800080\">/</span><span style=\"color: #ff00ff\">a</span><span style=\"font-weight: bold\">&gt;</span>\n",
       "   <span style=\"font-weight: bold\">&lt;</span><span style=\"color: #800080\">/</span><span style=\"color: #ff00ff\">td</span><span style=\"font-weight: bold\">&gt;</span>\n",
       "   <span style=\"font-weight: bold\">&lt;</span><span style=\"color: #ff00ff; font-weight: bold\">td</span><span style=\"font-weight: bold\">&gt;</span>\n",
       "    <span style=\"font-weight: bold\">&lt;</span><span style=\"color: #ff00ff; font-weight: bold\">a</span><span style=\"color: #000000\"> </span><span style=\"color: #808000\">href</span><span style=\"color: #000000\">=</span><span style=\"color: #008000\">\"https://www.mobygames.com/browse/games/1993/\"</span><span style=\"font-weight: bold\">&gt;</span>\n",
       "     <span style=\"color: #000080; font-weight: bold\">1993</span>\n",
       "    <span style=\"font-weight: bold\">&lt;</span><span style=\"color: #800080\">/</span><span style=\"color: #ff00ff\">a</span><span style=\"font-weight: bold\">&gt;</span>\n",
       "   <span style=\"font-weight: bold\">&lt;</span><span style=\"color: #800080\">/</span><span style=\"color: #ff00ff\">td</span><span style=\"font-weight: bold\">&gt;</span>\n",
       "   <span style=\"font-weight: bold\">&lt;</span><span style=\"color: #ff00ff; font-weight: bold\">td</span><span style=\"font-weight: bold\">&gt;</span>\n",
       "   <span style=\"font-weight: bold\">&lt;</span><span style=\"color: #800080\">/</span><span style=\"color: #ff00ff\">td</span><span style=\"font-weight: bold\">&gt;</span>\n",
       "   <span style=\"font-weight: bold\">&lt;</span><span style=\"color: #ff00ff; font-weight: bold\">td</span><span style=\"font-weight: bold\">&gt;</span>\n",
       "    <span style=\"font-weight: bold\">&lt;</span><span style=\"color: #ff00ff; font-weight: bold\">a</span><span style=\"color: #000000\"> </span><span style=\"color: #808000\">href</span><span style=\"color: #000000\">=</span><span style=\"color: #008000\">\"https://www.mobygames.com/genre/sheet/adventure/\"</span><span style=\"font-weight: bold\">&gt;</span>\n",
       "     Adventure\n",
       "    <span style=\"font-weight: bold\">&lt;</span><span style=\"color: #800080\">/</span><span style=\"color: #ff00ff\">a</span><span style=\"font-weight: bold\">&gt;</span>\n",
       "   <span style=\"font-weight: bold\">&lt;</span><span style=\"color: #800080\">/</span><span style=\"color: #ff00ff\">td</span><span style=\"font-weight: bold\">&gt;</span>\n",
       "   <span style=\"font-weight: bold\">&lt;</span><span style=\"color: #ff00ff; font-weight: bold\">td</span><span style=\"font-weight: bold\">&gt;</span>\n",
       "    <span style=\"font-weight: bold\">&lt;</span><span style=\"color: #ff00ff; font-weight: bold\">a</span><span style=\"color: #000000\"> </span><span style=\"color: #808000\">href</span><span style=\"color: #000000\">=</span><span style=\"color: #008000\">\"https://www.mobygames.com/browse/games/zx-spectrum/\"</span><span style=\"font-weight: bold\">&gt;</span>\n",
       "     ZX Spectrum\n",
       "    <span style=\"font-weight: bold\">&lt;</span><span style=\"color: #800080\">/</span><span style=\"color: #ff00ff\">a</span><span style=\"font-weight: bold\">&gt;</span>\n",
       "   <span style=\"font-weight: bold\">&lt;</span><span style=\"color: #800080\">/</span><span style=\"color: #ff00ff\">td</span><span style=\"font-weight: bold\">&gt;</span>\n",
       "  <span style=\"font-weight: bold\">&lt;</span><span style=\"color: #800080\">/</span><span style=\"color: #ff00ff\">tr</span><span style=\"font-weight: bold\">&gt;</span>\n",
       "  <span style=\"font-weight: bold\">&lt;</span><span style=\"color: #ff00ff; font-weight: bold\">tr</span><span style=\"color: #000000\"> </span><span style=\"color: #808000\">valign</span><span style=\"color: #000000\">=</span><span style=\"color: #008000\">\"top\"</span><span style=\"font-weight: bold\">&gt;</span>\n",
       "   <span style=\"font-weight: bold\">&lt;</span><span style=\"color: #ff00ff; font-weight: bold\">td</span><span style=\"font-weight: bold\">&gt;</span>\n",
       "    <span style=\"font-weight: bold\">&lt;</span><span style=\"color: #ff00ff; font-weight: bold\">a</span><span style=\"color: #000000\"> </span><span style=\"color: #808000\">href</span><span style=\"color: #000000\">=</span><span style=\"color: #008000\">\"https://www.mobygames.com/game/07-zgo-si-collectors-edition\"</span><span style=\"font-weight: bold\">&gt;</span>\n",
       "     <span style=\"color: #000080; font-weight: bold\">07</span> Zgłoś Się: Collector's Edition\n",
       "    <span style=\"font-weight: bold\">&lt;</span><span style=\"color: #800080\">/</span><span style=\"color: #ff00ff\">a</span><span style=\"font-weight: bold\">&gt;</span>\n",
       "   <span style=\"font-weight: bold\">&lt;</span><span style=\"color: #800080\">/</span><span style=\"color: #ff00ff\">td</span><span style=\"font-weight: bold\">&gt;</span>\n",
       "   <span style=\"font-weight: bold\">&lt;</span><span style=\"color: #ff00ff; font-weight: bold\">td</span><span style=\"font-weight: bold\">&gt;</span>\n",
       "    <span style=\"font-weight: bold\">&lt;</span><span style=\"color: #ff00ff; font-weight: bold\">a</span><span style=\"color: #000000\"> </span><span style=\"color: #808000\">href</span><span style=\"color: #000000\">=</span><span style=\"color: #008000\">\"https://www.mobygames.com/browse/games/2017/\"</span><span style=\"font-weight: bold\">&gt;</span>\n",
       "     <span style=\"color: #000080; font-weight: bold\">2017</span>\n",
       "    <span style=\"font-weight: bold\">&lt;</span><span style=\"color: #800080\">/</span><span style=\"color: #ff00ff\">a</span><span style=\"font-weight: bold\">&gt;</span>\n",
       "   <span style=\"font-weight: bold\">&lt;</span><span style=\"color: #800080\">/</span><span style=\"color: #ff00ff\">td</span><span style=\"font-weight: bold\">&gt;</span>\n",
       "   <span style=\"font-weight: bold\">&lt;</span><span style=\"color: #ff00ff; font-weight: bold\">td</span><span style=\"font-weight: bold\">&gt;</span>\n",
       "    <span style=\"font-weight: bold\">&lt;</span><span style=\"color: #ff00ff; font-weight: bold\">a</span><span style=\"color: #000000\"> </span><span style=\"color: #808000\">href</span><span style=\"color: #000000\">=</span><span style=\"color: #008000\">\"https://www.mobygames.com/company/retronics\"</span><span style=\"font-weight: bold\">&gt;</span>\n",
       "     Retronics\n",
       "    <span style=\"font-weight: bold\">&lt;</span><span style=\"color: #800080\">/</span><span style=\"color: #ff00ff\">a</span><span style=\"font-weight: bold\">&gt;</span>\n",
       "   <span style=\"font-weight: bold\">&lt;</span><span style=\"color: #800080\">/</span><span style=\"color: #ff00ff\">td</span><span style=\"font-weight: bold\">&gt;</span>\n",
       "   <span style=\"font-weight: bold\">&lt;</span><span style=\"color: #ff00ff; font-weight: bold\">td</span><span style=\"font-weight: bold\">&gt;</span>\n",
       "    <span style=\"font-weight: bold\">&lt;</span><span style=\"color: #ff00ff; font-weight: bold\">a</span><span style=\"color: #000000\"> </span><span style=\"color: #808000\">href</span><span style=\"color: #000000\">=</span><span style=\"color: #008000\">\"https://www.mobygames.com/genre/sheet/adventure/\"</span><span style=\"font-weight: bold\">&gt;</span>\n",
       "     Adventure\n",
       "    <span style=\"font-weight: bold\">&lt;</span><span style=\"color: #800080\">/</span><span style=\"color: #ff00ff\">a</span><span style=\"font-weight: bold\">&gt;</span>\n",
       "   <span style=\"font-weight: bold\">&lt;</span><span style=\"color: #800080\">/</span><span style=\"color: #ff00ff\">td</span><span style=\"font-weight: bold\">&gt;</span>\n",
       "   <span style=\"font-weight: bold\">&lt;</span><span style=\"color: #ff00ff; font-weight: bold\">td</span><span style=\"font-weight: bold\">&gt;</span>\n",
       "    <span style=\"font-weight: bold\">&lt;</span><span style=\"color: #ff00ff; font-weight: bold\">a</span><span style=\"color: #000000\"> </span><span style=\"color: #808000\">href</span><span style=\"color: #000000\">=</span><span style=\"color: #008000\">\"https://www.mobygames.com/browse/games/atari-8-bit/\"</span><span style=\"font-weight: bold\">&gt;</span>\n",
       "     Atari <span style=\"color: #000080; font-weight: bold\">8</span>-bit\n",
       "    <span style=\"font-weight: bold\">&lt;</span><span style=\"color: #800080\">/</span><span style=\"color: #ff00ff\">a</span><span style=\"font-weight: bold\">&gt;</span>\n",
       "   <span style=\"font-weight: bold\">&lt;</span><span style=\"color: #800080\">/</span><span style=\"color: #ff00ff\">td</span><span style=\"font-weight: bold\">&gt;</span>\n",
       "  <span style=\"font-weight: bold\">&lt;</span><span style=\"color: #800080\">/</span><span style=\"color: #ff00ff\">tr</span><span style=\"font-weight: bold\">&gt;</span>\n",
       "  <span style=\"font-weight: bold\">&lt;</span><span style=\"color: #ff00ff; font-weight: bold\">tr</span><span style=\"color: #000000\"> </span><span style=\"color: #808000\">valign</span><span style=\"color: #000000\">=</span><span style=\"color: #008000\">\"top\"</span><span style=\"font-weight: bold\">&gt;</span>\n",
       "   <span style=\"font-weight: bold\">&lt;</span><span style=\"color: #ff00ff; font-weight: bold\">td</span><span style=\"font-weight: bold\">&gt;</span>\n",
       "    <span style=\"font-weight: bold\">&lt;</span><span style=\"color: #ff00ff; font-weight: bold\">a</span><span style=\"color: #000000\"> </span><span style=\"color: #808000\">href</span><span style=\"color: #000000\">=</span><span style=\"color: #008000\">\"https://www.mobygames.com/game/0-and-x\"</span><span style=\"font-weight: bold\">&gt;</span>\n",
       "     <span style=\"color: #000080; font-weight: bold\">0</span> and x\n",
       "    <span style=\"font-weight: bold\">&lt;</span><span style=\"color: #800080\">/</span><span style=\"color: #ff00ff\">a</span><span style=\"font-weight: bold\">&gt;</span>\n",
       "   <span style=\"font-weight: bold\">&lt;</span><span style=\"color: #800080\">/</span><span style=\"color: #ff00ff\">td</span><span style=\"font-weight: bold\">&gt;</span>\n",
       "   <span style=\"font-weight: bold\">&lt;</span><span style=\"color: #ff00ff; font-weight: bold\">td</span><span style=\"font-weight: bold\">&gt;</span>\n",
       "    <span style=\"font-weight: bold\">&lt;</span><span style=\"color: #ff00ff; font-weight: bold\">a</span><span style=\"color: #000000\"> </span><span style=\"color: #808000\">href</span><span style=\"color: #000000\">=</span><span style=\"color: #008000\">\"https://www.mobygames.com/browse/games/1986/\"</span><span style=\"font-weight: bold\">&gt;</span>\n",
       "     <span style=\"color: #000080; font-weight: bold\">1986</span>\n",
       "    <span style=\"font-weight: bold\">&lt;</span><span style=\"color: #800080\">/</span><span style=\"color: #ff00ff\">a</span><span style=\"font-weight: bold\">&gt;</span>\n",
       "   <span style=\"font-weight: bold\">&lt;</span><span style=\"color: #800080\">/</span><span style=\"color: #ff00ff\">td</span><span style=\"font-weight: bold\">&gt;</span>\n",
       "   <span style=\"font-weight: bold\">&lt;</span><span style=\"color: #ff00ff; font-weight: bold\">td</span><span style=\"font-weight: bold\">&gt;</span>\n",
       "    <span style=\"font-weight: bold\">&lt;</span><span style=\"color: #ff00ff; font-weight: bold\">a</span><span style=\"color: #000000\"> </span><span style=\"color: #808000\">href</span><span style=\"color: #000000\">=</span><span style=\"color: #008000\">\"https://www.mobygames.com/company/robtek-ltd\"</span><span style=\"font-weight: bold\">&gt;</span>\n",
       "     Robtek Ltd.\n",
       "    <span style=\"font-weight: bold\">&lt;</span><span style=\"color: #800080\">/</span><span style=\"color: #ff00ff\">a</span><span style=\"font-weight: bold\">&gt;</span>\n",
       "   <span style=\"font-weight: bold\">&lt;</span><span style=\"color: #800080\">/</span><span style=\"color: #ff00ff\">td</span><span style=\"font-weight: bold\">&gt;</span>\n",
       "   <span style=\"font-weight: bold\">&lt;</span><span style=\"color: #ff00ff; font-weight: bold\">td</span><span style=\"font-weight: bold\">&gt;</span>\n",
       "    <span style=\"font-weight: bold\">&lt;</span><span style=\"color: #ff00ff; font-weight: bold\">a</span><span style=\"color: #000000\"> </span><span style=\"color: #808000\">href</span><span style=\"color: #000000\">=</span><span style=\"color: #008000\">\"https://www.mobygames.com/genre/sheet/strategy/\"</span><span style=\"font-weight: bold\">&gt;</span>\n",
       "     Strategy <span style=\"color: #800080\">/</span> tactics\n",
       "    <span style=\"font-weight: bold\">&lt;</span><span style=\"color: #800080\">/</span><span style=\"color: #ff00ff\">a</span><span style=\"font-weight: bold\">&gt;</span>\n",
       "   <span style=\"font-weight: bold\">&lt;</span><span style=\"color: #800080\">/</span><span style=\"color: #ff00ff\">td</span><span style=\"font-weight: bold\">&gt;</span>\n",
       "   <span style=\"font-weight: bold\">&lt;</span><span style=\"color: #ff00ff; font-weight: bold\">td</span><span style=\"font-weight: bold\">&gt;</span>\n",
       "    <span style=\"font-weight: bold\">&lt;</span><span style=\"color: #ff00ff; font-weight: bold\">a</span><span style=\"color: #000000\"> </span><span style=\"color: #808000\">href</span><span style=\"color: #000000\">=</span><span style=\"color: #008000\">\"https://www.mobygames.com/browse/games/commodore-16-plus4/\"</span><span style=\"font-weight: bold\">&gt;</span>\n",
       "     Commodore <span style=\"color: #000080; font-weight: bold\">16</span>, Plus/<span style=\"color: #000080; font-weight: bold\">4</span>\n",
       "    <span style=\"font-weight: bold\">&lt;</span><span style=\"color: #800080\">/</span><span style=\"color: #ff00ff\">a</span><span style=\"font-weight: bold\">&gt;</span>\n",
       "    ,\n",
       "    <span style=\"font-weight: bold\">&lt;</span><span style=\"color: #ff00ff; font-weight: bold\">a</span><span style=\"color: #000000\"> </span><span style=\"color: #808000\">href</span><span style=\"color: #000000\">=</span><span style=\"color: #008000\">\"https://www.mobygames.com/browse/games/c64/\"</span><span style=\"font-weight: bold\">&gt;</span>\n",
       "     Commodore <span style=\"color: #000080; font-weight: bold\">64</span>\n",
       "    <span style=\"font-weight: bold\">&lt;</span><span style=\"color: #800080\">/</span><span style=\"color: #ff00ff\">a</span><span style=\"font-weight: bold\">&gt;</span>\n",
       "   <span style=\"font-weight: bold\">&lt;</span><span style=\"color: #800080\">/</span><span style=\"color: #ff00ff\">td</span><span style=\"font-weight: bold\">&gt;</span>\n",
       "  <span style=\"font-weight: bold\">&lt;</span><span style=\"color: #800080\">/</span><span style=\"color: #ff00ff\">tr</span><span style=\"font-weight: bold\">&gt;</span>\n",
       "  <span style=\"font-weight: bold\">&lt;</span><span style=\"color: #ff00ff; font-weight: bold\">tr</span><span style=\"color: #000000\"> </span><span style=\"color: #808000\">valign</span><span style=\"color: #000000\">=</span><span style=\"color: #008000\">\"top\"</span><span style=\"font-weight: bold\">&gt;</span>\n",
       "   <span style=\"font-weight: bold\">&lt;</span><span style=\"color: #ff00ff; font-weight: bold\">td</span><span style=\"font-weight: bold\">&gt;</span>\n",
       "    <span style=\"font-weight: bold\">&lt;</span><span style=\"color: #ff00ff; font-weight: bold\">a</span><span style=\"color: #000000\"> </span><span style=\"color: #808000\">href</span><span style=\"color: #000000\">=</span><span style=\"color: #008000\">\"https://www.mobygames.com/game/0-day\"</span><span style=\"font-weight: bold\">&gt;</span>\n",
       "     <span style=\"color: #000080; font-weight: bold\">0</span> Day\n",
       "    <span style=\"font-weight: bold\">&lt;</span><span style=\"color: #800080\">/</span><span style=\"color: #ff00ff\">a</span><span style=\"font-weight: bold\">&gt;</span>\n",
       "   <span style=\"font-weight: bold\">&lt;</span><span style=\"color: #800080\">/</span><span style=\"color: #ff00ff\">td</span><span style=\"font-weight: bold\">&gt;</span>\n",
       "   <span style=\"font-weight: bold\">&lt;</span><span style=\"color: #ff00ff; font-weight: bold\">td</span><span style=\"font-weight: bold\">&gt;</span>\n",
       "    <span style=\"font-weight: bold\">&lt;</span><span style=\"color: #ff00ff; font-weight: bold\">a</span><span style=\"color: #000000\"> </span><span style=\"color: #808000\">href</span><span style=\"color: #000000\">=</span><span style=\"color: #008000\">\"https://www.mobygames.com/browse/games/2016/\"</span><span style=\"font-weight: bold\">&gt;</span>\n",
       "     <span style=\"color: #000080; font-weight: bold\">2016</span>\n",
       "    <span style=\"font-weight: bold\">&lt;</span><span style=\"color: #800080\">/</span><span style=\"color: #ff00ff\">a</span><span style=\"font-weight: bold\">&gt;</span>\n",
       "   <span style=\"font-weight: bold\">&lt;</span><span style=\"color: #800080\">/</span><span style=\"color: #ff00ff\">td</span><span style=\"font-weight: bold\">&gt;</span>\n",
       "   <span style=\"font-weight: bold\">&lt;</span><span style=\"color: #ff00ff; font-weight: bold\">td</span><span style=\"font-weight: bold\">&gt;</span>\n",
       "    <span style=\"font-weight: bold\">&lt;</span><span style=\"color: #ff00ff; font-weight: bold\">a</span><span style=\"color: #000000\"> </span><span style=\"color: #808000\">href</span><span style=\"color: #000000\">=</span><span style=\"color: #008000\">\"https://www.mobygames.com/company/zero-day-games\"</span><span style=\"font-weight: bold\">&gt;</span>\n",
       "     Zero Day Games\n",
       "    <span style=\"font-weight: bold\">&lt;</span><span style=\"color: #800080\">/</span><span style=\"color: #ff00ff\">a</span><span style=\"font-weight: bold\">&gt;</span>\n",
       "   <span style=\"font-weight: bold\">&lt;</span><span style=\"color: #800080\">/</span><span style=\"color: #ff00ff\">td</span><span style=\"font-weight: bold\">&gt;</span>\n",
       "   <span style=\"font-weight: bold\">&lt;</span><span style=\"color: #ff00ff; font-weight: bold\">td</span><span style=\"font-weight: bold\">&gt;</span>\n",
       "    <span style=\"font-weight: bold\">&lt;</span><span style=\"color: #ff00ff; font-weight: bold\">a</span><span style=\"color: #000000\"> </span><span style=\"color: #808000\">href</span><span style=\"color: #000000\">=</span><span style=\"color: #008000\">\"https://www.mobygames.com/genre/sheet/action/\"</span><span style=\"font-weight: bold\">&gt;</span>\n",
       "     Action\n",
       "    <span style=\"font-weight: bold\">&lt;</span><span style=\"color: #800080\">/</span><span style=\"color: #ff00ff\">a</span><span style=\"font-weight: bold\">&gt;</span>\n",
       "   <span style=\"font-weight: bold\">&lt;</span><span style=\"color: #800080\">/</span><span style=\"color: #ff00ff\">td</span><span style=\"font-weight: bold\">&gt;</span>\n",
       "   <span style=\"font-weight: bold\">&lt;</span><span style=\"color: #ff00ff; font-weight: bold\">td</span><span style=\"font-weight: bold\">&gt;</span>\n",
       "    <span style=\"font-weight: bold\">&lt;</span><span style=\"color: #ff00ff; font-weight: bold\">a</span><span style=\"color: #000000\"> </span><span style=\"color: #808000\">href</span><span style=\"color: #000000\">=</span><span style=\"color: #008000\">\"https://www.mobygames.com/browse/games/windows/\"</span><span style=\"font-weight: bold\">&gt;</span>\n",
       "     Windows\n",
       "    <span style=\"font-weight: bold\">&lt;</span><span style=\"color: #800080\">/</span><span style=\"color: #ff00ff\">a</span><span style=\"font-weight: bold\">&gt;</span>\n",
       "   <span style=\"font-weight: bold\">&lt;</span><span style=\"color: #800080\">/</span><span style=\"color: #ff00ff\">td</span><span style=\"font-weight: bold\">&gt;</span>\n",
       "  <span style=\"font-weight: bold\">&lt;</span><span style=\"color: #800080\">/</span><span style=\"color: #ff00ff\">tr</span><span style=\"font-weight: bold\">&gt;</span>\n",
       "  <span style=\"font-weight: bold\">&lt;</span><span style=\"color: #ff00ff; font-weight: bold\">tr</span><span style=\"color: #000000\"> </span><span style=\"color: #808000\">valign</span><span style=\"color: #000000\">=</span><span style=\"color: #008000\">\"top\"</span><span style=\"font-weight: bold\">&gt;</span>\n",
       "   <span style=\"font-weight: bold\">&lt;</span><span style=\"color: #ff00ff; font-weight: bold\">td</span><span style=\"font-weight: bold\">&gt;</span>\n",
       "    <span style=\"font-weight: bold\">&lt;</span><span style=\"color: #ff00ff; font-weight: bold\">a</span><span style=\"color: #000000\"> </span><span style=\"color: #808000\">href</span><span style=\"color: #000000\">=</span><span style=\"color: #008000\">\"https://www.mobygames.com/game/0-day-attack-on-earth\"</span><span style=\"font-weight: bold\">&gt;</span>\n",
       "     <span style=\"color: #000080; font-weight: bold\">0</span> day Attack on Earth\n",
       "    <span style=\"font-weight: bold\">&lt;</span><span style=\"color: #800080\">/</span><span style=\"color: #ff00ff\">a</span><span style=\"font-weight: bold\">&gt;</span>\n",
       "   <span style=\"font-weight: bold\">&lt;</span><span style=\"color: #800080\">/</span><span style=\"color: #ff00ff\">td</span><span style=\"font-weight: bold\">&gt;</span>\n",
       "   <span style=\"font-weight: bold\">&lt;</span><span style=\"color: #ff00ff; font-weight: bold\">td</span><span style=\"font-weight: bold\">&gt;</span>\n",
       "    <span style=\"font-weight: bold\">&lt;</span><span style=\"color: #ff00ff; font-weight: bold\">a</span><span style=\"color: #000000\"> </span><span style=\"color: #808000\">href</span><span style=\"color: #000000\">=</span><span style=\"color: #008000\">\"https://www.mobygames.com/browse/games/2009/\"</span><span style=\"font-weight: bold\">&gt;</span>\n",
       "     <span style=\"color: #000080; font-weight: bold\">2009</span>\n",
       "    <span style=\"font-weight: bold\">&lt;</span><span style=\"color: #800080\">/</span><span style=\"color: #ff00ff\">a</span><span style=\"font-weight: bold\">&gt;</span>\n",
       "   <span style=\"font-weight: bold\">&lt;</span><span style=\"color: #800080\">/</span><span style=\"color: #ff00ff\">td</span><span style=\"font-weight: bold\">&gt;</span>\n",
       "   <span style=\"font-weight: bold\">&lt;</span><span style=\"color: #ff00ff; font-weight: bold\">td</span><span style=\"font-weight: bold\">&gt;</span>\n",
       "    <span style=\"font-weight: bold\">&lt;</span><span style=\"color: #ff00ff; font-weight: bold\">a</span><span style=\"color: #000000\"> </span><span style=\"color: #808000\">href</span><span style=\"color: #000000\">=</span><span style=\"color: #008000\">\"https://www.mobygames.com/company/square-enix-inc\"</span><span style=\"font-weight: bold\">&gt;</span>\n",
       "     Square Enix, Inc.\n",
       "    <span style=\"font-weight: bold\">&lt;</span><span style=\"color: #800080\">/</span><span style=\"color: #ff00ff\">a</span><span style=\"font-weight: bold\">&gt;</span>\n",
       "   <span style=\"font-weight: bold\">&lt;</span><span style=\"color: #800080\">/</span><span style=\"color: #ff00ff\">td</span><span style=\"font-weight: bold\">&gt;</span>\n",
       "   <span style=\"font-weight: bold\">&lt;</span><span style=\"color: #ff00ff; font-weight: bold\">td</span><span style=\"font-weight: bold\">&gt;</span>\n",
       "    <span style=\"font-weight: bold\">&lt;</span><span style=\"color: #ff00ff; font-weight: bold\">a</span><span style=\"color: #000000\"> </span><span style=\"color: #808000\">href</span><span style=\"color: #000000\">=</span><span style=\"color: #008000\">\"https://www.mobygames.com/genre/sheet/action/\"</span><span style=\"font-weight: bold\">&gt;</span>\n",
       "     Action\n",
       "    <span style=\"font-weight: bold\">&lt;</span><span style=\"color: #800080\">/</span><span style=\"color: #ff00ff\">a</span><span style=\"font-weight: bold\">&gt;</span>\n",
       "   <span style=\"font-weight: bold\">&lt;</span><span style=\"color: #800080\">/</span><span style=\"color: #ff00ff\">td</span><span style=\"font-weight: bold\">&gt;</span>\n",
       "   <span style=\"font-weight: bold\">&lt;</span><span style=\"color: #ff00ff; font-weight: bold\">td</span><span style=\"font-weight: bold\">&gt;</span>\n",
       "    <span style=\"font-weight: bold\">&lt;</span><span style=\"color: #ff00ff; font-weight: bold\">a</span><span style=\"color: #000000\"> </span><span style=\"color: #808000\">href</span><span style=\"color: #000000\">=</span><span style=\"color: #008000\">\"https://www.mobygames.com/browse/games/xbox360/\"</span><span style=\"font-weight: bold\">&gt;</span>\n",
       "     Xbox <span style=\"color: #000080; font-weight: bold\">360</span>\n",
       "    <span style=\"font-weight: bold\">&lt;</span><span style=\"color: #800080\">/</span><span style=\"color: #ff00ff\">a</span><span style=\"font-weight: bold\">&gt;</span>\n",
       "    ,\n",
       "    <span style=\"font-weight: bold\">&lt;</span><span style=\"color: #ff00ff; font-weight: bold\">a</span><span style=\"color: #000000\"> </span><span style=\"color: #808000\">href</span><span style=\"color: #000000\">=</span><span style=\"color: #008000\">\"https://www.mobygames.com/browse/games/xbox-one/\"</span><span style=\"font-weight: bold\">&gt;</span>\n",
       "     Xbox One\n",
       "    <span style=\"font-weight: bold\">&lt;</span><span style=\"color: #800080\">/</span><span style=\"color: #ff00ff\">a</span><span style=\"font-weight: bold\">&gt;</span>\n",
       "   <span style=\"font-weight: bold\">&lt;</span><span style=\"color: #800080\">/</span><span style=\"color: #ff00ff\">td</span><span style=\"font-weight: bold\">&gt;</span>\n",
       "  <span style=\"font-weight: bold\">&lt;</span><span style=\"color: #800080\">/</span><span style=\"color: #ff00ff\">tr</span><span style=\"font-weight: bold\">&gt;</span>\n",
       "  <span style=\"font-weight: bold\">&lt;</span><span style=\"color: #ff00ff; font-weight: bold\">tr</span><span style=\"color: #000000\"> </span><span style=\"color: #808000\">valign</span><span style=\"color: #000000\">=</span><span style=\"color: #008000\">\"top\"</span><span style=\"font-weight: bold\">&gt;</span>\n",
       "   <span style=\"font-weight: bold\">&lt;</span><span style=\"color: #ff00ff; font-weight: bold\">td</span><span style=\"font-weight: bold\">&gt;</span>\n",
       "    <span style=\"font-weight: bold\">&lt;</span><span style=\"color: #ff00ff; font-weight: bold\">a</span><span style=\"color: #000000\"> </span><span style=\"color: #808000\">href</span><span style=\"color: #000000\">=</span><span style=\"color: #008000\">\"https://www.mobygames.com/game/0d-beat-drop\"</span><span style=\"font-weight: bold\">&gt;</span>\n",
       "     0D Beat Drop\n",
       "    <span style=\"font-weight: bold\">&lt;</span><span style=\"color: #800080\">/</span><span style=\"color: #ff00ff\">a</span><span style=\"font-weight: bold\">&gt;</span>\n",
       "   <span style=\"font-weight: bold\">&lt;</span><span style=\"color: #800080\">/</span><span style=\"color: #ff00ff\">td</span><span style=\"font-weight: bold\">&gt;</span>\n",
       "   <span style=\"font-weight: bold\">&lt;</span><span style=\"color: #ff00ff; font-weight: bold\">td</span><span style=\"font-weight: bold\">&gt;</span>\n",
       "    <span style=\"font-weight: bold\">&lt;</span><span style=\"color: #ff00ff; font-weight: bold\">a</span><span style=\"color: #000000\"> </span><span style=\"color: #808000\">href</span><span style=\"color: #000000\">=</span><span style=\"color: #008000\">\"https://www.mobygames.com/browse/games/2009/\"</span><span style=\"font-weight: bold\">&gt;</span>\n",
       "     <span style=\"color: #000080; font-weight: bold\">2009</span>\n",
       "    <span style=\"font-weight: bold\">&lt;</span><span style=\"color: #800080\">/</span><span style=\"color: #ff00ff\">a</span><span style=\"font-weight: bold\">&gt;</span>\n",
       "   <span style=\"font-weight: bold\">&lt;</span><span style=\"color: #800080\">/</span><span style=\"color: #ff00ff\">td</span><span style=\"font-weight: bold\">&gt;</span>\n",
       "   <span style=\"font-weight: bold\">&lt;</span><span style=\"color: #ff00ff; font-weight: bold\">td</span><span style=\"font-weight: bold\">&gt;</span>\n",
       "    <span style=\"font-weight: bold\">&lt;</span><span style=\"color: #ff00ff; font-weight: bold\">a</span><span style=\"color: #000000\"> </span><span style=\"color: #808000\">href</span><span style=\"color: #000000\">=</span><span style=\"color: #008000\">\"https://www.mobygames.com/company/arc-system-works-co-ltd\"</span><span style=\"font-weight: bold\">&gt;</span>\n",
       "     Arc System Works Co., Ltd.\n",
       "    <span style=\"font-weight: bold\">&lt;</span><span style=\"color: #800080\">/</span><span style=\"color: #ff00ff\">a</span><span style=\"font-weight: bold\">&gt;</span>\n",
       "   <span style=\"font-weight: bold\">&lt;</span><span style=\"color: #800080\">/</span><span style=\"color: #ff00ff\">td</span><span style=\"font-weight: bold\">&gt;</span>\n",
       "   <span style=\"font-weight: bold\">&lt;</span><span style=\"color: #ff00ff; font-weight: bold\">td</span><span style=\"font-weight: bold\">&gt;</span>\n",
       "    <span style=\"font-weight: bold\">&lt;</span><span style=\"color: #ff00ff; font-weight: bold\">a</span><span style=\"color: #000000\"> </span><span style=\"color: #808000\">href</span><span style=\"color: #000000\">=</span><span style=\"color: #008000\">\"https://www.mobygames.com/genre/sheet/puzzle/\"</span><span style=\"font-weight: bold\">&gt;</span>\n",
       "     Puzzle\n",
       "    <span style=\"font-weight: bold\">&lt;</span><span style=\"color: #800080\">/</span><span style=\"color: #ff00ff\">a</span><span style=\"font-weight: bold\">&gt;</span>\n",
       "   <span style=\"font-weight: bold\">&lt;</span><span style=\"color: #800080\">/</span><span style=\"color: #ff00ff\">td</span><span style=\"font-weight: bold\">&gt;</span>\n",
       "   <span style=\"font-weight: bold\">&lt;</span><span style=\"color: #ff00ff; font-weight: bold\">td</span><span style=\"font-weight: bold\">&gt;</span>\n",
       "    <span style=\"font-weight: bold\">&lt;</span><span style=\"color: #ff00ff; font-weight: bold\">a</span><span style=\"color: #000000\"> </span><span style=\"color: #808000\">href</span><span style=\"color: #000000\">=</span><span style=\"color: #008000\">\"https://www.mobygames.com/browse/games/xbox360/\"</span><span style=\"font-weight: bold\">&gt;</span>\n",
       "     Xbox <span style=\"color: #000080; font-weight: bold\">360</span>\n",
       "    <span style=\"font-weight: bold\">&lt;</span><span style=\"color: #800080\">/</span><span style=\"color: #ff00ff\">a</span><span style=\"font-weight: bold\">&gt;</span>\n",
       "   <span style=\"font-weight: bold\">&lt;</span><span style=\"color: #800080\">/</span><span style=\"color: #ff00ff\">td</span><span style=\"font-weight: bold\">&gt;</span>\n",
       "  <span style=\"font-weight: bold\">&lt;</span><span style=\"color: #800080\">/</span><span style=\"color: #ff00ff\">tr</span><span style=\"font-weight: bold\">&gt;</span>\n",
       "  <span style=\"font-weight: bold\">&lt;</span><span style=\"color: #ff00ff; font-weight: bold\">tr</span><span style=\"color: #000000\"> </span><span style=\"color: #808000\">valign</span><span style=\"color: #000000\">=</span><span style=\"color: #008000\">\"top\"</span><span style=\"font-weight: bold\">&gt;</span>\n",
       "   <span style=\"font-weight: bold\">&lt;</span><span style=\"color: #ff00ff; font-weight: bold\">td</span><span style=\"font-weight: bold\">&gt;</span>\n",
       "    <span style=\"font-weight: bold\">&lt;</span><span style=\"color: #ff00ff; font-weight: bold\">a</span><span style=\"color: #000000\"> </span><span style=\"color: #808000\">href</span><span style=\"color: #000000\">=</span><span style=\"color: #008000\">\"https://www.mobygames.com/game/0-degrees\"</span><span style=\"font-weight: bold\">&gt;</span>\n",
       "     <span style=\"color: #000080; font-weight: bold\">0</span> Degrees\n",
       "    <span style=\"font-weight: bold\">&lt;</span><span style=\"color: #800080\">/</span><span style=\"color: #ff00ff\">a</span><span style=\"font-weight: bold\">&gt;</span>\n",
       "   <span style=\"font-weight: bold\">&lt;</span><span style=\"color: #800080\">/</span><span style=\"color: #ff00ff\">td</span><span style=\"font-weight: bold\">&gt;</span>\n",
       "   <span style=\"font-weight: bold\">&lt;</span><span style=\"color: #ff00ff; font-weight: bold\">td</span><span style=\"font-weight: bold\">&gt;</span>\n",
       "    <span style=\"font-weight: bold\">&lt;</span><span style=\"color: #ff00ff; font-weight: bold\">a</span><span style=\"color: #000000\"> </span><span style=\"color: #808000\">href</span><span style=\"color: #000000\">=</span><span style=\"color: #008000\">\"https://www.mobygames.com/browse/games/2020/\"</span><span style=\"font-weight: bold\">&gt;</span>\n",
       "     <span style=\"color: #000080; font-weight: bold\">2020</span>\n",
       "    <span style=\"font-weight: bold\">&lt;</span><span style=\"color: #800080\">/</span><span style=\"color: #ff00ff\">a</span><span style=\"font-weight: bold\">&gt;</span>\n",
       "   <span style=\"font-weight: bold\">&lt;</span><span style=\"color: #800080\">/</span><span style=\"color: #ff00ff\">td</span><span style=\"font-weight: bold\">&gt;</span>\n",
       "   <span style=\"font-weight: bold\">&lt;</span><span style=\"color: #ff00ff; font-weight: bold\">td</span><span style=\"font-weight: bold\">&gt;</span>\n",
       "    <span style=\"font-weight: bold\">&lt;</span><span style=\"color: #ff00ff; font-weight: bold\">a</span><span style=\"color: #000000\"> </span><span style=\"color: #808000\">href</span><span style=\"color: #000000\">=</span><span style=\"color: #008000\">\"https://www.mobygames.com/company/eastasiasoft-limited\"</span><span style=\"font-weight: bold\">&gt;</span>\n",
       "     Eastasiasoft Limited\n",
       "    <span style=\"font-weight: bold\">&lt;</span><span style=\"color: #800080\">/</span><span style=\"color: #ff00ff\">a</span><span style=\"font-weight: bold\">&gt;</span>\n",
       "   <span style=\"font-weight: bold\">&lt;</span><span style=\"color: #800080\">/</span><span style=\"color: #ff00ff\">td</span><span style=\"font-weight: bold\">&gt;</span>\n",
       "   <span style=\"font-weight: bold\">&lt;</span><span style=\"color: #ff00ff; font-weight: bold\">td</span><span style=\"font-weight: bold\">&gt;</span>\n",
       "    <span style=\"font-weight: bold\">&lt;</span><span style=\"color: #ff00ff; font-weight: bold\">a</span><span style=\"color: #000000\"> </span><span style=\"color: #808000\">href</span><span style=\"color: #000000\">=</span><span style=\"color: #008000\">\"https://www.mobygames.com/genre/sheet/action/\"</span><span style=\"font-weight: bold\">&gt;</span>\n",
       "     Action\n",
       "    <span style=\"font-weight: bold\">&lt;</span><span style=\"color: #800080\">/</span><span style=\"color: #ff00ff\">a</span><span style=\"font-weight: bold\">&gt;</span>\n",
       "   <span style=\"font-weight: bold\">&lt;</span><span style=\"color: #800080\">/</span><span style=\"color: #ff00ff\">td</span><span style=\"font-weight: bold\">&gt;</span>\n",
       "   <span style=\"font-weight: bold\">&lt;</span><span style=\"color: #ff00ff; font-weight: bold\">td</span><span style=\"font-weight: bold\">&gt;</span>\n",
       "    <span style=\"font-weight: bold\">&lt;</span><span style=\"color: #ff00ff; font-weight: bold\">a</span><span style=\"color: #000000\"> </span><span style=\"color: #808000\">href</span><span style=\"color: #000000\">=</span><span style=\"color: #008000\">\"https://www.mobygames.com/browse/games/browser/\"</span><span style=\"font-weight: bold\">&gt;</span>\n",
       "     Browser\n",
       "    <span style=\"font-weight: bold\">&lt;</span><span style=\"color: #800080\">/</span><span style=\"color: #ff00ff\">a</span><span style=\"font-weight: bold\">&gt;</span>\n",
       "    ,\n",
       "    <span style=\"font-weight: bold\">&lt;</span><span style=\"color: #ff00ff; font-weight: bold\">a</span><span style=\"color: #000000\"> </span><span style=\"color: #808000\">href</span><span style=\"color: #000000\">=</span><span style=\"color: #008000\">\"https://www.mobygames.com/browse/games/switch/\"</span><span style=\"font-weight: bold\">&gt;</span>\n",
       "     Nintendo Switch\n",
       "    <span style=\"font-weight: bold\">&lt;</span><span style=\"color: #800080\">/</span><span style=\"color: #ff00ff\">a</span><span style=\"font-weight: bold\">&gt;</span>\n",
       "    ,\n",
       "    <span style=\"font-weight: bold\">&lt;</span><span style=\"color: #ff00ff; font-weight: bold\">a</span><span style=\"color: #000000\"> </span><span style=\"color: #808000\">href</span><span style=\"color: #000000\">=</span><span style=\"color: #008000\">\"https://www.mobygames.com/browse/games/playstation-4/\"</span><span style=\"font-weight: bold\">&gt;</span>\n",
       "     PlayStation <span style=\"color: #000080; font-weight: bold\">4</span>\n",
       "    <span style=\"font-weight: bold\">&lt;</span><span style=\"color: #800080\">/</span><span style=\"color: #ff00ff\">a</span><span style=\"font-weight: bold\">&gt;</span>\n",
       "    ,\n",
       "    <span style=\"font-weight: bold\">&lt;</span><span style=\"color: #ff00ff; font-weight: bold\">a</span><span style=\"color: #000000\"> </span><span style=\"color: #808000\">href</span><span style=\"color: #000000\">=</span><span style=\"color: #008000\">\"https://www.mobygames.com/browse/games/playstation-5/\"</span><span style=\"font-weight: bold\">&gt;</span>\n",
       "     PlayStation <span style=\"color: #000080; font-weight: bold\">5</span>\n",
       "    <span style=\"font-weight: bold\">&lt;</span><span style=\"color: #800080\">/</span><span style=\"color: #ff00ff\">a</span><span style=\"font-weight: bold\">&gt;</span>\n",
       "    ,\n",
       "    <span style=\"font-weight: bold\">&lt;</span><span style=\"color: #ff00ff; font-weight: bold\">a</span><span style=\"color: #000000\"> </span><span style=\"color: #808000\">href</span><span style=\"color: #000000\">=</span><span style=\"color: #008000\">\"https://www.mobygames.com/browse/games/xbox-one/\"</span><span style=\"font-weight: bold\">&gt;</span>\n",
       "     Xbox One\n",
       "    <span style=\"font-weight: bold\">&lt;</span><span style=\"color: #800080\">/</span><span style=\"color: #ff00ff\">a</span><span style=\"font-weight: bold\">&gt;</span>\n",
       "    ,\n",
       "    <span style=\"font-weight: bold\">&lt;</span><span style=\"color: #ff00ff; font-weight: bold\">a</span><span style=\"color: #000000\"> </span><span style=\"color: #808000\">href</span><span style=\"color: #000000\">=</span><span style=\"color: #008000\">\"https://www.mobygames.com/browse/games/xbox-series/\"</span><span style=\"font-weight: bold\">&gt;</span>\n",
       "     Xbox Series\n",
       "    <span style=\"font-weight: bold\">&lt;</span><span style=\"color: #800080\">/</span><span style=\"color: #ff00ff\">a</span><span style=\"font-weight: bold\">&gt;</span>\n",
       "   <span style=\"font-weight: bold\">&lt;</span><span style=\"color: #800080\">/</span><span style=\"color: #ff00ff\">td</span><span style=\"font-weight: bold\">&gt;</span>\n",
       "  <span style=\"font-weight: bold\">&lt;</span><span style=\"color: #800080\">/</span><span style=\"color: #ff00ff\">tr</span><span style=\"font-weight: bold\">&gt;</span>\n",
       "  <span style=\"font-weight: bold\">&lt;</span><span style=\"color: #ff00ff; font-weight: bold\">tr</span><span style=\"color: #000000\"> </span><span style=\"color: #808000\">valign</span><span style=\"color: #000000\">=</span><span style=\"color: #008000\">\"top\"</span><span style=\"font-weight: bold\">&gt;</span>\n",
       "   <span style=\"font-weight: bold\">&lt;</span><span style=\"color: #ff00ff; font-weight: bold\">td</span><span style=\"font-weight: bold\">&gt;</span>\n",
       "    <span style=\"font-weight: bold\">&lt;</span><span style=\"color: #ff00ff; font-weight: bold\">a</span><span style=\"color: #000000\"> </span><span style=\"color: #808000\">href</span><span style=\"color: #000000\">=</span><span style=\"color: #008000\">\"https://www.mobygames.com/game/0n-0w\"</span><span style=\"font-weight: bold\">&gt;</span>\n",
       "     <span style=\"color: #000080; font-weight: bold\">0</span>°N <span style=\"color: #000080; font-weight: bold\">0</span>°W\n",
       "    <span style=\"font-weight: bold\">&lt;</span><span style=\"color: #800080\">/</span><span style=\"color: #ff00ff\">a</span><span style=\"font-weight: bold\">&gt;</span>\n",
       "   <span style=\"font-weight: bold\">&lt;</span><span style=\"color: #800080\">/</span><span style=\"color: #ff00ff\">td</span><span style=\"font-weight: bold\">&gt;</span>\n",
       "   <span style=\"font-weight: bold\">&lt;</span><span style=\"color: #ff00ff; font-weight: bold\">td</span><span style=\"font-weight: bold\">&gt;</span>\n",
       "    <span style=\"font-weight: bold\">&lt;</span><span style=\"color: #ff00ff; font-weight: bold\">a</span><span style=\"color: #000000\"> </span><span style=\"color: #808000\">href</span><span style=\"color: #000000\">=</span><span style=\"color: #008000\">\"https://www.mobygames.com/browse/games/2018/\"</span><span style=\"font-weight: bold\">&gt;</span>\n",
       "     <span style=\"color: #000080; font-weight: bold\">2018</span>\n",
       "    <span style=\"font-weight: bold\">&lt;</span><span style=\"color: #800080\">/</span><span style=\"color: #ff00ff\">a</span><span style=\"font-weight: bold\">&gt;</span>\n",
       "   <span style=\"font-weight: bold\">&lt;</span><span style=\"color: #800080\">/</span><span style=\"color: #ff00ff\">td</span><span style=\"font-weight: bold\">&gt;</span>\n",
       "   <span style=\"font-weight: bold\">&lt;</span><span style=\"color: #ff00ff; font-weight: bold\">td</span><span style=\"font-weight: bold\">&gt;</span>\n",
       "    <span style=\"font-weight: bold\">&lt;</span><span style=\"color: #ff00ff; font-weight: bold\">a</span><span style=\"color: #000000\"> </span><span style=\"color: #808000\">href</span><span style=\"color: #000000\">=</span><span style=\"color: #008000\">\"https://www.mobygames.com/company/colorfiction\"</span><span style=\"font-weight: bold\">&gt;</span>\n",
       "     Colorfiction\n",
       "    <span style=\"font-weight: bold\">&lt;</span><span style=\"color: #800080\">/</span><span style=\"color: #ff00ff\">a</span><span style=\"font-weight: bold\">&gt;</span>\n",
       "   <span style=\"font-weight: bold\">&lt;</span><span style=\"color: #800080\">/</span><span style=\"color: #ff00ff\">td</span><span style=\"font-weight: bold\">&gt;</span>\n",
       "   <span style=\"font-weight: bold\">&lt;</span><span style=\"color: #ff00ff; font-weight: bold\">td</span><span style=\"font-weight: bold\">&gt;</span>\n",
       "    <span style=\"font-weight: bold\">&lt;</span><span style=\"color: #ff00ff; font-weight: bold\">a</span><span style=\"color: #000000\"> </span><span style=\"color: #808000\">href</span><span style=\"color: #000000\">=</span><span style=\"color: #008000\">\"https://www.mobygames.com/genre/sheet/adventure/\"</span><span style=\"font-weight: bold\">&gt;</span>\n",
       "     Adventure\n",
       "    <span style=\"font-weight: bold\">&lt;</span><span style=\"color: #800080\">/</span><span style=\"color: #ff00ff\">a</span><span style=\"font-weight: bold\">&gt;</span>\n",
       "   <span style=\"font-weight: bold\">&lt;</span><span style=\"color: #800080\">/</span><span style=\"color: #ff00ff\">td</span><span style=\"font-weight: bold\">&gt;</span>\n",
       "   <span style=\"font-weight: bold\">&lt;</span><span style=\"color: #ff00ff; font-weight: bold\">td</span><span style=\"font-weight: bold\">&gt;</span>\n",
       "    <span style=\"font-weight: bold\">&lt;</span><span style=\"color: #ff00ff; font-weight: bold\">a</span><span style=\"color: #000000\"> </span><span style=\"color: #808000\">href</span><span style=\"color: #000000\">=</span><span style=\"color: #008000\">\"https://www.mobygames.com/browse/games/linux/\"</span><span style=\"font-weight: bold\">&gt;</span>\n",
       "     Linux\n",
       "    <span style=\"font-weight: bold\">&lt;</span><span style=\"color: #800080\">/</span><span style=\"color: #ff00ff\">a</span><span style=\"font-weight: bold\">&gt;</span>\n",
       "    ,\n",
       "    <span style=\"font-weight: bold\">&lt;</span><span style=\"color: #ff00ff; font-weight: bold\">a</span><span style=\"color: #000000\"> </span><span style=\"color: #808000\">href</span><span style=\"color: #000000\">=</span><span style=\"color: #008000\">\"https://www.mobygames.com/browse/games/macintosh/\"</span><span style=\"font-weight: bold\">&gt;</span>\n",
       "     Macintosh\n",
       "    <span style=\"font-weight: bold\">&lt;</span><span style=\"color: #800080\">/</span><span style=\"color: #ff00ff\">a</span><span style=\"font-weight: bold\">&gt;</span>\n",
       "    ,\n",
       "    <span style=\"font-weight: bold\">&lt;</span><span style=\"color: #ff00ff; font-weight: bold\">a</span><span style=\"color: #000000\"> </span><span style=\"color: #808000\">href</span><span style=\"color: #000000\">=</span><span style=\"color: #008000\">\"https://www.mobygames.com/browse/games/windows/\"</span><span style=\"font-weight: bold\">&gt;</span>\n",
       "     Windows\n",
       "    <span style=\"font-weight: bold\">&lt;</span><span style=\"color: #800080\">/</span><span style=\"color: #ff00ff\">a</span><span style=\"font-weight: bold\">&gt;</span>\n",
       "   <span style=\"font-weight: bold\">&lt;</span><span style=\"color: #800080\">/</span><span style=\"color: #ff00ff\">td</span><span style=\"font-weight: bold\">&gt;</span>\n",
       "  <span style=\"font-weight: bold\">&lt;</span><span style=\"color: #800080\">/</span><span style=\"color: #ff00ff\">tr</span><span style=\"font-weight: bold\">&gt;</span>\n",
       "  <span style=\"font-weight: bold\">&lt;</span><span style=\"color: #ff00ff; font-weight: bold\">tr</span><span style=\"color: #000000\"> </span><span style=\"color: #808000\">valign</span><span style=\"color: #000000\">=</span><span style=\"color: #008000\">\"top\"</span><span style=\"font-weight: bold\">&gt;</span>\n",
       "   <span style=\"font-weight: bold\">&lt;</span><span style=\"color: #ff00ff; font-weight: bold\">td</span><span style=\"font-weight: bold\">&gt;</span>\n",
       "    <span style=\"font-weight: bold\">&lt;</span><span style=\"color: #ff00ff; font-weight: bold\">a</span><span style=\"color: #000000\"> </span><span style=\"color: #808000\">href</span><span style=\"color: #000000\">=</span><span style=\"color: #008000\">\"https://www.mobygames.com/game/0-nord\"</span><span style=\"font-weight: bold\">&gt;</span>\n",
       "     <span style=\"color: #000080; font-weight: bold\">0</span>° Nord\n",
       "    <span style=\"font-weight: bold\">&lt;</span><span style=\"color: #800080\">/</span><span style=\"color: #ff00ff\">a</span><span style=\"font-weight: bold\">&gt;</span>\n",
       "   <span style=\"font-weight: bold\">&lt;</span><span style=\"color: #800080\">/</span><span style=\"color: #ff00ff\">td</span><span style=\"font-weight: bold\">&gt;</span>\n",
       "   <span style=\"font-weight: bold\">&lt;</span><span style=\"color: #ff00ff; font-weight: bold\">td</span><span style=\"font-weight: bold\">&gt;</span>\n",
       "    <span style=\"font-weight: bold\">&lt;</span><span style=\"color: #ff00ff; font-weight: bold\">a</span><span style=\"color: #000000\"> </span><span style=\"color: #808000\">href</span><span style=\"color: #000000\">=</span><span style=\"color: #008000\">\"https://www.mobygames.com/browse/games/1985/\"</span><span style=\"font-weight: bold\">&gt;</span>\n",
       "     <span style=\"color: #000080; font-weight: bold\">1985</span>\n",
       "    <span style=\"font-weight: bold\">&lt;</span><span style=\"color: #800080\">/</span><span style=\"color: #ff00ff\">a</span><span style=\"font-weight: bold\">&gt;</span>\n",
       "   <span style=\"font-weight: bold\">&lt;</span><span style=\"color: #800080\">/</span><span style=\"color: #ff00ff\">td</span><span style=\"font-weight: bold\">&gt;</span>\n",
       "   <span style=\"font-weight: bold\">&lt;</span><span style=\"color: #ff00ff; font-weight: bold\">td</span><span style=\"font-weight: bold\">&gt;</span>\n",
       "    <span style=\"font-weight: bold\">&lt;</span><span style=\"color: #ff00ff; font-weight: bold\">a</span><span style=\"color: #000000\"> </span><span style=\"color: #808000\">href</span><span style=\"color: #000000\">=</span><span style=\"color: #008000\">\"https://www.mobygames.com/company/ke-soft\"</span><span style=\"font-weight: bold\">&gt;</span>\n",
       "     KE-Soft\n",
       "    <span style=\"font-weight: bold\">&lt;</span><span style=\"color: #800080\">/</span><span style=\"color: #ff00ff\">a</span><span style=\"font-weight: bold\">&gt;</span>\n",
       "    ,\n",
       "    <span style=\"font-weight: bold\">&lt;</span><span style=\"color: #ff00ff; font-weight: bold\">a</span><span style=\"color: #000000\"> </span><span style=\"color: #808000\">href</span><span style=\"color: #000000\">=</span><span style=\"color: #008000\">\"https://www.mobygames.com/company/united-software-gmbh\"</span><span style=\"font-weight: bold\">&gt;</span>\n",
       "     ariolasoft GmbH\n",
       "    <span style=\"font-weight: bold\">&lt;</span><span style=\"color: #800080\">/</span><span style=\"color: #ff00ff\">a</span><span style=\"font-weight: bold\">&gt;</span>\n",
       "   <span style=\"font-weight: bold\">&lt;</span><span style=\"color: #800080\">/</span><span style=\"color: #ff00ff\">td</span><span style=\"font-weight: bold\">&gt;</span>\n",
       "   <span style=\"font-weight: bold\">&lt;</span><span style=\"color: #ff00ff; font-weight: bold\">td</span><span style=\"font-weight: bold\">&gt;</span>\n",
       "    <span style=\"font-weight: bold\">&lt;</span><span style=\"color: #ff00ff; font-weight: bold\">a</span><span style=\"color: #000000\"> </span><span style=\"color: #808000\">href</span><span style=\"color: #000000\">=</span><span style=\"color: #008000\">\"https://www.mobygames.com/genre/sheet/adventure/\"</span><span style=\"font-weight: bold\">&gt;</span>\n",
       "     Adventure\n",
       "    <span style=\"font-weight: bold\">&lt;</span><span style=\"color: #800080\">/</span><span style=\"color: #ff00ff\">a</span><span style=\"font-weight: bold\">&gt;</span>\n",
       "   <span style=\"font-weight: bold\">&lt;</span><span style=\"color: #800080\">/</span><span style=\"color: #ff00ff\">td</span><span style=\"font-weight: bold\">&gt;</span>\n",
       "   <span style=\"font-weight: bold\">&lt;</span><span style=\"color: #ff00ff; font-weight: bold\">td</span><span style=\"font-weight: bold\">&gt;</span>\n",
       "    <span style=\"font-weight: bold\">&lt;</span><span style=\"color: #ff00ff; font-weight: bold\">a</span><span style=\"color: #000000\"> </span><span style=\"color: #808000\">href</span><span style=\"color: #000000\">=</span><span style=\"color: #008000\">\"https://www.mobygames.com/browse/games/atari-8-bit/\"</span><span style=\"font-weight: bold\">&gt;</span>\n",
       "     Atari <span style=\"color: #000080; font-weight: bold\">8</span>-bit\n",
       "    <span style=\"font-weight: bold\">&lt;</span><span style=\"color: #800080\">/</span><span style=\"color: #ff00ff\">a</span><span style=\"font-weight: bold\">&gt;</span>\n",
       "    ,\n",
       "    <span style=\"font-weight: bold\">&lt;</span><span style=\"color: #ff00ff; font-weight: bold\">a</span><span style=\"color: #000000\"> </span><span style=\"color: #808000\">href</span><span style=\"color: #000000\">=</span><span style=\"color: #008000\">\"https://www.mobygames.com/browse/games/c64/\"</span><span style=\"font-weight: bold\">&gt;</span>\n",
       "     Commodore <span style=\"color: #000080; font-weight: bold\">64</span>\n",
       "    <span style=\"font-weight: bold\">&lt;</span><span style=\"color: #800080\">/</span><span style=\"color: #ff00ff\">a</span><span style=\"font-weight: bold\">&gt;</span>\n",
       "   <span style=\"font-weight: bold\">&lt;</span><span style=\"color: #800080\">/</span><span style=\"color: #ff00ff\">td</span><span style=\"font-weight: bold\">&gt;</span>\n",
       "  <span style=\"font-weight: bold\">&lt;</span><span style=\"color: #800080\">/</span><span style=\"color: #ff00ff\">tr</span><span style=\"font-weight: bold\">&gt;</span>\n",
       "  <span style=\"font-weight: bold\">&lt;</span><span style=\"color: #ff00ff; font-weight: bold\">tr</span><span style=\"color: #000000\"> </span><span style=\"color: #808000\">valign</span><span style=\"color: #000000\">=</span><span style=\"color: #008000\">\"top\"</span><span style=\"font-weight: bold\">&gt;</span>\n",
       "   <span style=\"font-weight: bold\">&lt;</span><span style=\"color: #ff00ff; font-weight: bold\">td</span><span style=\"font-weight: bold\">&gt;</span>\n",
       "    <span style=\"font-weight: bold\">&lt;</span><span style=\"color: #ff00ff; font-weight: bold\">a</span><span style=\"color: #000000\"> </span><span style=\"color: #808000\">href</span><span style=\"color: #000000\">=</span><span style=\"color: #008000\">\"https://www.mobygames.com/game/0rbitalis\"</span><span style=\"font-weight: bold\">&gt;</span>\n",
       "     0RBITALIS\n",
       "    <span style=\"font-weight: bold\">&lt;</span><span style=\"color: #800080\">/</span><span style=\"color: #ff00ff\">a</span><span style=\"font-weight: bold\">&gt;</span>\n",
       "   <span style=\"font-weight: bold\">&lt;</span><span style=\"color: #800080\">/</span><span style=\"color: #ff00ff\">td</span><span style=\"font-weight: bold\">&gt;</span>\n",
       "   <span style=\"font-weight: bold\">&lt;</span><span style=\"color: #ff00ff; font-weight: bold\">td</span><span style=\"font-weight: bold\">&gt;</span>\n",
       "    <span style=\"font-weight: bold\">&lt;</span><span style=\"color: #ff00ff; font-weight: bold\">a</span><span style=\"color: #000000\"> </span><span style=\"color: #808000\">href</span><span style=\"color: #000000\">=</span><span style=\"color: #008000\">\"https://www.mobygames.com/browse/games/2014/\"</span><span style=\"font-weight: bold\">&gt;</span>\n",
       "     <span style=\"color: #000080; font-weight: bold\">2014</span>\n",
       "    <span style=\"font-weight: bold\">&lt;</span><span style=\"color: #800080\">/</span><span style=\"color: #ff00ff\">a</span><span style=\"font-weight: bold\">&gt;</span>\n",
       "   <span style=\"font-weight: bold\">&lt;</span><span style=\"color: #800080\">/</span><span style=\"color: #ff00ff\">td</span><span style=\"font-weight: bold\">&gt;</span>\n",
       "   <span style=\"font-weight: bold\">&lt;</span><span style=\"color: #ff00ff; font-weight: bold\">td</span><span style=\"font-weight: bold\">&gt;</span>\n",
       "    <span style=\"font-weight: bold\">&lt;</span><span style=\"color: #ff00ff; font-weight: bold\">a</span><span style=\"color: #000000\"> </span><span style=\"color: #808000\">href</span><span style=\"color: #000000\">=</span><span style=\"color: #008000\">\"https://www.mobygames.com/company/mastertronic-group-ltd\"</span><span style=\"font-weight: bold\">&gt;</span>\n",
       "     Mastertronic Group Ltd.\n",
       "    <span style=\"font-weight: bold\">&lt;</span><span style=\"color: #800080\">/</span><span style=\"color: #ff00ff\">a</span><span style=\"font-weight: bold\">&gt;</span>\n",
       "   <span style=\"font-weight: bold\">&lt;</span><span style=\"color: #800080\">/</span><span style=\"color: #ff00ff\">td</span><span style=\"font-weight: bold\">&gt;</span>\n",
       "   <span style=\"font-weight: bold\">&lt;</span><span style=\"color: #ff00ff; font-weight: bold\">td</span><span style=\"font-weight: bold\">&gt;</span>\n",
       "    <span style=\"font-weight: bold\">&lt;</span><span style=\"color: #ff00ff; font-weight: bold\">a</span><span style=\"color: #000000\"> </span><span style=\"color: #808000\">href</span><span style=\"color: #000000\">=</span><span style=\"color: #008000\">\"https://www.mobygames.com/genre/sheet/puzzle/\"</span><span style=\"font-weight: bold\">&gt;</span>\n",
       "     Puzzle\n",
       "    <span style=\"font-weight: bold\">&lt;</span><span style=\"color: #800080\">/</span><span style=\"color: #ff00ff\">a</span><span style=\"font-weight: bold\">&gt;</span>\n",
       "   <span style=\"font-weight: bold\">&lt;</span><span style=\"color: #800080\">/</span><span style=\"color: #ff00ff\">td</span><span style=\"font-weight: bold\">&gt;</span>\n",
       "   <span style=\"font-weight: bold\">&lt;</span><span style=\"color: #ff00ff; font-weight: bold\">td</span><span style=\"font-weight: bold\">&gt;</span>\n",
       "    <span style=\"font-weight: bold\">&lt;</span><span style=\"color: #ff00ff; font-weight: bold\">a</span><span style=\"color: #000000\"> </span><span style=\"color: #808000\">href</span><span style=\"color: #000000\">=</span><span style=\"color: #008000\">\"https://www.mobygames.com/browse/games/macintosh/\"</span><span style=\"font-weight: bold\">&gt;</span>\n",
       "     Macintosh\n",
       "    <span style=\"font-weight: bold\">&lt;</span><span style=\"color: #800080\">/</span><span style=\"color: #ff00ff\">a</span><span style=\"font-weight: bold\">&gt;</span>\n",
       "    ,\n",
       "    <span style=\"font-weight: bold\">&lt;</span><span style=\"color: #ff00ff; font-weight: bold\">a</span><span style=\"color: #000000\"> </span><span style=\"color: #808000\">href</span><span style=\"color: #000000\">=</span><span style=\"color: #008000\">\"https://www.mobygames.com/browse/games/windows/\"</span><span style=\"font-weight: bold\">&gt;</span>\n",
       "     Windows\n",
       "    <span style=\"font-weight: bold\">&lt;</span><span style=\"color: #800080\">/</span><span style=\"color: #ff00ff\">a</span><span style=\"font-weight: bold\">&gt;</span>\n",
       "   <span style=\"font-weight: bold\">&lt;</span><span style=\"color: #800080\">/</span><span style=\"color: #ff00ff\">td</span><span style=\"font-weight: bold\">&gt;</span>\n",
       "  <span style=\"font-weight: bold\">&lt;</span><span style=\"color: #800080\">/</span><span style=\"color: #ff00ff\">tr</span><span style=\"font-weight: bold\">&gt;</span>\n",
       "  <span style=\"font-weight: bold\">&lt;</span><span style=\"color: #ff00ff; font-weight: bold\">tr</span><span style=\"color: #000000\"> </span><span style=\"color: #808000\">valign</span><span style=\"color: #000000\">=</span><span style=\"color: #008000\">\"top\"</span><span style=\"font-weight: bold\">&gt;</span>\n",
       "   <span style=\"font-weight: bold\">&lt;</span><span style=\"color: #ff00ff; font-weight: bold\">td</span><span style=\"font-weight: bold\">&gt;</span>\n",
       "    <span style=\"font-weight: bold\">&lt;</span><span style=\"color: #ff00ff; font-weight: bold\">a</span><span style=\"color: #000000\"> </span><span style=\"color: #808000\">href</span><span style=\"color: #000000\">=</span><span style=\"color: #008000\">\"https://www.mobygames.com/game/0rbitalis-supernova-edition\"</span><span style=\"font-weight: bold\">&gt;</span>\n",
       "     0RBITALIS <span style=\"font-weight: bold\">(</span>Supernova Edition<span style=\"font-weight: bold\">)</span>\n",
       "    <span style=\"font-weight: bold\">&lt;</span><span style=\"color: #800080\">/</span><span style=\"color: #ff00ff\">a</span><span style=\"font-weight: bold\">&gt;</span>\n",
       "   <span style=\"font-weight: bold\">&lt;</span><span style=\"color: #800080\">/</span><span style=\"color: #ff00ff\">td</span><span style=\"font-weight: bold\">&gt;</span>\n",
       "   <span style=\"font-weight: bold\">&lt;</span><span style=\"color: #ff00ff; font-weight: bold\">td</span><span style=\"font-weight: bold\">&gt;</span>\n",
       "    <span style=\"font-weight: bold\">&lt;</span><span style=\"color: #ff00ff; font-weight: bold\">a</span><span style=\"color: #000000\"> </span><span style=\"color: #808000\">href</span><span style=\"color: #000000\">=</span><span style=\"color: #008000\">\"https://www.mobygames.com/browse/games/2015/\"</span><span style=\"font-weight: bold\">&gt;</span>\n",
       "     <span style=\"color: #000080; font-weight: bold\">2015</span>\n",
       "    <span style=\"font-weight: bold\">&lt;</span><span style=\"color: #800080\">/</span><span style=\"color: #ff00ff\">a</span><span style=\"font-weight: bold\">&gt;</span>\n",
       "   <span style=\"font-weight: bold\">&lt;</span><span style=\"color: #800080\">/</span><span style=\"color: #ff00ff\">td</span><span style=\"font-weight: bold\">&gt;</span>\n",
       "   <span style=\"font-weight: bold\">&lt;</span><span style=\"color: #ff00ff; font-weight: bold\">td</span><span style=\"font-weight: bold\">&gt;</span>\n",
       "    <span style=\"font-weight: bold\">&lt;</span><span style=\"color: #ff00ff; font-weight: bold\">a</span><span style=\"color: #000000\"> </span><span style=\"color: #808000\">href</span><span style=\"color: #000000\">=</span><span style=\"color: #008000\">\"https://www.mobygames.com/company/mastertronic-group-ltd\"</span><span style=\"font-weight: bold\">&gt;</span>\n",
       "     Mastertronic Group Ltd.\n",
       "    <span style=\"font-weight: bold\">&lt;</span><span style=\"color: #800080\">/</span><span style=\"color: #ff00ff\">a</span><span style=\"font-weight: bold\">&gt;</span>\n",
       "   <span style=\"font-weight: bold\">&lt;</span><span style=\"color: #800080\">/</span><span style=\"color: #ff00ff\">td</span><span style=\"font-weight: bold\">&gt;</span>\n",
       "   <span style=\"font-weight: bold\">&lt;</span><span style=\"color: #ff00ff; font-weight: bold\">td</span><span style=\"font-weight: bold\">&gt;</span>\n",
       "    <span style=\"font-weight: bold\">&lt;</span><span style=\"color: #ff00ff; font-weight: bold\">a</span><span style=\"color: #000000\"> </span><span style=\"color: #808000\">href</span><span style=\"color: #000000\">=</span><span style=\"color: #008000\">\"https://www.mobygames.com/genre/sheet/special_edition/\"</span><span style=\"font-weight: bold\">&gt;</span>\n",
       "     Special edition\n",
       "    <span style=\"font-weight: bold\">&lt;</span><span style=\"color: #800080\">/</span><span style=\"color: #ff00ff\">a</span><span style=\"font-weight: bold\">&gt;</span>\n",
       "   <span style=\"font-weight: bold\">&lt;</span><span style=\"color: #800080\">/</span><span style=\"color: #ff00ff\">td</span><span style=\"font-weight: bold\">&gt;</span>\n",
       "   <span style=\"font-weight: bold\">&lt;</span><span style=\"color: #ff00ff; font-weight: bold\">td</span><span style=\"font-weight: bold\">&gt;</span>\n",
       "    <span style=\"font-weight: bold\">&lt;</span><span style=\"color: #ff00ff; font-weight: bold\">a</span><span style=\"color: #000000\"> </span><span style=\"color: #808000\">href</span><span style=\"color: #000000\">=</span><span style=\"color: #008000\">\"https://www.mobygames.com/browse/games/macintosh/\"</span><span style=\"font-weight: bold\">&gt;</span>\n",
       "     Macintosh\n",
       "    <span style=\"font-weight: bold\">&lt;</span><span style=\"color: #800080\">/</span><span style=\"color: #ff00ff\">a</span><span style=\"font-weight: bold\">&gt;</span>\n",
       "    ,\n",
       "    <span style=\"font-weight: bold\">&lt;</span><span style=\"color: #ff00ff; font-weight: bold\">a</span><span style=\"color: #000000\"> </span><span style=\"color: #808000\">href</span><span style=\"color: #000000\">=</span><span style=\"color: #008000\">\"https://www.mobygames.com/browse/games/windows/\"</span><span style=\"font-weight: bold\">&gt;</span>\n",
       "     Windows\n",
       "    <span style=\"font-weight: bold\">&lt;</span><span style=\"color: #800080\">/</span><span style=\"color: #ff00ff\">a</span><span style=\"font-weight: bold\">&gt;</span>\n",
       "   <span style=\"font-weight: bold\">&lt;</span><span style=\"color: #800080\">/</span><span style=\"color: #ff00ff\">td</span><span style=\"font-weight: bold\">&gt;</span>\n",
       "  <span style=\"font-weight: bold\">&lt;</span><span style=\"color: #800080\">/</span><span style=\"color: #ff00ff\">tr</span><span style=\"font-weight: bold\">&gt;</span>\n",
       "  <span style=\"font-weight: bold\">&lt;</span><span style=\"color: #ff00ff; font-weight: bold\">tr</span><span style=\"color: #000000\"> </span><span style=\"color: #808000\">valign</span><span style=\"color: #000000\">=</span><span style=\"color: #008000\">\"top\"</span><span style=\"font-weight: bold\">&gt;</span>\n",
       "   <span style=\"font-weight: bold\">&lt;</span><span style=\"color: #ff00ff; font-weight: bold\">td</span><span style=\"font-weight: bold\">&gt;</span>\n",
       "    <span style=\"font-weight: bold\">&lt;</span><span style=\"color: #ff00ff; font-weight: bold\">a</span><span style=\"color: #000000\"> </span><span style=\"color: #808000\">href</span><span style=\"color: #000000\">=</span><span style=\"color: #008000\">\"https://www.mobygames.com/game/0rca\"</span><span style=\"font-weight: bold\">&gt;</span>\n",
       "     0rca\n",
       "    <span style=\"font-weight: bold\">&lt;</span><span style=\"color: #800080\">/</span><span style=\"color: #ff00ff\">a</span><span style=\"font-weight: bold\">&gt;</span>\n",
       "   <span style=\"font-weight: bold\">&lt;</span><span style=\"color: #800080\">/</span><span style=\"color: #ff00ff\">td</span><span style=\"font-weight: bold\">&gt;</span>\n",
       "   <span style=\"font-weight: bold\">&lt;</span><span style=\"color: #ff00ff; font-weight: bold\">td</span><span style=\"font-weight: bold\">&gt;</span>\n",
       "    <span style=\"font-weight: bold\">&lt;</span><span style=\"color: #ff00ff; font-weight: bold\">a</span><span style=\"color: #000000\"> </span><span style=\"color: #808000\">href</span><span style=\"color: #000000\">=</span><span style=\"color: #008000\">\"https://www.mobygames.com/browse/games/2017/\"</span><span style=\"font-weight: bold\">&gt;</span>\n",
       "     <span style=\"color: #000080; font-weight: bold\">2017</span>\n",
       "    <span style=\"font-weight: bold\">&lt;</span><span style=\"color: #800080\">/</span><span style=\"color: #ff00ff\">a</span><span style=\"font-weight: bold\">&gt;</span>\n",
       "   <span style=\"font-weight: bold\">&lt;</span><span style=\"color: #800080\">/</span><span style=\"color: #ff00ff\">td</span><span style=\"font-weight: bold\">&gt;</span>\n",
       "   <span style=\"font-weight: bold\">&lt;</span><span style=\"color: #ff00ff; font-weight: bold\">td</span><span style=\"font-weight: bold\">&gt;</span>\n",
       "    <span style=\"font-weight: bold\">&lt;</span><span style=\"color: #ff00ff; font-weight: bold\">a</span><span style=\"color: #000000\"> </span><span style=\"color: #808000\">href</span><span style=\"color: #000000\">=</span><span style=\"color: #008000\">\"https://www.mobygames.com/company/turezure-soft\"</span><span style=\"font-weight: bold\">&gt;</span>\n",
       "     Turezure soft\n",
       "    <span style=\"font-weight: bold\">&lt;</span><span style=\"color: #800080\">/</span><span style=\"color: #ff00ff\">a</span><span style=\"font-weight: bold\">&gt;</span>\n",
       "   <span style=\"font-weight: bold\">&lt;</span><span style=\"color: #800080\">/</span><span style=\"color: #ff00ff\">td</span><span style=\"font-weight: bold\">&gt;</span>\n",
       "   <span style=\"font-weight: bold\">&lt;</span><span style=\"color: #ff00ff; font-weight: bold\">td</span><span style=\"font-weight: bold\">&gt;</span>\n",
       "    <span style=\"font-weight: bold\">&lt;</span><span style=\"color: #ff00ff; font-weight: bold\">a</span><span style=\"color: #000000\"> </span><span style=\"color: #808000\">href</span><span style=\"color: #000000\">=</span><span style=\"color: #008000\">\"https://www.mobygames.com/genre/sheet/action/\"</span><span style=\"font-weight: bold\">&gt;</span>\n",
       "     Action\n",
       "    <span style=\"font-weight: bold\">&lt;</span><span style=\"color: #800080\">/</span><span style=\"color: #ff00ff\">a</span><span style=\"font-weight: bold\">&gt;</span>\n",
       "   <span style=\"font-weight: bold\">&lt;</span><span style=\"color: #800080\">/</span><span style=\"color: #ff00ff\">td</span><span style=\"font-weight: bold\">&gt;</span>\n",
       "   <span style=\"font-weight: bold\">&lt;</span><span style=\"color: #ff00ff; font-weight: bold\">td</span><span style=\"font-weight: bold\">&gt;</span>\n",
       "    <span style=\"font-weight: bold\">&lt;</span><span style=\"color: #ff00ff; font-weight: bold\">a</span><span style=\"color: #000000\"> </span><span style=\"color: #808000\">href</span><span style=\"color: #000000\">=</span><span style=\"color: #008000\">\"https://www.mobygames.com/browse/games/android/\"</span><span style=\"font-weight: bold\">&gt;</span>\n",
       "     Android\n",
       "    <span style=\"font-weight: bold\">&lt;</span><span style=\"color: #800080\">/</span><span style=\"color: #ff00ff\">a</span><span style=\"font-weight: bold\">&gt;</span>\n",
       "    ,\n",
       "    <span style=\"font-weight: bold\">&lt;</span><span style=\"color: #ff00ff; font-weight: bold\">a</span><span style=\"color: #000000\"> </span><span style=\"color: #808000\">href</span><span style=\"color: #000000\">=</span><span style=\"color: #008000\">\"https://www.mobygames.com/browse/games/windows/\"</span><span style=\"font-weight: bold\">&gt;</span>\n",
       "     Windows\n",
       "    <span style=\"font-weight: bold\">&lt;</span><span style=\"color: #800080\">/</span><span style=\"color: #ff00ff\">a</span><span style=\"font-weight: bold\">&gt;</span>\n",
       "   <span style=\"font-weight: bold\">&lt;</span><span style=\"color: #800080\">/</span><span style=\"color: #ff00ff\">td</span><span style=\"font-weight: bold\">&gt;</span>\n",
       "  <span style=\"font-weight: bold\">&lt;</span><span style=\"color: #800080\">/</span><span style=\"color: #ff00ff\">tr</span><span style=\"font-weight: bold\">&gt;</span>\n",
       "  <span style=\"font-weight: bold\">&lt;</span><span style=\"color: #ff00ff; font-weight: bold\">tr</span><span style=\"color: #000000\"> </span><span style=\"color: #808000\">valign</span><span style=\"color: #000000\">=</span><span style=\"color: #008000\">\"top\"</span><span style=\"font-weight: bold\">&gt;</span>\n",
       "   <span style=\"font-weight: bold\">&lt;</span><span style=\"color: #ff00ff; font-weight: bold\">td</span><span style=\"font-weight: bold\">&gt;</span>\n",
       "    <span style=\"font-weight: bold\">&lt;</span><span style=\"color: #ff00ff; font-weight: bold\">a</span><span style=\"color: #000000\"> </span><span style=\"color: #808000\">href</span><span style=\"color: #000000\">=</span><span style=\"color: #008000\">\"https://www.mobygames.com/game/not1prop0\"</span><span style=\"font-weight: bold\">&gt;</span>\n",
       "     !<span style=\"color: #000080; font-weight: bold\">1</span>∝<span style=\"color: #000080; font-weight: bold\">0</span>\n",
       "    <span style=\"font-weight: bold\">&lt;</span><span style=\"color: #800080\">/</span><span style=\"color: #ff00ff\">a</span><span style=\"font-weight: bold\">&gt;</span>\n",
       "   <span style=\"font-weight: bold\">&lt;</span><span style=\"color: #800080\">/</span><span style=\"color: #ff00ff\">td</span><span style=\"font-weight: bold\">&gt;</span>\n",
       "   <span style=\"font-weight: bold\">&lt;</span><span style=\"color: #ff00ff; font-weight: bold\">td</span><span style=\"font-weight: bold\">&gt;</span>\n",
       "    <span style=\"font-weight: bold\">&lt;</span><span style=\"color: #ff00ff; font-weight: bold\">a</span><span style=\"color: #000000\"> </span><span style=\"color: #808000\">href</span><span style=\"color: #000000\">=</span><span style=\"color: #008000\">\"https://www.mobygames.com/browse/games/2015/\"</span><span style=\"font-weight: bold\">&gt;</span>\n",
       "     <span style=\"color: #000080; font-weight: bold\">2015</span>\n",
       "    <span style=\"font-weight: bold\">&lt;</span><span style=\"color: #800080\">/</span><span style=\"color: #ff00ff\">a</span><span style=\"font-weight: bold\">&gt;</span>\n",
       "   <span style=\"font-weight: bold\">&lt;</span><span style=\"color: #800080\">/</span><span style=\"color: #ff00ff\">td</span><span style=\"font-weight: bold\">&gt;</span>\n",
       "   <span style=\"font-weight: bold\">&lt;</span><span style=\"color: #ff00ff; font-weight: bold\">td</span><span style=\"font-weight: bold\">&gt;</span>\n",
       "   <span style=\"font-weight: bold\">&lt;</span><span style=\"color: #800080\">/</span><span style=\"color: #ff00ff\">td</span><span style=\"font-weight: bold\">&gt;</span>\n",
       "   <span style=\"font-weight: bold\">&lt;</span><span style=\"color: #ff00ff; font-weight: bold\">td</span><span style=\"font-weight: bold\">&gt;</span>\n",
       "    <span style=\"font-weight: bold\">&lt;</span><span style=\"color: #ff00ff; font-weight: bold\">a</span><span style=\"color: #000000\"> </span><span style=\"color: #808000\">href</span><span style=\"color: #000000\">=</span><span style=\"color: #008000\">\"https://www.mobygames.com/genre/sheet/puzzle/\"</span><span style=\"font-weight: bold\">&gt;</span>\n",
       "     Puzzle\n",
       "    <span style=\"font-weight: bold\">&lt;</span><span style=\"color: #800080\">/</span><span style=\"color: #ff00ff\">a</span><span style=\"font-weight: bold\">&gt;</span>\n",
       "   <span style=\"font-weight: bold\">&lt;</span><span style=\"color: #800080\">/</span><span style=\"color: #ff00ff\">td</span><span style=\"font-weight: bold\">&gt;</span>\n",
       "   <span style=\"font-weight: bold\">&lt;</span><span style=\"color: #ff00ff; font-weight: bold\">td</span><span style=\"font-weight: bold\">&gt;</span>\n",
       "    <span style=\"font-weight: bold\">&lt;</span><span style=\"color: #ff00ff; font-weight: bold\">a</span><span style=\"color: #000000\"> </span><span style=\"color: #808000\">href</span><span style=\"color: #000000\">=</span><span style=\"color: #008000\">\"https://www.mobygames.com/browse/games/ipad/\"</span><span style=\"font-weight: bold\">&gt;</span>\n",
       "     iPad\n",
       "    <span style=\"font-weight: bold\">&lt;</span><span style=\"color: #800080\">/</span><span style=\"color: #ff00ff\">a</span><span style=\"font-weight: bold\">&gt;</span>\n",
       "    ,\n",
       "    <span style=\"font-weight: bold\">&lt;</span><span style=\"color: #ff00ff; font-weight: bold\">a</span><span style=\"color: #000000\"> </span><span style=\"color: #808000\">href</span><span style=\"color: #000000\">=</span><span style=\"color: #008000\">\"https://www.mobygames.com/browse/games/iphone/\"</span><span style=\"font-weight: bold\">&gt;</span>\n",
       "     iPhone\n",
       "    <span style=\"font-weight: bold\">&lt;</span><span style=\"color: #800080\">/</span><span style=\"color: #ff00ff\">a</span><span style=\"font-weight: bold\">&gt;</span>\n",
       "   <span style=\"font-weight: bold\">&lt;</span><span style=\"color: #800080\">/</span><span style=\"color: #ff00ff\">td</span><span style=\"font-weight: bold\">&gt;</span>\n",
       "  <span style=\"font-weight: bold\">&lt;</span><span style=\"color: #800080\">/</span><span style=\"color: #ff00ff\">tr</span><span style=\"font-weight: bold\">&gt;</span>\n",
       "  <span style=\"font-weight: bold\">&lt;</span><span style=\"color: #ff00ff; font-weight: bold\">tr</span><span style=\"color: #000000\"> </span><span style=\"color: #808000\">valign</span><span style=\"color: #000000\">=</span><span style=\"color: #008000\">\"top\"</span><span style=\"font-weight: bold\">&gt;</span>\n",
       "   <span style=\"font-weight: bold\">&lt;</span><span style=\"color: #ff00ff; font-weight: bold\">td</span><span style=\"font-weight: bold\">&gt;</span>\n",
       "    <span style=\"font-weight: bold\">&lt;</span><span style=\"color: #ff00ff; font-weight: bold\">a</span><span style=\"color: #000000\"> </span><span style=\"color: #808000\">href</span><span style=\"color: #000000\">=</span><span style=\"color: #008000\">\"https://www.mobygames.com/game/100zx\"</span><span style=\"font-weight: bold\">&gt;</span>\n",
       "     <span style=\"color: #000080; font-weight: bold\">100</span>\n",
       "    <span style=\"font-weight: bold\">&lt;</span><span style=\"color: #800080\">/</span><span style=\"color: #ff00ff\">a</span><span style=\"font-weight: bold\">&gt;</span>\n",
       "   <span style=\"font-weight: bold\">&lt;</span><span style=\"color: #800080\">/</span><span style=\"color: #ff00ff\">td</span><span style=\"font-weight: bold\">&gt;</span>\n",
       "   <span style=\"font-weight: bold\">&lt;</span><span style=\"color: #ff00ff; font-weight: bold\">td</span><span style=\"font-weight: bold\">&gt;</span>\n",
       "    <span style=\"font-weight: bold\">&lt;</span><span style=\"color: #ff00ff; font-weight: bold\">a</span><span style=\"color: #000000\"> </span><span style=\"color: #808000\">href</span><span style=\"color: #000000\">=</span><span style=\"color: #008000\">\"https://www.mobygames.com/browse/games/1995/\"</span><span style=\"font-weight: bold\">&gt;</span>\n",
       "     <span style=\"color: #000080; font-weight: bold\">1995</span>\n",
       "    <span style=\"font-weight: bold\">&lt;</span><span style=\"color: #800080\">/</span><span style=\"color: #ff00ff\">a</span><span style=\"font-weight: bold\">&gt;</span>\n",
       "   <span style=\"font-weight: bold\">&lt;</span><span style=\"color: #800080\">/</span><span style=\"color: #ff00ff\">td</span><span style=\"font-weight: bold\">&gt;</span>\n",
       "   <span style=\"font-weight: bold\">&lt;</span><span style=\"color: #ff00ff; font-weight: bold\">td</span><span style=\"font-weight: bold\">&gt;</span>\n",
       "    <span style=\"font-weight: bold\">&lt;</span><span style=\"color: #ff00ff; font-weight: bold\">a</span><span style=\"color: #000000\"> </span><span style=\"color: #808000\">href</span><span style=\"color: #000000\">=</span><span style=\"color: #008000\">\"https://www.mobygames.com/company/power-of-sound\"</span><span style=\"font-weight: bold\">&gt;</span>\n",
       "     Power of Sound\n",
       "    <span style=\"font-weight: bold\">&lt;</span><span style=\"color: #800080\">/</span><span style=\"color: #ff00ff\">a</span><span style=\"font-weight: bold\">&gt;</span>\n",
       "   <span style=\"font-weight: bold\">&lt;</span><span style=\"color: #800080\">/</span><span style=\"color: #ff00ff\">td</span><span style=\"font-weight: bold\">&gt;</span>\n",
       "   <span style=\"font-weight: bold\">&lt;</span><span style=\"color: #ff00ff; font-weight: bold\">td</span><span style=\"font-weight: bold\">&gt;</span>\n",
       "    <span style=\"font-weight: bold\">&lt;</span><span style=\"color: #ff00ff; font-weight: bold\">a</span><span style=\"color: #000000\"> </span><span style=\"color: #808000\">href</span><span style=\"color: #000000\">=</span><span style=\"color: #008000\">\"https://www.mobygames.com/genre/sheet/puzzle/\"</span><span style=\"font-weight: bold\">&gt;</span>\n",
       "     Puzzle\n",
       "    <span style=\"font-weight: bold\">&lt;</span><span style=\"color: #800080\">/</span><span style=\"color: #ff00ff\">a</span><span style=\"font-weight: bold\">&gt;</span>\n",
       "   <span style=\"font-weight: bold\">&lt;</span><span style=\"color: #800080\">/</span><span style=\"color: #ff00ff\">td</span><span style=\"font-weight: bold\">&gt;</span>\n",
       "   <span style=\"font-weight: bold\">&lt;</span><span style=\"color: #ff00ff; font-weight: bold\">td</span><span style=\"font-weight: bold\">&gt;</span>\n",
       "    <span style=\"font-weight: bold\">&lt;</span><span style=\"color: #ff00ff; font-weight: bold\">a</span><span style=\"color: #000000\"> </span><span style=\"color: #808000\">href</span><span style=\"color: #000000\">=</span><span style=\"color: #008000\">\"https://www.mobygames.com/browse/games/zx-spectrum/\"</span><span style=\"font-weight: bold\">&gt;</span>\n",
       "     ZX Spectrum\n",
       "    <span style=\"font-weight: bold\">&lt;</span><span style=\"color: #800080\">/</span><span style=\"color: #ff00ff\">a</span><span style=\"font-weight: bold\">&gt;</span>\n",
       "   <span style=\"font-weight: bold\">&lt;</span><span style=\"color: #800080\">/</span><span style=\"color: #ff00ff\">td</span><span style=\"font-weight: bold\">&gt;</span>\n",
       "  <span style=\"font-weight: bold\">&lt;</span><span style=\"color: #800080\">/</span><span style=\"color: #ff00ff\">tr</span><span style=\"font-weight: bold\">&gt;</span>\n",
       "  <span style=\"font-weight: bold\">&lt;</span><span style=\"color: #ff00ff; font-weight: bold\">tr</span><span style=\"color: #000000\"> </span><span style=\"color: #808000\">valign</span><span style=\"color: #000000\">=</span><span style=\"color: #008000\">\"top\"</span><span style=\"font-weight: bold\">&gt;</span>\n",
       "   <span style=\"font-weight: bold\">&lt;</span><span style=\"color: #ff00ff; font-weight: bold\">td</span><span style=\"font-weight: bold\">&gt;</span>\n",
       "    <span style=\"font-weight: bold\">&lt;</span><span style=\"color: #ff00ff; font-weight: bold\">a</span><span style=\"color: #000000\"> </span><span style=\"color: #808000\">href</span><span style=\"color: #000000\">=</span><span style=\"color: #008000\">\"https://www.mobygames.com/game/100euro\"</span><span style=\"font-weight: bold\">&gt;</span>\n",
       "     €<span style=\"color: #000080; font-weight: bold\">100</span>\n",
       "    <span style=\"font-weight: bold\">&lt;</span><span style=\"color: #800080\">/</span><span style=\"color: #ff00ff\">a</span><span style=\"font-weight: bold\">&gt;</span>\n",
       "   <span style=\"font-weight: bold\">&lt;</span><span style=\"color: #800080\">/</span><span style=\"color: #ff00ff\">td</span><span style=\"font-weight: bold\">&gt;</span>\n",
       "   <span style=\"font-weight: bold\">&lt;</span><span style=\"color: #ff00ff; font-weight: bold\">td</span><span style=\"font-weight: bold\">&gt;</span>\n",
       "    <span style=\"font-weight: bold\">&lt;</span><span style=\"color: #ff00ff; font-weight: bold\">a</span><span style=\"color: #000000\"> </span><span style=\"color: #808000\">href</span><span style=\"color: #000000\">=</span><span style=\"color: #008000\">\"https://www.mobygames.com/browse/games/2019/\"</span><span style=\"font-weight: bold\">&gt;</span>\n",
       "     <span style=\"color: #000080; font-weight: bold\">2019</span>\n",
       "    <span style=\"font-weight: bold\">&lt;</span><span style=\"color: #800080\">/</span><span style=\"color: #ff00ff\">a</span><span style=\"font-weight: bold\">&gt;</span>\n",
       "   <span style=\"font-weight: bold\">&lt;</span><span style=\"color: #800080\">/</span><span style=\"color: #ff00ff\">td</span><span style=\"font-weight: bold\">&gt;</span>\n",
       "   <span style=\"font-weight: bold\">&lt;</span><span style=\"color: #ff00ff; font-weight: bold\">td</span><span style=\"font-weight: bold\">&gt;</span>\n",
       "    <span style=\"font-weight: bold\">&lt;</span><span style=\"color: #ff00ff; font-weight: bold\">a</span><span style=\"color: #000000\"> </span><span style=\"color: #808000\">href</span><span style=\"color: #000000\">=</span><span style=\"color: #008000\">\"https://www.mobygames.com/company/kuko\"</span><span style=\"font-weight: bold\">&gt;</span>\n",
       "     KuKo\n",
       "    <span style=\"font-weight: bold\">&lt;</span><span style=\"color: #800080\">/</span><span style=\"color: #ff00ff\">a</span><span style=\"font-weight: bold\">&gt;</span>\n",
       "   <span style=\"font-weight: bold\">&lt;</span><span style=\"color: #800080\">/</span><span style=\"color: #ff00ff\">td</span><span style=\"font-weight: bold\">&gt;</span>\n",
       "   <span style=\"font-weight: bold\">&lt;</span><span style=\"color: #ff00ff; font-weight: bold\">td</span><span style=\"font-weight: bold\">&gt;</span>\n",
       "    <span style=\"font-weight: bold\">&lt;</span><span style=\"color: #ff00ff; font-weight: bold\">a</span><span style=\"color: #000000\"> </span><span style=\"color: #808000\">href</span><span style=\"color: #000000\">=</span><span style=\"color: #008000\">\"https://www.mobygames.com/genre/sheet/action/\"</span><span style=\"font-weight: bold\">&gt;</span>\n",
       "     Action\n",
       "    <span style=\"font-weight: bold\">&lt;</span><span style=\"color: #800080\">/</span><span style=\"color: #ff00ff\">a</span><span style=\"font-weight: bold\">&gt;</span>\n",
       "   <span style=\"font-weight: bold\">&lt;</span><span style=\"color: #800080\">/</span><span style=\"color: #ff00ff\">td</span><span style=\"font-weight: bold\">&gt;</span>\n",
       "   <span style=\"font-weight: bold\">&lt;</span><span style=\"color: #ff00ff; font-weight: bold\">td</span><span style=\"font-weight: bold\">&gt;</span>\n",
       "    <span style=\"font-weight: bold\">&lt;</span><span style=\"color: #ff00ff; font-weight: bold\">a</span><span style=\"color: #000000\"> </span><span style=\"color: #808000\">href</span><span style=\"color: #000000\">=</span><span style=\"color: #008000\">\"https://www.mobygames.com/browse/games/windows/\"</span><span style=\"font-weight: bold\">&gt;</span>\n",
       "     Windows\n",
       "    <span style=\"font-weight: bold\">&lt;</span><span style=\"color: #800080\">/</span><span style=\"color: #ff00ff\">a</span><span style=\"font-weight: bold\">&gt;</span>\n",
       "   <span style=\"font-weight: bold\">&lt;</span><span style=\"color: #800080\">/</span><span style=\"color: #ff00ff\">td</span><span style=\"font-weight: bold\">&gt;</span>\n",
       "  <span style=\"font-weight: bold\">&lt;</span><span style=\"color: #800080\">/</span><span style=\"color: #ff00ff\">tr</span><span style=\"font-weight: bold\">&gt;</span>\n",
       " <span style=\"font-weight: bold\">&lt;</span><span style=\"color: #800080\">/</span><span style=\"color: #ff00ff\">tbody</span><span style=\"font-weight: bold\">&gt;</span>\n",
       "<span style=\"font-weight: bold\">&lt;</span><span style=\"color: #800080\">/</span><span style=\"color: #ff00ff\">table</span><span style=\"font-weight: bold\">&gt;</span>\n",
       "</pre>\n"
      ],
      "text/plain": [
       "<rich.jupyter.JupyterRenderable at 0x20bb9da9c70>"
      ]
     },
     "metadata": {},
     "output_type": "display_data"
    }
   ],
   "source": [
    "print(tablo[0].prettify())"
   ]
  },
  {
   "cell_type": "code",
   "execution_count": 57,
   "id": "latin-female",
   "metadata": {},
   "outputs": [],
   "source": [
    "elements = tablo[0].find_all(name = 'tr')"
   ]
  },
  {
   "cell_type": "code",
   "execution_count": 58,
   "id": "instrumental-firewall",
   "metadata": {},
   "outputs": [
    {
     "data": {
      "text/plain": [
       "<tr><td><b><a class=\"windowTitle\" href=\"https://www.mobygames.com/browse/games/offset,25/so,0d/list-games/\" title=\"Sort by Game Title\"><img alt=\"sorted in ascending order\" border=\"0\" height=\"7\" hspace=\"3\" src=\"/images/asc.gif\" width=\"7\"/>Game Title</a></b></td><td><b><a class=\"windowTitle\" href=\"https://www.mobygames.com/browse/games/offset,25/so,1d/list-games/\" title=\"Sort by Year\">Year</a></b></td><td><b><a class=\"windowTitle\" href=\"https://www.mobygames.com/browse/games/offset,25/so,2a/list-games/\" title=\"Sort by Publisher\">Publisher</a></b></td><td><b>Genre</b></td><td><b>Platform</b></td></tr>"
      ]
     },
     "execution_count": 58,
     "metadata": {},
     "output_type": "execute_result"
    }
   ],
   "source": [
    "elements.pop(0)"
   ]
  },
  {
   "cell_type": "code",
   "execution_count": 61,
   "id": "opened-lawsuit",
   "metadata": {},
   "outputs": [
    {
     "data": {
      "text/plain": [
       "[<a href=\"https://www.mobygames.com/game/007-quantum-of-solace__\">007: Quantum of Solace</a>,\n",
       " <a href=\"https://www.mobygames.com/browse/games/2008/\">2008</a>,\n",
       " <a href=\"https://www.mobygames.com/company/activision-publishing-inc\">Activision Publishing, Inc.</a>,\n",
       " <a href=\"https://www.mobygames.com/genre/sheet/action/\">Action</a>,\n",
       " <a href=\"https://www.mobygames.com/browse/games/ps2/\">PlayStation 2</a>]"
      ]
     },
     "execution_count": 61,
     "metadata": {},
     "output_type": "execute_result"
    }
   ],
   "source": [
    "elements[1].find_all(href = True)"
   ]
  },
  {
   "cell_type": "code",
   "execution_count": 66,
   "id": "swiss-privilege",
   "metadata": {
    "collapsed": true,
    "jupyter": {
     "outputs_hidden": true
    }
   },
   "outputs": [
    {
     "data": {
      "text/html": [
       "<pre style=\"white-space:pre;overflow-x:auto;line-height:normal;font-family:Menlo,'DejaVu Sans Mono',consolas,'Courier New',monospace\"><span style=\"color: #0000ff; text-decoration: underline\">https://www.mobygames.com/game/007-quantum-of-solace</span>\n",
       "</pre>\n"
      ],
      "text/plain": [
       "<rich.jupyter.JupyterRenderable at 0x20bba0a3a90>"
      ]
     },
     "metadata": {},
     "output_type": "display_data"
    },
    {
     "data": {
      "text/html": [
       "<pre style=\"white-space:pre;overflow-x:auto;line-height:normal;font-family:Menlo,'DejaVu Sans Mono',consolas,'Courier New',monospace\"><span style=\"color: #0000ff; text-decoration: underline\">https://www.mobygames.com/game/007-quantum-of-solace__</span>\n",
       "</pre>\n"
      ],
      "text/plain": [
       "<rich.jupyter.JupyterRenderable at 0x20bb97046d0>"
      ]
     },
     "metadata": {},
     "output_type": "display_data"
    },
    {
     "data": {
      "text/html": [
       "<pre style=\"white-space:pre;overflow-x:auto;line-height:normal;font-family:Menlo,'DejaVu Sans Mono',consolas,'Courier New',monospace\"><span style=\"color: #0000ff; text-decoration: underline\">https://www.mobygames.com/game/007-quantum-of-solace-collectors-edition</span>\n",
       "</pre>\n"
      ],
      "text/plain": [
       "<rich.jupyter.JupyterRenderable at 0x20bb97043d0>"
      ]
     },
     "metadata": {},
     "output_type": "display_data"
    },
    {
     "data": {
      "text/html": [
       "<pre style=\"white-space:pre;overflow-x:auto;line-height:normal;font-family:Menlo,'DejaVu Sans Mono',consolas,'Courier New',monospace\"><span style=\"color: #0000ff; text-decoration: underline\">https://www.mobygames.com/game/007-racing</span>\n",
       "</pre>\n"
      ],
      "text/plain": [
       "<rich.jupyter.JupyterRenderable at 0x20bb97046d0>"
      ]
     },
     "metadata": {},
     "output_type": "display_data"
    },
    {
     "data": {
      "text/html": [
       "<pre style=\"white-space:pre;overflow-x:auto;line-height:normal;font-family:Menlo,'DejaVu Sans Mono',consolas,'Courier New',monospace\"><span style=\"color: #0000ff; text-decoration: underline\">https://www.mobygames.com/game/007-the-world-is-not-enough__</span>\n",
       "</pre>\n"
      ],
      "text/plain": [
       "<rich.jupyter.JupyterRenderable at 0x20bbbe025e0>"
      ]
     },
     "metadata": {},
     "output_type": "display_data"
    },
    {
     "data": {
      "text/html": [
       "<pre style=\"white-space:pre;overflow-x:auto;line-height:normal;font-family:Menlo,'DejaVu Sans Mono',consolas,'Courier New',monospace\"><span style=\"color: #0000ff; text-decoration: underline\">https://www.mobygames.com/game/007-the-world-is-not-enough</span>\n",
       "</pre>\n"
      ],
      "text/plain": [
       "<rich.jupyter.JupyterRenderable at 0x20bb97043d0>"
      ]
     },
     "metadata": {},
     "output_type": "display_data"
    },
    {
     "data": {
      "text/html": [
       "<pre style=\"white-space:pre;overflow-x:auto;line-height:normal;font-family:Menlo,'DejaVu Sans Mono',consolas,'Courier New',monospace\"><span style=\"color: #0000ff; text-decoration: underline\">https://www.mobygames.com/game/007-the-world-is-not-enough_</span>\n",
       "</pre>\n"
      ],
      "text/plain": [
       "<rich.jupyter.JupyterRenderable at 0x20bbbe21d60>"
      ]
     },
     "metadata": {},
     "output_type": "display_data"
    },
    {
     "data": {
      "text/html": [
       "<pre style=\"white-space:pre;overflow-x:auto;line-height:normal;font-family:Menlo,'DejaVu Sans Mono',consolas,'Courier New',monospace\"><span style=\"color: #0000ff; text-decoration: underline\">https://www.mobygames.com/game/007-tomorrow-never-dies</span>\n",
       "</pre>\n"
      ],
      "text/plain": [
       "<rich.jupyter.JupyterRenderable at 0x20bbbe02790>"
      ]
     },
     "metadata": {},
     "output_type": "display_data"
    },
    {
     "data": {
      "text/html": [
       "<pre style=\"white-space:pre;overflow-x:auto;line-height:normal;font-family:Menlo,'DejaVu Sans Mono',consolas,'Courier New',monospace\"><span style=\"color: #0000ff; text-decoration: underline\">https://www.mobygames.com/game/03dot04</span>\n",
       "</pre>\n"
      ],
      "text/plain": [
       "<rich.jupyter.JupyterRenderable at 0x20bb97043d0>"
      ]
     },
     "metadata": {},
     "output_type": "display_data"
    },
    {
     "data": {
      "text/html": [
       "<pre style=\"white-space:pre;overflow-x:auto;line-height:normal;font-family:Menlo,'DejaVu Sans Mono',consolas,'Courier New',monospace\"><span style=\"color: #0000ff; text-decoration: underline\">https://www.mobygames.com/game/07-zgo-si_</span>\n",
       "</pre>\n"
      ],
      "text/plain": [
       "<rich.jupyter.JupyterRenderable at 0x20bb97b4670>"
      ]
     },
     "metadata": {},
     "output_type": "display_data"
    },
    {
     "data": {
      "text/html": [
       "<pre style=\"white-space:pre;overflow-x:auto;line-height:normal;font-family:Menlo,'DejaVu Sans Mono',consolas,'Courier New',monospace\"><span style=\"color: #0000ff; text-decoration: underline\">https://www.mobygames.com/game/07-zgo-si</span>\n",
       "</pre>\n"
      ],
      "text/plain": [
       "<rich.jupyter.JupyterRenderable at 0x20bb97046d0>"
      ]
     },
     "metadata": {},
     "output_type": "display_data"
    },
    {
     "data": {
      "text/html": [
       "<pre style=\"white-space:pre;overflow-x:auto;line-height:normal;font-family:Menlo,'DejaVu Sans Mono',consolas,'Courier New',monospace\"><span style=\"color: #0000ff; text-decoration: underline\">https://www.mobygames.com/game/07-zgo-si-collectors-edition</span>\n",
       "</pre>\n"
      ],
      "text/plain": [
       "<rich.jupyter.JupyterRenderable at 0x20bba0a3a30>"
      ]
     },
     "metadata": {},
     "output_type": "display_data"
    },
    {
     "data": {
      "text/html": [
       "<pre style=\"white-space:pre;overflow-x:auto;line-height:normal;font-family:Menlo,'DejaVu Sans Mono',consolas,'Courier New',monospace\"><span style=\"color: #0000ff; text-decoration: underline\">https://www.mobygames.com/game/0-and-x</span>\n",
       "</pre>\n"
      ],
      "text/plain": [
       "<rich.jupyter.JupyterRenderable at 0x20bbbe21d60>"
      ]
     },
     "metadata": {},
     "output_type": "display_data"
    },
    {
     "data": {
      "text/html": [
       "<pre style=\"white-space:pre;overflow-x:auto;line-height:normal;font-family:Menlo,'DejaVu Sans Mono',consolas,'Courier New',monospace\"><span style=\"color: #0000ff; text-decoration: underline\">https://www.mobygames.com/game/0-day</span>\n",
       "</pre>\n"
      ],
      "text/plain": [
       "<rich.jupyter.JupyterRenderable at 0x20bba0a3a90>"
      ]
     },
     "metadata": {},
     "output_type": "display_data"
    },
    {
     "data": {
      "text/html": [
       "<pre style=\"white-space:pre;overflow-x:auto;line-height:normal;font-family:Menlo,'DejaVu Sans Mono',consolas,'Courier New',monospace\"><span style=\"color: #0000ff; text-decoration: underline\">https://www.mobygames.com/game/0-day-attack-on-earth</span>\n",
       "</pre>\n"
      ],
      "text/plain": [
       "<rich.jupyter.JupyterRenderable at 0x20bb97043d0>"
      ]
     },
     "metadata": {},
     "output_type": "display_data"
    },
    {
     "data": {
      "text/html": [
       "<pre style=\"white-space:pre;overflow-x:auto;line-height:normal;font-family:Menlo,'DejaVu Sans Mono',consolas,'Courier New',monospace\"><span style=\"color: #0000ff; text-decoration: underline\">https://www.mobygames.com/game/0d-beat-drop</span>\n",
       "</pre>\n"
      ],
      "text/plain": [
       "<rich.jupyter.JupyterRenderable at 0x20bbbe02790>"
      ]
     },
     "metadata": {},
     "output_type": "display_data"
    },
    {
     "data": {
      "text/html": [
       "<pre style=\"white-space:pre;overflow-x:auto;line-height:normal;font-family:Menlo,'DejaVu Sans Mono',consolas,'Courier New',monospace\"><span style=\"color: #0000ff; text-decoration: underline\">https://www.mobygames.com/game/0-degrees</span>\n",
       "</pre>\n"
      ],
      "text/plain": [
       "<rich.jupyter.JupyterRenderable at 0x20bb97b4670>"
      ]
     },
     "metadata": {},
     "output_type": "display_data"
    },
    {
     "data": {
      "text/html": [
       "<pre style=\"white-space:pre;overflow-x:auto;line-height:normal;font-family:Menlo,'DejaVu Sans Mono',consolas,'Courier New',monospace\"><span style=\"color: #0000ff; text-decoration: underline\">https://www.mobygames.com/game/0n-0w</span>\n",
       "</pre>\n"
      ],
      "text/plain": [
       "<rich.jupyter.JupyterRenderable at 0x20bba0a3a30>"
      ]
     },
     "metadata": {},
     "output_type": "display_data"
    },
    {
     "data": {
      "text/html": [
       "<pre style=\"white-space:pre;overflow-x:auto;line-height:normal;font-family:Menlo,'DejaVu Sans Mono',consolas,'Courier New',monospace\"><span style=\"color: #0000ff; text-decoration: underline\">https://www.mobygames.com/game/0-nord</span>\n",
       "</pre>\n"
      ],
      "text/plain": [
       "<rich.jupyter.JupyterRenderable at 0x20bbbe02a90>"
      ]
     },
     "metadata": {},
     "output_type": "display_data"
    },
    {
     "data": {
      "text/html": [
       "<pre style=\"white-space:pre;overflow-x:auto;line-height:normal;font-family:Menlo,'DejaVu Sans Mono',consolas,'Courier New',monospace\"><span style=\"color: #0000ff; text-decoration: underline\">https://www.mobygames.com/game/0rbitalis</span>\n",
       "</pre>\n"
      ],
      "text/plain": [
       "<rich.jupyter.JupyterRenderable at 0x20bbbe02910>"
      ]
     },
     "metadata": {},
     "output_type": "display_data"
    },
    {
     "data": {
      "text/html": [
       "<pre style=\"white-space:pre;overflow-x:auto;line-height:normal;font-family:Menlo,'DejaVu Sans Mono',consolas,'Courier New',monospace\"><span style=\"color: #0000ff; text-decoration: underline\">https://www.mobygames.com/game/0rbitalis-supernova-edition</span>\n",
       "</pre>\n"
      ],
      "text/plain": [
       "<rich.jupyter.JupyterRenderable at 0x20bb97b4670>"
      ]
     },
     "metadata": {},
     "output_type": "display_data"
    },
    {
     "data": {
      "text/html": [
       "<pre style=\"white-space:pre;overflow-x:auto;line-height:normal;font-family:Menlo,'DejaVu Sans Mono',consolas,'Courier New',monospace\"><span style=\"color: #0000ff; text-decoration: underline\">https://www.mobygames.com/game/0rca</span>\n",
       "</pre>\n"
      ],
      "text/plain": [
       "<rich.jupyter.JupyterRenderable at 0x20bb97046d0>"
      ]
     },
     "metadata": {},
     "output_type": "display_data"
    },
    {
     "data": {
      "text/html": [
       "<pre style=\"white-space:pre;overflow-x:auto;line-height:normal;font-family:Menlo,'DejaVu Sans Mono',consolas,'Courier New',monospace\"><span style=\"color: #0000ff; text-decoration: underline\">https://www.mobygames.com/game/not1prop0</span>\n",
       "</pre>\n"
      ],
      "text/plain": [
       "<rich.jupyter.JupyterRenderable at 0x20bba0a3a30>"
      ]
     },
     "metadata": {},
     "output_type": "display_data"
    },
    {
     "data": {
      "text/html": [
       "<pre style=\"white-space:pre;overflow-x:auto;line-height:normal;font-family:Menlo,'DejaVu Sans Mono',consolas,'Courier New',monospace\"><span style=\"color: #0000ff; text-decoration: underline\">https://www.mobygames.com/game/100zx</span>\n",
       "</pre>\n"
      ],
      "text/plain": [
       "<rich.jupyter.JupyterRenderable at 0x20bbbe21d60>"
      ]
     },
     "metadata": {},
     "output_type": "display_data"
    },
    {
     "data": {
      "text/html": [
       "<pre style=\"white-space:pre;overflow-x:auto;line-height:normal;font-family:Menlo,'DejaVu Sans Mono',consolas,'Courier New',monospace\"><span style=\"color: #0000ff; text-decoration: underline\">https://www.mobygames.com/game/100euro</span>\n",
       "</pre>\n"
      ],
      "text/plain": [
       "<rich.jupyter.JupyterRenderable at 0x20bba0a3a90>"
      ]
     },
     "metadata": {},
     "output_type": "display_data"
    }
   ],
   "source": [
    "motif = re.compile('https://www.mobygames.com/game/(.*?)')\n",
    "for element in elements:\n",
    "    liste_href = element.find_all(href = True)\n",
    "    for href in liste_href:\n",
    "        if motif.findall(href['href']):\n",
    "            print(href['href'])\n",
    "            break"
   ]
  },
  {
   "cell_type": "markdown",
   "id": "economic-product",
   "metadata": {},
   "source": [
    "### Test sur plusieurs pages"
   ]
  },
  {
   "cell_type": "code",
   "execution_count": 5,
   "id": "functional-principle",
   "metadata": {},
   "outputs": [
    {
     "data": {
      "text/html": [
       "<pre style=\"white-space:pre;overflow-x:auto;line-height:normal;font-family:Menlo,'DejaVu Sans Mono',consolas,'Courier New',monospace\"><span style=\"color: #000080; font-weight: bold\">140225</span>\n",
       "</pre>\n"
      ],
      "text/plain": [
       "<rich.jupyter.JupyterRenderable at 0x2f211814160>"
      ]
     },
     "metadata": {},
     "output_type": "display_data"
    }
   ],
   "source": [
    "motif = re.compile('https://www.mobygames.com/game/(.*?)')\n",
    "for i in range(140225,140250, 25):\n",
    "    page = get('https://www.mobygames.com/browse/games/offset,' + str(i)+ '/so,0a/list-games/')\n",
    "    code = page.content.decode(\"utf8\")\n",
    "    soupe = BS(code, \"lxml\")\n",
    "    tablo, *_ = soupe.find_all(attrs={'id' : ['mof_object_list']})\n",
    "    elements = tablo.find_all(name = 'tr')\n",
    "    elements.pop(0)\n",
    "    for element in elements:\n",
    "        liste_href = element.find_all(href = True)\n",
    "        for href in liste_href:\n",
    "            if motif.findall(href['href']):\n",
    "                with open(r'C:\\Users\\Lucas\\Documents/M2/S2/Big data/Shiny_VG/Lucas/scrapping/url.json', 'a') as f:\n",
    "                    f.write(json.dumps(href['href']) +',')\n",
    "                    f.write('\\n')\n",
    "                break\n",
    "    print(i)"
   ]
  },
  {
   "cell_type": "code",
   "execution_count": 76,
   "id": "disciplinary-enzyme",
   "metadata": {},
   "outputs": [
    {
     "data": {
      "text/plain": [
       "800.0"
      ]
     },
     "execution_count": 76,
     "metadata": {},
     "output_type": "execute_result"
    }
   ],
   "source": [
    "160000/200"
   ]
  },
  {
   "cell_type": "code",
   "execution_count": 77,
   "id": "applicable-sentence",
   "metadata": {},
   "outputs": [
    {
     "data": {
      "text/plain": [
       "68000"
      ]
     },
     "execution_count": 77,
     "metadata": {},
     "output_type": "execute_result"
    }
   ],
   "source": [
    "800*85"
   ]
  },
  {
   "cell_type": "markdown",
   "id": "tired-carbon",
   "metadata": {},
   "source": [
    "Je prendrais donc 18h environs pour récupérer tout les URL. "
   ]
  },
  {
   "cell_type": "markdown",
   "id": "related-protein",
   "metadata": {},
   "source": [
    "## Récupération des infos dans url"
   ]
  },
  {
   "cell_type": "markdown",
   "id": "pregnant-encyclopedia",
   "metadata": {},
   "source": [
    "### Préliminaire"
   ]
  },
  {
   "cell_type": "markdown",
   "id": "purple-edward",
   "metadata": {},
   "source": [
    "Cette partie servira seulement a voir si je peux récupérer toutes les informations seulement en récupérant le code HTML par request et BS."
   ]
  },
  {
   "cell_type": "code",
   "execution_count": 20,
   "id": "signal-necklace",
   "metadata": {},
   "outputs": [],
   "source": [
    "page = get('https://www.mobygames.com/game/007-quantum-of-solace__')"
   ]
  },
  {
   "cell_type": "code",
   "execution_count": 21,
   "id": "public-indication",
   "metadata": {},
   "outputs": [],
   "source": [
    "code = page.content.decode(\"utf8\")\n",
    "soupe = BS(code, \"lxml\")"
   ]
  },
  {
   "cell_type": "code",
   "execution_count": 26,
   "id": "statistical-updating",
   "metadata": {},
   "outputs": [],
   "source": [
    "truc, *_ = soupe.find_all(attrs = {'class' : ['niceHeaderTitle']})"
   ]
  },
  {
   "cell_type": "code",
   "execution_count": 32,
   "id": "surface-period",
   "metadata": {},
   "outputs": [],
   "source": [
    "enfant = truc.text"
   ]
  },
  {
   "cell_type": "code",
   "execution_count": 33,
   "id": "coupled-works",
   "metadata": {},
   "outputs": [
    {
     "data": {
      "text/plain": [
       "'007: Quantum of Solace (PlayStation 2)Discuss Review + Want + Have Contribute '"
      ]
     },
     "execution_count": 33,
     "metadata": {},
     "output_type": "execute_result"
    }
   ],
   "source": [
    "enfant"
   ]
  },
  {
   "cell_type": "code",
   "execution_count": 36,
   "id": "official-defense",
   "metadata": {},
   "outputs": [],
   "source": [
    "truc, *_ = soupe.find_all(attrs = {'id' : ['coreGameGenre']})"
   ]
  },
  {
   "cell_type": "code",
   "execution_count": 38,
   "id": "inclusive-rebecca",
   "metadata": {},
   "outputs": [
    {
     "data": {
      "text/plain": [
       "'ESRB RatingTeenGenreActionPerspectiveBehind\\xa0viewGameplayShooterInterfaceDirect\\xa0controlNarrativeSpy\\xa0/\\xa0espionageMiscLicensed'"
      ]
     },
     "execution_count": 38,
     "metadata": {},
     "output_type": "execute_result"
    }
   ],
   "source": [
    "truc.text"
   ]
  },
  {
   "cell_type": "markdown",
   "id": "virgin-scottish",
   "metadata": {},
   "source": [
    "Nous avons bien tous les élements juste en utilisant beautifu"
   ]
  },
  {
   "cell_type": "markdown",
   "id": "accompanied-snowboard",
   "metadata": {},
   "source": [
    "## Travail sur plusieurs threads \n",
    "\n",
    "En effet, 140 000 requêtes HTTP c'est un peu long, même très long. Je vais donc essayer de faire travailler python sur plusieurs threads"
   ]
  },
  {
   "cell_type": "markdown",
   "id": "working-cargo",
   "metadata": {},
   "source": [
    "##### Comparaison du temps d'éxécution"
   ]
  },
  {
   "cell_type": "code",
   "execution_count": 385,
   "id": "several-millennium",
   "metadata": {},
   "outputs": [],
   "source": [
    "liste_test=[\"https://www.mobygames.com/game/teenage-mutant-ninja-turtles____\",\n",
    "\"https://www.mobygames.com/game/teenage-mutant-ninja-turtles___\",\n",
    "\"https://www.mobygames.com/game/teenage-mutant-ninja-turtles__\",\n",
    "\"https://www.mobygames.com/game/teenage-mutant-ninja-turtles_____\",\n",
    "\"https://www.mobygames.com/game/teenage-mutant-ninja-turtles-\",\n",
    "\"https://www.mobygames.com/game/teenage-mutant-ninja-turtles_\",\n",
    "\"https://www.mobygames.com/game/teenage-mutant-ninja-turtles\",\n",
    "\"https://www.mobygames.com/game/teenage-mutant-ninja-turtles-2-battle-nexus_\",\n",
    "\"https://www.mobygames.com/game/teenage-mutant-ninja-turtles-2-battle-nexus\",\n",
    "\"https://www.mobygames.com/game/teenage-mutant-ninja-turtles-3-mutant-nightmare_\",\n",
    "\"https://www.mobygames.com/game/teenage-mutant-ninja-turtles-3-mutant-nightmare\",\n",
    "\"https://www.mobygames.com/game/teenage-mutant-ninja-turtles-3-shredders-last-stand\",\n",
    "\"https://www.mobygames.com/game/teenage-mutant-ninja-turtles-arcade-attack\",\n",
    "\"https://www.mobygames.com/game/teenage-mutant-ninja-turtles-basketball\",\n",
    "\"https://www.mobygames.com/game/teenage-mutant-ninja-turtles-cowabunga\",\n",
    "\"https://www.mobygames.com/game/teenage-mutant-ninja-turtles-danger-of-the-ooze\",\n",
    "\"https://www.mobygames.com/game/teenage-mutant-ninja-turtles-double-pack\"]"
   ]
  },
  {
   "cell_type": "code",
   "execution_count": 8,
   "id": "serial-thailand",
   "metadata": {},
   "outputs": [
    {
     "data": {
      "text/html": [
       "<pre style=\"white-space:pre;overflow-x:auto;line-height:normal;font-family:Menlo,'DejaVu Sans Mono',consolas,'Courier New',monospace\">Il faut <span style=\"color: #000080; font-weight: bold\">26.339386701583862</span> secondes pour faire <span style=\"color: #000080; font-weight: bold\">17</span> requêtes HTTP\n",
       "</pre>\n"
      ],
      "text/plain": [
       "<rich.jupyter.JupyterRenderable at 0x2f2103ec400>"
      ]
     },
     "metadata": {},
     "output_type": "display_data"
    }
   ],
   "source": [
    "##TEST 1 sans threads\n",
    "debut = time()\n",
    "for url in liste_test:\n",
    "    page = get('https://www.mobygames.com/game/007-quantum-of-solace__')\n",
    "    code = page.content.decode(\"utf8\")\n",
    "    soupe = BS(code, \"lxml\")\n",
    "print(f'Il faut {time() - debut} secondes pour faire {len(liste_test)} requêtes HTTP')"
   ]
  },
  {
   "cell_type": "code",
   "execution_count": 55,
   "id": "gorgeous-fabric",
   "metadata": {},
   "outputs": [],
   "source": [
    "import urllib.request # for downloading data\n",
    "from tqdm import tqdm # for displaying a smart progress meter in loops\n",
    "from bs4 import BeautifulSoup # for XML parsing & searching\n",
    "import concurrent.futures # for multi-threading\n",
    "import pickle # to save Python objects to the disk as files"
   ]
  },
  {
   "cell_type": "code",
   "execution_count": 46,
   "id": "entire-wagon",
   "metadata": {},
   "outputs": [
    {
     "name": "stderr",
     "output_type": "stream",
     "text": [
      "  0%|          | 0/17 [00:00<?, ?it/s]"
     ]
    },
    {
     "data": {
      "text/html": [
       "<pre style=\"white-space:pre;overflow-x:auto;line-height:normal;font-family:Menlo,'DejaVu Sans Mono',consolas,'Courier New',monospace\">Thread starting for WKN: <span style=\"color: #0000ff; text-decoration: underline\">https://www.mobygames.com/game/teenage-mutant-ninja-turtles____</span>\n",
       "</pre>\n"
      ],
      "text/plain": [
       "<rich.jupyter.JupyterRenderable at 0x2f20f7d4040>"
      ]
     },
     "metadata": {},
     "output_type": "display_data"
    },
    {
     "data": {
      "text/html": [
       "<pre style=\"white-space:pre;overflow-x:auto;line-height:normal;font-family:Menlo,'DejaVu Sans Mono',consolas,'Courier New',monospace\">ici\n",
       "</pre>\n"
      ],
      "text/plain": [
       "<rich.jupyter.JupyterRenderable at 0x2f211505c70>"
      ]
     },
     "metadata": {},
     "output_type": "display_data"
    },
    {
     "data": {
      "text/html": [
       "<pre style=\"white-space:pre;overflow-x:auto;line-height:normal;font-family:Menlo,'DejaVu Sans Mono',consolas,'Courier New',monospace\">Thread starting for WKN: <span style=\"color: #0000ff; text-decoration: underline\">https://www.mobygames.com/game/teenage-mutant-ninja-turtles___</span>\n",
       "</pre>\n"
      ],
      "text/plain": [
       "<rich.jupyter.JupyterRenderable at 0x2f212949580>"
      ]
     },
     "metadata": {},
     "output_type": "display_data"
    },
    {
     "data": {
      "text/html": [
       "<pre style=\"white-space:pre;overflow-x:auto;line-height:normal;font-family:Menlo,'DejaVu Sans Mono',consolas,'Courier New',monospace\">ici\n",
       "</pre>\n"
      ],
      "text/plain": [
       "<rich.jupyter.JupyterRenderable at 0x2f212949d00>"
      ]
     },
     "metadata": {},
     "output_type": "display_data"
    },
    {
     "data": {
      "text/html": [
       "<pre style=\"white-space:pre;overflow-x:auto;line-height:normal;font-family:Menlo,'DejaVu Sans Mono',consolas,'Courier New',monospace\">Thread starting for WKN: <span style=\"color: #0000ff; text-decoration: underline\">https://www.mobygames.com/game/teenage-mutant-ninja-turtles__</span>\n",
       "</pre>\n"
      ],
      "text/plain": [
       "<rich.jupyter.JupyterRenderable at 0x2f212517610>"
      ]
     },
     "metadata": {},
     "output_type": "display_data"
    },
    {
     "data": {
      "text/html": [
       "<pre style=\"white-space:pre;overflow-x:auto;line-height:normal;font-family:Menlo,'DejaVu Sans Mono',consolas,'Courier New',monospace\">ici\n",
       "</pre>\n"
      ],
      "text/plain": [
       "<rich.jupyter.JupyterRenderable at 0x2f212517c10>"
      ]
     },
     "metadata": {},
     "output_type": "display_data"
    },
    {
     "data": {
      "text/html": [
       "<pre style=\"white-space:pre;overflow-x:auto;line-height:normal;font-family:Menlo,'DejaVu Sans Mono',consolas,'Courier New',monospace\">Thread starting for WKN: <span style=\"color: #0000ff; text-decoration: underline\">https://www.mobygames.com/game/teenage-mutant-ninja-turtles_____</span>\n",
       "</pre>\n"
      ],
      "text/plain": [
       "<rich.jupyter.JupyterRenderable at 0x2f21266d460>"
      ]
     },
     "metadata": {},
     "output_type": "display_data"
    },
    {
     "data": {
      "text/html": [
       "<pre style=\"white-space:pre;overflow-x:auto;line-height:normal;font-family:Menlo,'DejaVu Sans Mono',consolas,'Courier New',monospace\">ici\n",
       "</pre>\n"
      ],
      "text/plain": [
       "<rich.jupyter.JupyterRenderable at 0x2f21266da90>"
      ]
     },
     "metadata": {},
     "output_type": "display_data"
    },
    {
     "data": {
      "text/html": [
       "<pre style=\"white-space:pre;overflow-x:auto;line-height:normal;font-family:Menlo,'DejaVu Sans Mono',consolas,'Courier New',monospace\">Thread starting for WKN: <span style=\"color: #0000ff; text-decoration: underline\">https://www.mobygames.com/game/teenage-mutant-ninja-turtles-</span>\n",
       "</pre>\n"
      ],
      "text/plain": [
       "<rich.jupyter.JupyterRenderable at 0x2f212763a30>"
      ]
     },
     "metadata": {},
     "output_type": "display_data"
    },
    {
     "data": {
      "text/html": [
       "<pre style=\"white-space:pre;overflow-x:auto;line-height:normal;font-family:Menlo,'DejaVu Sans Mono',consolas,'Courier New',monospace\">ici\n",
       "</pre>\n"
      ],
      "text/plain": [
       "<rich.jupyter.JupyterRenderable at 0x2f2127639d0>"
      ]
     },
     "metadata": {},
     "output_type": "display_data"
    },
    {
     "data": {
      "text/html": [
       "<pre style=\"white-space:pre;overflow-x:auto;line-height:normal;font-family:Menlo,'DejaVu Sans Mono',consolas,'Courier New',monospace\">Thread starting for WKN: <span style=\"color: #0000ff; text-decoration: underline\">https://www.mobygames.com/game/teenage-mutant-ninja-turtles_</span>\n",
       "</pre>\n"
      ],
      "text/plain": [
       "<rich.jupyter.JupyterRenderable at 0x2f212504340>"
      ]
     },
     "metadata": {},
     "output_type": "display_data"
    },
    {
     "data": {
      "text/html": [
       "<pre style=\"white-space:pre;overflow-x:auto;line-height:normal;font-family:Menlo,'DejaVu Sans Mono',consolas,'Courier New',monospace\">ici\n",
       "</pre>\n"
      ],
      "text/plain": [
       "<rich.jupyter.JupyterRenderable at 0x2f2127631f0>"
      ]
     },
     "metadata": {},
     "output_type": "display_data"
    },
    {
     "data": {
      "text/html": [
       "<pre style=\"white-space:pre;overflow-x:auto;line-height:normal;font-family:Menlo,'DejaVu Sans Mono',consolas,'Courier New',monospace\">Thread starting for WKN: <span style=\"color: #0000ff; text-decoration: underline\">https://www.mobygames.com/game/teenage-mutant-ninja-turtles</span>\n",
       "</pre>\n"
      ],
      "text/plain": [
       "<rich.jupyter.JupyterRenderable at 0x2f212504ee0>"
      ]
     },
     "metadata": {},
     "output_type": "display_data"
    },
    {
     "data": {
      "text/html": [
       "<pre style=\"white-space:pre;overflow-x:auto;line-height:normal;font-family:Menlo,'DejaVu Sans Mono',consolas,'Courier New',monospace\">ici\n",
       "</pre>\n"
      ],
      "text/plain": [
       "<rich.jupyter.JupyterRenderable at 0x2f212766280>"
      ]
     },
     "metadata": {},
     "output_type": "display_data"
    },
    {
     "data": {
      "text/html": [
       "<pre style=\"white-space:pre;overflow-x:auto;line-height:normal;font-family:Menlo,'DejaVu Sans Mono',consolas,'Courier New',monospace\">Thread starting for WKN: \n",
       "<span style=\"color: #0000ff; text-decoration: underline\">https://www.mobygames.com/game/teenage-mutant-ninja-turtles-2-battle-nexus_</span>\n",
       "</pre>\n"
      ],
      "text/plain": [
       "<rich.jupyter.JupyterRenderable at 0x2f212766be0>"
      ]
     },
     "metadata": {},
     "output_type": "display_data"
    },
    {
     "data": {
      "text/html": [
       "<pre style=\"white-space:pre;overflow-x:auto;line-height:normal;font-family:Menlo,'DejaVu Sans Mono',consolas,'Courier New',monospace\">ici\n",
       "</pre>\n"
      ],
      "text/plain": [
       "<rich.jupyter.JupyterRenderable at 0x2f211924910>"
      ]
     },
     "metadata": {},
     "output_type": "display_data"
    },
    {
     "data": {
      "text/html": [
       "<pre style=\"white-space:pre;overflow-x:auto;line-height:normal;font-family:Menlo,'DejaVu Sans Mono',consolas,'Courier New',monospace\">Thread starting for WKN: \n",
       "<span style=\"color: #0000ff; text-decoration: underline\">https://www.mobygames.com/game/teenage-mutant-ninja-turtles-2-battle-nexus</span>\n",
       "</pre>\n"
      ],
      "text/plain": [
       "<rich.jupyter.JupyterRenderable at 0x2f2114fde50>"
      ]
     },
     "metadata": {},
     "output_type": "display_data"
    },
    {
     "name": "stderr",
     "output_type": "stream",
     "text": [
      " 53%|█████▎    | 9/17 [00:00<00:00, 84.34it/s]"
     ]
    },
    {
     "data": {
      "text/html": [
       "<pre style=\"white-space:pre;overflow-x:auto;line-height:normal;font-family:Menlo,'DejaVu Sans Mono',consolas,'Courier New',monospace\">ici\n",
       "</pre>\n"
      ],
      "text/plain": [
       "<rich.jupyter.JupyterRenderable at 0x2f2114f34f0>"
      ]
     },
     "metadata": {},
     "output_type": "display_data"
    },
    {
     "data": {
      "text/html": [
       "<pre style=\"white-space:pre;overflow-x:auto;line-height:normal;font-family:Menlo,'DejaVu Sans Mono',consolas,'Courier New',monospace\">Thread starting for WKN: \n",
       "<span style=\"color: #0000ff; text-decoration: underline\">https://www.mobygames.com/game/teenage-mutant-ninja-turtles-3-mutant-nightmare_</span>\n",
       "</pre>\n"
      ],
      "text/plain": [
       "<rich.jupyter.JupyterRenderable at 0x2f2114f3580>"
      ]
     },
     "metadata": {},
     "output_type": "display_data"
    },
    {
     "data": {
      "text/html": [
       "<pre style=\"white-space:pre;overflow-x:auto;line-height:normal;font-family:Menlo,'DejaVu Sans Mono',consolas,'Courier New',monospace\">ici\n",
       "</pre>\n"
      ],
      "text/plain": [
       "<rich.jupyter.JupyterRenderable at 0x2f2114f35e0>"
      ]
     },
     "metadata": {},
     "output_type": "display_data"
    },
    {
     "data": {
      "text/html": [
       "<pre style=\"white-space:pre;overflow-x:auto;line-height:normal;font-family:Menlo,'DejaVu Sans Mono',consolas,'Courier New',monospace\">Thread starting for WKN: \n",
       "<span style=\"color: #0000ff; text-decoration: underline\">https://www.mobygames.com/game/teenage-mutant-ninja-turtles-3-mutant-nightmare</span>\n",
       "</pre>\n"
      ],
      "text/plain": [
       "<rich.jupyter.JupyterRenderable at 0x2f212755fd0>"
      ]
     },
     "metadata": {},
     "output_type": "display_data"
    },
    {
     "data": {
      "text/html": [
       "<pre style=\"white-space:pre;overflow-x:auto;line-height:normal;font-family:Menlo,'DejaVu Sans Mono',consolas,'Courier New',monospace\">Thread starting for WKN: \n",
       "<span style=\"color: #0000ff; text-decoration: underline\">https://www.mobygames.com/game/teenage-mutant-ninja-turtles-3-shredders-last-stand</span>\n",
       "</pre>\n"
      ],
      "text/plain": [
       "<rich.jupyter.JupyterRenderable at 0x2f212755610>"
      ]
     },
     "metadata": {},
     "output_type": "display_data"
    },
    {
     "data": {
      "text/html": [
       "<pre style=\"white-space:pre;overflow-x:auto;line-height:normal;font-family:Menlo,'DejaVu Sans Mono',consolas,'Courier New',monospace\">Thread starting for WKN: \n",
       "<span style=\"color: #0000ff; text-decoration: underline\">https://www.mobygames.com/game/teenage-mutant-ninja-turtles-arcade-attack</span>\n",
       "</pre>\n"
      ],
      "text/plain": [
       "<rich.jupyter.JupyterRenderable at 0x2f2114f30a0>"
      ]
     },
     "metadata": {},
     "output_type": "display_data"
    },
    {
     "data": {
      "text/html": [
       "<pre style=\"white-space:pre;overflow-x:auto;line-height:normal;font-family:Menlo,'DejaVu Sans Mono',consolas,'Courier New',monospace\">Thread starting for WKN: \n",
       "<span style=\"color: #0000ff; text-decoration: underline\">https://www.mobygames.com/game/teenage-mutant-ninja-turtles-basketball</span>\n",
       "</pre>\n"
      ],
      "text/plain": [
       "<rich.jupyter.JupyterRenderable at 0x2f212755a30>"
      ]
     },
     "metadata": {},
     "output_type": "display_data"
    },
    {
     "data": {
      "text/html": [
       "<pre style=\"white-space:pre;overflow-x:auto;line-height:normal;font-family:Menlo,'DejaVu Sans Mono',consolas,'Courier New',monospace\">Thread starting for WKN: \n",
       "<span style=\"color: #0000ff; text-decoration: underline\">https://www.mobygames.com/game/teenage-mutant-ninja-turtles-cowabunga</span>\n",
       "</pre>\n"
      ],
      "text/plain": [
       "<rich.jupyter.JupyterRenderable at 0x2f21032c0a0>"
      ]
     },
     "metadata": {},
     "output_type": "display_data"
    },
    {
     "data": {
      "text/html": [
       "<pre style=\"white-space:pre;overflow-x:auto;line-height:normal;font-family:Menlo,'DejaVu Sans Mono',consolas,'Courier New',monospace\">Thread starting for WKN: \n",
       "<span style=\"color: #0000ff; text-decoration: underline\">https://www.mobygames.com/game/teenage-mutant-ninja-turtles-danger-of-the-ooze</span>\n",
       "</pre>\n"
      ],
      "text/plain": [
       "<rich.jupyter.JupyterRenderable at 0x2f21278b880>"
      ]
     },
     "metadata": {},
     "output_type": "display_data"
    },
    {
     "data": {
      "text/html": [
       "<pre style=\"white-space:pre;overflow-x:auto;line-height:normal;font-family:Menlo,'DejaVu Sans Mono',consolas,'Courier New',monospace\">Thread starting for WKN: \n",
       "<span style=\"color: #0000ff; text-decoration: underline\">https://www.mobygames.com/game/teenage-mutant-ninja-turtles-double-pack</span>\n",
       "</pre>\n"
      ],
      "text/plain": [
       "<rich.jupyter.JupyterRenderable at 0x2f21278bdf0>"
      ]
     },
     "metadata": {},
     "output_type": "display_data"
    },
    {
     "name": "stderr",
     "output_type": "stream",
     "text": [
      "100%|██████████| 17/17 [00:00<00:00, 109.97it/s]\n"
     ]
    },
    {
     "data": {
      "text/html": [
       "<pre style=\"white-space:pre;overflow-x:auto;line-height:normal;font-family:Menlo,'DejaVu Sans Mono',consolas,'Courier New',monospace\">ici\n",
       "</pre>\n"
      ],
      "text/plain": [
       "<rich.jupyter.JupyterRenderable at 0x2f2125044f0>"
      ]
     },
     "metadata": {},
     "output_type": "display_data"
    },
    {
     "data": {
      "text/html": [
       "<pre style=\"white-space:pre;overflow-x:auto;line-height:normal;font-family:Menlo,'DejaVu Sans Mono',consolas,'Courier New',monospace\">ici\n",
       "</pre>\n"
      ],
      "text/plain": [
       "<rich.jupyter.JupyterRenderable at 0x2f211924c70>"
      ]
     },
     "metadata": {},
     "output_type": "display_data"
    },
    {
     "data": {
      "text/html": [
       "<pre style=\"white-space:pre;overflow-x:auto;line-height:normal;font-family:Menlo,'DejaVu Sans Mono',consolas,'Courier New',monospace\">ici\n",
       "</pre>\n"
      ],
      "text/plain": [
       "<rich.jupyter.JupyterRenderable at 0x2f21266d820>"
      ]
     },
     "metadata": {},
     "output_type": "display_data"
    },
    {
     "data": {
      "text/html": [
       "<pre style=\"white-space:pre;overflow-x:auto;line-height:normal;font-family:Menlo,'DejaVu Sans Mono',consolas,'Courier New',monospace\">ici\n",
       "</pre>\n"
      ],
      "text/plain": [
       "<rich.jupyter.JupyterRenderable at 0x2f212504940>"
      ]
     },
     "metadata": {},
     "output_type": "display_data"
    },
    {
     "data": {
      "text/html": [
       "<pre style=\"white-space:pre;overflow-x:auto;line-height:normal;font-family:Menlo,'DejaVu Sans Mono',consolas,'Courier New',monospace\">ici\n",
       "</pre>\n"
      ],
      "text/plain": [
       "<rich.jupyter.JupyterRenderable at 0x2f211924d60>"
      ]
     },
     "metadata": {},
     "output_type": "display_data"
    },
    {
     "data": {
      "text/html": [
       "<pre style=\"white-space:pre;overflow-x:auto;line-height:normal;font-family:Menlo,'DejaVu Sans Mono',consolas,'Courier New',monospace\">ici\n",
       "</pre>\n"
      ],
      "text/plain": [
       "<rich.jupyter.JupyterRenderable at 0x2f2119244f0>"
      ]
     },
     "metadata": {},
     "output_type": "display_data"
    },
    {
     "data": {
      "text/html": [
       "<pre style=\"white-space:pre;overflow-x:auto;line-height:normal;font-family:Menlo,'DejaVu Sans Mono',consolas,'Courier New',monospace\">ici\n",
       "</pre>\n"
      ],
      "text/plain": [
       "<rich.jupyter.JupyterRenderable at 0x2f212645580>"
      ]
     },
     "metadata": {},
     "output_type": "display_data"
    },
    {
     "data": {
      "text/html": [
       "<pre style=\"white-space:pre;overflow-x:auto;line-height:normal;font-family:Menlo,'DejaVu Sans Mono',consolas,'Courier New',monospace\">Il faut <span style=\"color: #000080; font-weight: bold\">4.491771697998047</span> secondes pour faire <span style=\"color: #000080; font-weight: bold\">17</span> requêtes HTTP\n",
       "</pre>\n"
      ],
      "text/plain": [
       "<rich.jupyter.JupyterRenderable at 0x2f212858940>"
      ]
     },
     "metadata": {},
     "output_type": "display_data"
    }
   ],
   "source": [
    "## TEST 2 avec threads et request\n",
    "\n",
    "def obtient_url(url):\n",
    "    page = get(url)\n",
    "    code = page.content.decode(\"utf8\")\n",
    "    soupe = BS(code, \"lxml\")\n",
    "    \n",
    "no_threads = 10\n",
    "\n",
    "debut = time()\n",
    "with concurrent.futures.ThreadPoolExecutor(max_workers=no_threads) as executor:\n",
    "    for url in tqdm(liste_test):\n",
    "        print(f\"Thread starting for WKN: {url}\")\n",
    "        executor.submit(obtient_url, url)\n",
    "        \n",
    "print(f'Il faut {time() - debut} secondes pour faire {len(liste_test)} requêtes HTTP')"
   ]
  },
  {
   "cell_type": "code",
   "execution_count": 14,
   "id": "turkish-terrorism",
   "metadata": {},
   "outputs": [
    {
     "name": "stderr",
     "output_type": "stream",
     "text": [
      "  0%|          | 0/17 [00:00<?, ?it/s]"
     ]
    },
    {
     "data": {
      "text/html": [
       "<pre style=\"white-space:pre;overflow-x:auto;line-height:normal;font-family:Menlo,'DejaVu Sans Mono',consolas,'Courier New',monospace\">Thread starting for WKN: <span style=\"color: #0000ff; text-decoration: underline\">https://www.mobygames.com/game/teenage-mutant-ninja-turtles____</span>\n",
       "</pre>\n"
      ],
      "text/plain": [
       "<rich.jupyter.JupyterRenderable at 0x2f20fa966a0>"
      ]
     },
     "metadata": {},
     "output_type": "display_data"
    },
    {
     "data": {
      "text/html": [
       "<pre style=\"white-space:pre;overflow-x:auto;line-height:normal;font-family:Menlo,'DejaVu Sans Mono',consolas,'Courier New',monospace\">Thread starting for WKN: <span style=\"color: #0000ff; text-decoration: underline\">https://www.mobygames.com/game/teenage-mutant-ninja-turtles___</span>\n",
       "</pre>\n"
      ],
      "text/plain": [
       "<rich.jupyter.JupyterRenderable at 0x2f20fca4190>"
      ]
     },
     "metadata": {},
     "output_type": "display_data"
    },
    {
     "data": {
      "text/html": [
       "<pre style=\"white-space:pre;overflow-x:auto;line-height:normal;font-family:Menlo,'DejaVu Sans Mono',consolas,'Courier New',monospace\">Thread starting for WKN: <span style=\"color: #0000ff; text-decoration: underline\">https://www.mobygames.com/game/teenage-mutant-ninja-turtles__</span>\n",
       "</pre>\n"
      ],
      "text/plain": [
       "<rich.jupyter.JupyterRenderable at 0x2f20f770280>"
      ]
     },
     "metadata": {},
     "output_type": "display_data"
    },
    {
     "data": {
      "text/html": [
       "<pre style=\"white-space:pre;overflow-x:auto;line-height:normal;font-family:Menlo,'DejaVu Sans Mono',consolas,'Courier New',monospace\">Thread starting for WKN: <span style=\"color: #0000ff; text-decoration: underline\">https://www.mobygames.com/game/teenage-mutant-ninja-turtles_____</span>\n",
       "</pre>\n"
      ],
      "text/plain": [
       "<rich.jupyter.JupyterRenderable at 0x2f2115e2280>"
      ]
     },
     "metadata": {},
     "output_type": "display_data"
    },
    {
     "data": {
      "text/html": [
       "<pre style=\"white-space:pre;overflow-x:auto;line-height:normal;font-family:Menlo,'DejaVu Sans Mono',consolas,'Courier New',monospace\">Thread starting for WKN: <span style=\"color: #0000ff; text-decoration: underline\">https://www.mobygames.com/game/teenage-mutant-ninja-turtles-</span>\n",
       "</pre>\n"
      ],
      "text/plain": [
       "<rich.jupyter.JupyterRenderable at 0x2f2115cc790>"
      ]
     },
     "metadata": {},
     "output_type": "display_data"
    },
    {
     "name": "stderr",
     "output_type": "stream",
     "text": [
      " 29%|██▉       | 5/17 [00:00<00:00, 36.59it/s]"
     ]
    },
    {
     "data": {
      "text/html": [
       "<pre style=\"white-space:pre;overflow-x:auto;line-height:normal;font-family:Menlo,'DejaVu Sans Mono',consolas,'Courier New',monospace\">Thread starting for WKN: <span style=\"color: #0000ff; text-decoration: underline\">https://www.mobygames.com/game/teenage-mutant-ninja-turtles_</span>\n",
       "</pre>\n"
      ],
      "text/plain": [
       "<rich.jupyter.JupyterRenderable at 0x2f20f770310>"
      ]
     },
     "metadata": {},
     "output_type": "display_data"
    },
    {
     "data": {
      "text/html": [
       "<pre style=\"white-space:pre;overflow-x:auto;line-height:normal;font-family:Menlo,'DejaVu Sans Mono',consolas,'Courier New',monospace\">Thread starting for WKN: <span style=\"color: #0000ff; text-decoration: underline\">https://www.mobygames.com/game/teenage-mutant-ninja-turtles</span>\n",
       "</pre>\n"
      ],
      "text/plain": [
       "<rich.jupyter.JupyterRenderable at 0x2f20fe6ae50>"
      ]
     },
     "metadata": {},
     "output_type": "display_data"
    },
    {
     "data": {
      "text/html": [
       "<pre style=\"white-space:pre;overflow-x:auto;line-height:normal;font-family:Menlo,'DejaVu Sans Mono',consolas,'Courier New',monospace\">Thread starting for WKN: \n",
       "<span style=\"color: #0000ff; text-decoration: underline\">https://www.mobygames.com/game/teenage-mutant-ninja-turtles-2-battle-nexus_</span>\n",
       "</pre>\n"
      ],
      "text/plain": [
       "<rich.jupyter.JupyterRenderable at 0x2f20fe6a940>"
      ]
     },
     "metadata": {},
     "output_type": "display_data"
    },
    {
     "data": {
      "text/html": [
       "<pre style=\"white-space:pre;overflow-x:auto;line-height:normal;font-family:Menlo,'DejaVu Sans Mono',consolas,'Courier New',monospace\">Thread starting for WKN: \n",
       "<span style=\"color: #0000ff; text-decoration: underline\">https://www.mobygames.com/game/teenage-mutant-ninja-turtles-2-battle-nexus</span>\n",
       "</pre>\n"
      ],
      "text/plain": [
       "<rich.jupyter.JupyterRenderable at 0x2f20fe966d0>"
      ]
     },
     "metadata": {},
     "output_type": "display_data"
    },
    {
     "data": {
      "text/html": [
       "<pre style=\"white-space:pre;overflow-x:auto;line-height:normal;font-family:Menlo,'DejaVu Sans Mono',consolas,'Courier New',monospace\">Thread starting for WKN: \n",
       "<span style=\"color: #0000ff; text-decoration: underline\">https://www.mobygames.com/game/teenage-mutant-ninja-turtles-3-mutant-nightmare_</span>\n",
       "</pre>\n"
      ],
      "text/plain": [
       "<rich.jupyter.JupyterRenderable at 0x2f20fe96ac0>"
      ]
     },
     "metadata": {},
     "output_type": "display_data"
    },
    {
     "name": "stderr",
     "output_type": "stream",
     "text": [
      " 59%|█████▉    | 10/17 [00:00<00:00, 41.80it/s]"
     ]
    },
    {
     "data": {
      "text/html": [
       "<pre style=\"white-space:pre;overflow-x:auto;line-height:normal;font-family:Menlo,'DejaVu Sans Mono',consolas,'Courier New',monospace\">Thread starting for WKN: \n",
       "<span style=\"color: #0000ff; text-decoration: underline\">https://www.mobygames.com/game/teenage-mutant-ninja-turtles-3-mutant-nightmare</span>\n",
       "</pre>\n"
      ],
      "text/plain": [
       "<rich.jupyter.JupyterRenderable at 0x2f20fe96c70>"
      ]
     },
     "metadata": {},
     "output_type": "display_data"
    },
    {
     "data": {
      "text/html": [
       "<pre style=\"white-space:pre;overflow-x:auto;line-height:normal;font-family:Menlo,'DejaVu Sans Mono',consolas,'Courier New',monospace\">Thread starting for WKN: \n",
       "<span style=\"color: #0000ff; text-decoration: underline\">https://www.mobygames.com/game/teenage-mutant-ninja-turtles-3-shredders-last-stand</span>\n",
       "</pre>\n"
      ],
      "text/plain": [
       "<rich.jupyter.JupyterRenderable at 0x2f20fe96d90>"
      ]
     },
     "metadata": {},
     "output_type": "display_data"
    },
    {
     "data": {
      "text/html": [
       "<pre style=\"white-space:pre;overflow-x:auto;line-height:normal;font-family:Menlo,'DejaVu Sans Mono',consolas,'Courier New',monospace\">Thread starting for WKN: \n",
       "<span style=\"color: #0000ff; text-decoration: underline\">https://www.mobygames.com/game/teenage-mutant-ninja-turtles-arcade-attack</span>\n",
       "</pre>\n"
      ],
      "text/plain": [
       "<rich.jupyter.JupyterRenderable at 0x2f20fe96bb0>"
      ]
     },
     "metadata": {},
     "output_type": "display_data"
    },
    {
     "data": {
      "text/html": [
       "<pre style=\"white-space:pre;overflow-x:auto;line-height:normal;font-family:Menlo,'DejaVu Sans Mono',consolas,'Courier New',monospace\">Thread starting for WKN: \n",
       "<span style=\"color: #0000ff; text-decoration: underline\">https://www.mobygames.com/game/teenage-mutant-ninja-turtles-basketball</span>\n",
       "</pre>\n"
      ],
      "text/plain": [
       "<rich.jupyter.JupyterRenderable at 0x2f20fe921f0>"
      ]
     },
     "metadata": {},
     "output_type": "display_data"
    },
    {
     "data": {
      "text/html": [
       "<pre style=\"white-space:pre;overflow-x:auto;line-height:normal;font-family:Menlo,'DejaVu Sans Mono',consolas,'Courier New',monospace\">Thread starting for WKN: \n",
       "<span style=\"color: #0000ff; text-decoration: underline\">https://www.mobygames.com/game/teenage-mutant-ninja-turtles-cowabunga</span>\n",
       "</pre>\n"
      ],
      "text/plain": [
       "<rich.jupyter.JupyterRenderable at 0x2f20fe92040>"
      ]
     },
     "metadata": {},
     "output_type": "display_data"
    },
    {
     "data": {
      "text/html": [
       "<pre style=\"white-space:pre;overflow-x:auto;line-height:normal;font-family:Menlo,'DejaVu Sans Mono',consolas,'Courier New',monospace\">Thread starting for WKN: \n",
       "<span style=\"color: #0000ff; text-decoration: underline\">https://www.mobygames.com/game/teenage-mutant-ninja-turtles-danger-of-the-ooze</span>\n",
       "</pre>\n"
      ],
      "text/plain": [
       "<rich.jupyter.JupyterRenderable at 0x2f20fe92400>"
      ]
     },
     "metadata": {},
     "output_type": "display_data"
    },
    {
     "data": {
      "text/html": [
       "<pre style=\"white-space:pre;overflow-x:auto;line-height:normal;font-family:Menlo,'DejaVu Sans Mono',consolas,'Courier New',monospace\">Thread starting for WKN: \n",
       "<span style=\"color: #0000ff; text-decoration: underline\">https://www.mobygames.com/game/teenage-mutant-ninja-turtles-double-pack</span>\n",
       "</pre>\n"
      ],
      "text/plain": [
       "<rich.jupyter.JupyterRenderable at 0x2f20fe923d0>"
      ]
     },
     "metadata": {},
     "output_type": "display_data"
    },
    {
     "name": "stderr",
     "output_type": "stream",
     "text": [
      "100%|██████████| 17/17 [00:00<00:00, 59.39it/s]\n"
     ]
    },
    {
     "data": {
      "text/html": [
       "<pre style=\"white-space:pre;overflow-x:auto;line-height:normal;font-family:Menlo,'DejaVu Sans Mono',consolas,'Courier New',monospace\">Il faut <span style=\"color: #000080; font-weight: bold\">1.8985576629638672</span> secondes pour faire <span style=\"color: #000080; font-weight: bold\">17</span> requêtes HTTP\n",
       "</pre>\n"
      ],
      "text/plain": [
       "<rich.jupyter.JupyterRenderable at 0x2f20ff34e20>"
      ]
     },
     "metadata": {},
     "output_type": "display_data"
    }
   ],
   "source": [
    "## TEST 3 avec threads et urllib\n",
    "\n",
    "def obtient_url(url):\n",
    "    req = urllib.request.Request(url=url)\n",
    "    with urllib.request.urlopen(req) as f:\n",
    "        s = f.read().decode('utf-8')\n",
    "        soup = BeautifulSoup(s, 'html.parser')\n",
    "\n",
    "no_threads = 10\n",
    "\n",
    "debut = time()\n",
    "with concurrent.futures.ThreadPoolExecutor(max_workers=no_threads) as executor:\n",
    "    for url in tqdm(liste_test):\n",
    "        print(f\"Thread starting for WKN: {url}\")\n",
    "        executor.submit(obtient_url, url)\n",
    "        \n",
    "print(f'Il faut {time() - debut} secondes pour faire {len(liste_test)} requêtes HTTP')"
   ]
  },
  {
   "cell_type": "code",
   "execution_count": 53,
   "id": "municipal-essay",
   "metadata": {},
   "outputs": [
    {
     "data": {
      "text/plain": [
       "0.2647058823529412"
      ]
     },
     "execution_count": 53,
     "metadata": {},
     "output_type": "execute_result"
    }
   ],
   "source": [
    "4.50/17"
   ]
  },
  {
   "cell_type": "markdown",
   "id": "normal-worse",
   "metadata": {},
   "source": [
    "#### Temps total a enregistré "
   ]
  },
  {
   "cell_type": "code",
   "execution_count": 44,
   "id": "occupational-butterfly",
   "metadata": {},
   "outputs": [
    {
     "name": "stderr",
     "output_type": "stream",
     "text": [
      "  0%|          | 0/17 [00:00<?, ?it/s]"
     ]
    },
    {
     "data": {
      "text/html": [
       "<pre style=\"white-space:pre;overflow-x:auto;line-height:normal;font-family:Menlo,'DejaVu Sans Mono',consolas,'Courier New',monospace\">Thread starting for WKN: <span style=\"color: #0000ff; text-decoration: underline\">https://www.mobygames.com/game/teenage-mutant-ninja-turtles____</span>\n",
       "</pre>\n"
      ],
      "text/plain": [
       "<rich.jupyter.JupyterRenderable at 0x2f211910e80>"
      ]
     },
     "metadata": {},
     "output_type": "display_data"
    },
    {
     "data": {
      "text/html": [
       "<pre style=\"white-space:pre;overflow-x:auto;line-height:normal;font-family:Menlo,'DejaVu Sans Mono',consolas,'Courier New',monospace\">here\n",
       "</pre>\n"
      ],
      "text/plain": [
       "<rich.jupyter.JupyterRenderable at 0x2f2125178e0>"
      ]
     },
     "metadata": {},
     "output_type": "display_data"
    },
    {
     "data": {
      "text/html": [
       "<pre style=\"white-space:pre;overflow-x:auto;line-height:normal;font-family:Menlo,'DejaVu Sans Mono',consolas,'Courier New',monospace\">Thread starting for WKN: <span style=\"color: #0000ff; text-decoration: underline\">https://www.mobygames.com/game/teenage-mutant-ninja-turtles___</span>\n",
       "</pre>\n"
      ],
      "text/plain": [
       "<rich.jupyter.JupyterRenderable at 0x2f2125173d0>"
      ]
     },
     "metadata": {},
     "output_type": "display_data"
    },
    {
     "data": {
      "text/html": [
       "<pre style=\"white-space:pre;overflow-x:auto;line-height:normal;font-family:Menlo,'DejaVu Sans Mono',consolas,'Courier New',monospace\"><span style=\"font-weight: bold\">&lt;</span><span style=\"color: #ff00ff; font-weight: bold\">urllib.request.Request</span><span style=\"color: #000000\"> object at </span><span style=\"color: #000080; font-weight: bold\">0x000002F2125177F0</span><span style=\"font-weight: bold\">&gt;</span>\n",
       "</pre>\n"
      ],
      "text/plain": [
       "<rich.jupyter.JupyterRenderable at 0x2f212763fa0>"
      ]
     },
     "metadata": {},
     "output_type": "display_data"
    },
    {
     "data": {
      "text/html": [
       "<pre style=\"white-space:pre;overflow-x:auto;line-height:normal;font-family:Menlo,'DejaVu Sans Mono',consolas,'Courier New',monospace\">here\n",
       "</pre>\n"
      ],
      "text/plain": [
       "<rich.jupyter.JupyterRenderable at 0x2f212763f10>"
      ]
     },
     "metadata": {},
     "output_type": "display_data"
    },
    {
     "data": {
      "text/html": [
       "<pre style=\"white-space:pre;overflow-x:auto;line-height:normal;font-family:Menlo,'DejaVu Sans Mono',consolas,'Courier New',monospace\">Thread starting for WKN: <span style=\"color: #0000ff; text-decoration: underline\">https://www.mobygames.com/game/teenage-mutant-ninja-turtles__</span>\n",
       "</pre>\n"
      ],
      "text/plain": [
       "<rich.jupyter.JupyterRenderable at 0x2f212763190>"
      ]
     },
     "metadata": {},
     "output_type": "display_data"
    },
    {
     "data": {
      "text/html": [
       "<pre style=\"white-space:pre;overflow-x:auto;line-height:normal;font-family:Menlo,'DejaVu Sans Mono',consolas,'Courier New',monospace\"><span style=\"font-weight: bold\">&lt;</span><span style=\"color: #ff00ff; font-weight: bold\">urllib.request.Request</span><span style=\"color: #000000\"> object at </span><span style=\"color: #000080; font-weight: bold\">0x000002F212763B20</span><span style=\"font-weight: bold\">&gt;</span>\n",
       "</pre>\n"
      ],
      "text/plain": [
       "<rich.jupyter.JupyterRenderable at 0x2f212763970>"
      ]
     },
     "metadata": {},
     "output_type": "display_data"
    },
    {
     "data": {
      "text/html": [
       "<pre style=\"white-space:pre;overflow-x:auto;line-height:normal;font-family:Menlo,'DejaVu Sans Mono',consolas,'Courier New',monospace\">here\n",
       "</pre>\n"
      ],
      "text/plain": [
       "<rich.jupyter.JupyterRenderable at 0x2f212645190>"
      ]
     },
     "metadata": {},
     "output_type": "display_data"
    },
    {
     "data": {
      "text/html": [
       "<pre style=\"white-space:pre;overflow-x:auto;line-height:normal;font-family:Menlo,'DejaVu Sans Mono',consolas,'Courier New',monospace\">Thread starting for WKN: <span style=\"color: #0000ff; text-decoration: underline\">https://www.mobygames.com/game/teenage-mutant-ninja-turtles_____</span>\n",
       "</pre>\n"
      ],
      "text/plain": [
       "<rich.jupyter.JupyterRenderable at 0x2f212763670>"
      ]
     },
     "metadata": {},
     "output_type": "display_data"
    },
    {
     "data": {
      "text/html": [
       "<pre style=\"white-space:pre;overflow-x:auto;line-height:normal;font-family:Menlo,'DejaVu Sans Mono',consolas,'Courier New',monospace\"><span style=\"font-weight: bold\">&lt;</span><span style=\"color: #ff00ff; font-weight: bold\">urllib.request.Request</span><span style=\"color: #000000\"> object at </span><span style=\"color: #000080; font-weight: bold\">0x000002F212645580</span><span style=\"font-weight: bold\">&gt;</span>\n",
       "</pre>\n"
      ],
      "text/plain": [
       "<rich.jupyter.JupyterRenderable at 0x2f212949a90>"
      ]
     },
     "metadata": {},
     "output_type": "display_data"
    },
    {
     "data": {
      "text/html": [
       "<pre style=\"white-space:pre;overflow-x:auto;line-height:normal;font-family:Menlo,'DejaVu Sans Mono',consolas,'Courier New',monospace\">here\n",
       "</pre>\n"
      ],
      "text/plain": [
       "<rich.jupyter.JupyterRenderable at 0x2f212949550>"
      ]
     },
     "metadata": {},
     "output_type": "display_data"
    },
    {
     "data": {
      "text/html": [
       "<pre style=\"white-space:pre;overflow-x:auto;line-height:normal;font-family:Menlo,'DejaVu Sans Mono',consolas,'Courier New',monospace\">Thread starting for WKN: <span style=\"color: #0000ff; text-decoration: underline\">https://www.mobygames.com/game/teenage-mutant-ninja-turtles-</span>\n",
       "</pre>\n"
      ],
      "text/plain": [
       "<rich.jupyter.JupyterRenderable at 0x2f2129491c0>"
      ]
     },
     "metadata": {},
     "output_type": "display_data"
    },
    {
     "name": "stderr",
     "output_type": "stream",
     "text": [
      " 29%|██▉       | 5/17 [00:00<00:00, 48.15it/s]"
     ]
    },
    {
     "data": {
      "text/html": [
       "<pre style=\"white-space:pre;overflow-x:auto;line-height:normal;font-family:Menlo,'DejaVu Sans Mono',consolas,'Courier New',monospace\"><span style=\"font-weight: bold\">&lt;</span><span style=\"color: #ff00ff; font-weight: bold\">urllib.request.Request</span><span style=\"color: #000000\"> object at </span><span style=\"color: #000080; font-weight: bold\">0x000002F212645880</span><span style=\"font-weight: bold\">&gt;</span>\n",
       "</pre>\n"
      ],
      "text/plain": [
       "<rich.jupyter.JupyterRenderable at 0x2f212949970>"
      ]
     },
     "metadata": {},
     "output_type": "display_data"
    },
    {
     "data": {
      "text/html": [
       "<pre style=\"white-space:pre;overflow-x:auto;line-height:normal;font-family:Menlo,'DejaVu Sans Mono',consolas,'Courier New',monospace\">here\n",
       "</pre>\n"
      ],
      "text/plain": [
       "<rich.jupyter.JupyterRenderable at 0x2f212949670>"
      ]
     },
     "metadata": {},
     "output_type": "display_data"
    },
    {
     "data": {
      "text/html": [
       "<pre style=\"white-space:pre;overflow-x:auto;line-height:normal;font-family:Menlo,'DejaVu Sans Mono',consolas,'Courier New',monospace\">Thread starting for WKN: <span style=\"color: #0000ff; text-decoration: underline\">https://www.mobygames.com/game/teenage-mutant-ninja-turtles_</span>\n",
       "</pre>\n"
      ],
      "text/plain": [
       "<rich.jupyter.JupyterRenderable at 0x2f212949a30>"
      ]
     },
     "metadata": {},
     "output_type": "display_data"
    },
    {
     "data": {
      "text/html": [
       "<pre style=\"white-space:pre;overflow-x:auto;line-height:normal;font-family:Menlo,'DejaVu Sans Mono',consolas,'Courier New',monospace\"><span style=\"font-weight: bold\">&lt;</span><span style=\"color: #ff00ff; font-weight: bold\">urllib.request.Request</span><span style=\"color: #000000\"> object at </span><span style=\"color: #000080; font-weight: bold\">0x000002F212949D60</span><span style=\"font-weight: bold\">&gt;</span>\n",
       "</pre>\n"
      ],
      "text/plain": [
       "<rich.jupyter.JupyterRenderable at 0x2f2129493d0>"
      ]
     },
     "metadata": {},
     "output_type": "display_data"
    },
    {
     "data": {
      "text/html": [
       "<pre style=\"white-space:pre;overflow-x:auto;line-height:normal;font-family:Menlo,'DejaVu Sans Mono',consolas,'Courier New',monospace\">here\n",
       "</pre>\n"
      ],
      "text/plain": [
       "<rich.jupyter.JupyterRenderable at 0x2f212949a60>"
      ]
     },
     "metadata": {},
     "output_type": "display_data"
    },
    {
     "data": {
      "text/html": [
       "<pre style=\"white-space:pre;overflow-x:auto;line-height:normal;font-family:Menlo,'DejaVu Sans Mono',consolas,'Courier New',monospace\">Thread starting for WKN: <span style=\"color: #0000ff; text-decoration: underline\">https://www.mobygames.com/game/teenage-mutant-ninja-turtles</span>\n",
       "</pre>\n"
      ],
      "text/plain": [
       "<rich.jupyter.JupyterRenderable at 0x2f212949eb0>"
      ]
     },
     "metadata": {},
     "output_type": "display_data"
    },
    {
     "data": {
      "text/html": [
       "<pre style=\"white-space:pre;overflow-x:auto;line-height:normal;font-family:Menlo,'DejaVu Sans Mono',consolas,'Courier New',monospace\"><span style=\"font-weight: bold\">&lt;</span><span style=\"color: #ff00ff; font-weight: bold\">urllib.request.Request</span><span style=\"color: #000000\"> object at </span><span style=\"color: #000080; font-weight: bold\">0x000002F212949A00</span><span style=\"font-weight: bold\">&gt;</span>\n",
       "</pre>\n"
      ],
      "text/plain": [
       "<rich.jupyter.JupyterRenderable at 0x2f212949910>"
      ]
     },
     "metadata": {},
     "output_type": "display_data"
    },
    {
     "data": {
      "text/html": [
       "<pre style=\"white-space:pre;overflow-x:auto;line-height:normal;font-family:Menlo,'DejaVu Sans Mono',consolas,'Courier New',monospace\">here\n",
       "</pre>\n"
      ],
      "text/plain": [
       "<rich.jupyter.JupyterRenderable at 0x2f2129493a0>"
      ]
     },
     "metadata": {},
     "output_type": "display_data"
    },
    {
     "data": {
      "text/html": [
       "<pre style=\"white-space:pre;overflow-x:auto;line-height:normal;font-family:Menlo,'DejaVu Sans Mono',consolas,'Courier New',monospace\">Thread starting for WKN: \n",
       "<span style=\"color: #0000ff; text-decoration: underline\">https://www.mobygames.com/game/teenage-mutant-ninja-turtles-2-battle-nexus_</span>\n",
       "</pre>\n"
      ],
      "text/plain": [
       "<rich.jupyter.JupyterRenderable at 0x2f212949220>"
      ]
     },
     "metadata": {},
     "output_type": "display_data"
    },
    {
     "data": {
      "text/html": [
       "<pre style=\"white-space:pre;overflow-x:auto;line-height:normal;font-family:Menlo,'DejaVu Sans Mono',consolas,'Courier New',monospace\"><span style=\"font-weight: bold\">&lt;</span><span style=\"color: #ff00ff; font-weight: bold\">urllib.request.Request</span><span style=\"color: #000000\"> object at </span><span style=\"color: #000080; font-weight: bold\">0x000002F2129493A0</span><span style=\"font-weight: bold\">&gt;</span>\n",
       "</pre>\n"
      ],
      "text/plain": [
       "<rich.jupyter.JupyterRenderable at 0x2f211505a00>"
      ]
     },
     "metadata": {},
     "output_type": "display_data"
    },
    {
     "data": {
      "text/html": [
       "<pre style=\"white-space:pre;overflow-x:auto;line-height:normal;font-family:Menlo,'DejaVu Sans Mono',consolas,'Courier New',monospace\">here\n",
       "</pre>\n"
      ],
      "text/plain": [
       "<rich.jupyter.JupyterRenderable at 0x2f211505b80>"
      ]
     },
     "metadata": {},
     "output_type": "display_data"
    },
    {
     "data": {
      "text/html": [
       "<pre style=\"white-space:pre;overflow-x:auto;line-height:normal;font-family:Menlo,'DejaVu Sans Mono',consolas,'Courier New',monospace\">Thread starting for WKN: \n",
       "<span style=\"color: #0000ff; text-decoration: underline\">https://www.mobygames.com/game/teenage-mutant-ninja-turtles-2-battle-nexus</span>\n",
       "</pre>\n"
      ],
      "text/plain": [
       "<rich.jupyter.JupyterRenderable at 0x2f2129492b0>"
      ]
     },
     "metadata": {},
     "output_type": "display_data"
    },
    {
     "data": {
      "text/html": [
       "<pre style=\"white-space:pre;overflow-x:auto;line-height:normal;font-family:Menlo,'DejaVu Sans Mono',consolas,'Courier New',monospace\"><span style=\"font-weight: bold\">&lt;</span><span style=\"color: #ff00ff; font-weight: bold\">urllib.request.Request</span><span style=\"color: #000000\"> object at </span><span style=\"color: #000080; font-weight: bold\">0x000002F212949460</span><span style=\"font-weight: bold\">&gt;</span>\n",
       "</pre>\n"
      ],
      "text/plain": [
       "<rich.jupyter.JupyterRenderable at 0x2f212949790>"
      ]
     },
     "metadata": {},
     "output_type": "display_data"
    },
    {
     "data": {
      "text/html": [
       "<pre style=\"white-space:pre;overflow-x:auto;line-height:normal;font-family:Menlo,'DejaVu Sans Mono',consolas,'Courier New',monospace\">here\n",
       "</pre>\n"
      ],
      "text/plain": [
       "<rich.jupyter.JupyterRenderable at 0x2f211921520>"
      ]
     },
     "metadata": {},
     "output_type": "display_data"
    },
    {
     "data": {
      "text/html": [
       "<pre style=\"white-space:pre;overflow-x:auto;line-height:normal;font-family:Menlo,'DejaVu Sans Mono',consolas,'Courier New',monospace\">Thread starting for WKN: \n",
       "<span style=\"color: #0000ff; text-decoration: underline\">https://www.mobygames.com/game/teenage-mutant-ninja-turtles-3-mutant-nightmare_</span>\n",
       "</pre>\n"
      ],
      "text/plain": [
       "<rich.jupyter.JupyterRenderable at 0x2f211505d90>"
      ]
     },
     "metadata": {},
     "output_type": "display_data"
    },
    {
     "name": "stderr",
     "output_type": "stream",
     "text": [
      " 59%|█████▉    | 10/17 [00:00<00:00, 32.56it/s]"
     ]
    },
    {
     "data": {
      "text/html": [
       "<pre style=\"white-space:pre;overflow-x:auto;line-height:normal;font-family:Menlo,'DejaVu Sans Mono',consolas,'Courier New',monospace\"><span style=\"font-weight: bold\">&lt;</span><span style=\"color: #ff00ff; font-weight: bold\">urllib.request.Request</span><span style=\"color: #000000\"> object at </span><span style=\"color: #000080; font-weight: bold\">0x000002F211921520</span><span style=\"font-weight: bold\">&gt;</span>\n",
       "</pre>\n"
      ],
      "text/plain": [
       "<rich.jupyter.JupyterRenderable at 0x2f21266de80>"
      ]
     },
     "metadata": {},
     "output_type": "display_data"
    },
    {
     "data": {
      "text/html": [
       "<pre style=\"white-space:pre;overflow-x:auto;line-height:normal;font-family:Menlo,'DejaVu Sans Mono',consolas,'Courier New',monospace\">here\n",
       "</pre>\n"
      ],
      "text/plain": [
       "<rich.jupyter.JupyterRenderable at 0x2f21266d340>"
      ]
     },
     "metadata": {},
     "output_type": "display_data"
    },
    {
     "data": {
      "text/html": [
       "<pre style=\"white-space:pre;overflow-x:auto;line-height:normal;font-family:Menlo,'DejaVu Sans Mono',consolas,'Courier New',monospace\">Thread starting for WKN: \n",
       "<span style=\"color: #0000ff; text-decoration: underline\">https://www.mobygames.com/game/teenage-mutant-ninja-turtles-3-mutant-nightmare</span>\n",
       "</pre>\n"
      ],
      "text/plain": [
       "<rich.jupyter.JupyterRenderable at 0x2f21266dbe0>"
      ]
     },
     "metadata": {},
     "output_type": "display_data"
    },
    {
     "data": {
      "text/html": [
       "<pre style=\"white-space:pre;overflow-x:auto;line-height:normal;font-family:Menlo,'DejaVu Sans Mono',consolas,'Courier New',monospace\"><span style=\"font-weight: bold\">&lt;</span><span style=\"color: #ff00ff; font-weight: bold\">urllib.request.Request</span><span style=\"color: #000000\"> object at </span><span style=\"color: #000080; font-weight: bold\">0x000002F21266D1F0</span><span style=\"font-weight: bold\">&gt;</span>\n",
       "</pre>\n"
      ],
      "text/plain": [
       "<rich.jupyter.JupyterRenderable at 0x2f21266d250>"
      ]
     },
     "metadata": {},
     "output_type": "display_data"
    },
    {
     "data": {
      "text/html": [
       "<pre style=\"white-space:pre;overflow-x:auto;line-height:normal;font-family:Menlo,'DejaVu Sans Mono',consolas,'Courier New',monospace\">Thread starting for WKN: \n",
       "<span style=\"color: #0000ff; text-decoration: underline\">https://www.mobygames.com/game/teenage-mutant-ninja-turtles-3-shredders-last-stand</span>\n",
       "</pre>\n"
      ],
      "text/plain": [
       "<rich.jupyter.JupyterRenderable at 0x2f21266d430>"
      ]
     },
     "metadata": {},
     "output_type": "display_data"
    },
    {
     "data": {
      "text/html": [
       "<pre style=\"white-space:pre;overflow-x:auto;line-height:normal;font-family:Menlo,'DejaVu Sans Mono',consolas,'Courier New',monospace\">Thread starting for WKN: \n",
       "<span style=\"color: #0000ff; text-decoration: underline\">https://www.mobygames.com/game/teenage-mutant-ninja-turtles-arcade-attack</span>\n",
       "</pre>\n"
      ],
      "text/plain": [
       "<rich.jupyter.JupyterRenderable at 0x2f21266dbb0>"
      ]
     },
     "metadata": {},
     "output_type": "display_data"
    },
    {
     "data": {
      "text/html": [
       "<pre style=\"white-space:pre;overflow-x:auto;line-height:normal;font-family:Menlo,'DejaVu Sans Mono',consolas,'Courier New',monospace\">Thread starting for WKN: \n",
       "<span style=\"color: #0000ff; text-decoration: underline\">https://www.mobygames.com/game/teenage-mutant-ninja-turtles-basketball</span>\n",
       "</pre>\n"
      ],
      "text/plain": [
       "<rich.jupyter.JupyterRenderable at 0x2f21266d100>"
      ]
     },
     "metadata": {},
     "output_type": "display_data"
    },
    {
     "data": {
      "text/html": [
       "<pre style=\"white-space:pre;overflow-x:auto;line-height:normal;font-family:Menlo,'DejaVu Sans Mono',consolas,'Courier New',monospace\">Thread starting for WKN: \n",
       "<span style=\"color: #0000ff; text-decoration: underline\">https://www.mobygames.com/game/teenage-mutant-ninja-turtles-cowabunga</span>\n",
       "</pre>\n"
      ],
      "text/plain": [
       "<rich.jupyter.JupyterRenderable at 0x2f21266dca0>"
      ]
     },
     "metadata": {},
     "output_type": "display_data"
    },
    {
     "data": {
      "text/html": [
       "<pre style=\"white-space:pre;overflow-x:auto;line-height:normal;font-family:Menlo,'DejaVu Sans Mono',consolas,'Courier New',monospace\">Thread starting for WKN: \n",
       "<span style=\"color: #0000ff; text-decoration: underline\">https://www.mobygames.com/game/teenage-mutant-ninja-turtles-danger-of-the-ooze</span>\n",
       "</pre>\n"
      ],
      "text/plain": [
       "<rich.jupyter.JupyterRenderable at 0x2f21266dcd0>"
      ]
     },
     "metadata": {},
     "output_type": "display_data"
    },
    {
     "name": "stderr",
     "output_type": "stream",
     "text": [
      " 94%|█████████▍| 16/17 [00:00<00:00, 41.72it/s]"
     ]
    },
    {
     "data": {
      "text/html": [
       "<pre style=\"white-space:pre;overflow-x:auto;line-height:normal;font-family:Menlo,'DejaVu Sans Mono',consolas,'Courier New',monospace\">Thread starting for WKN: \n",
       "<span style=\"color: #0000ff; text-decoration: underline\">https://www.mobygames.com/game/teenage-mutant-ninja-turtles-double-pack</span>\n",
       "</pre>\n"
      ],
      "text/plain": [
       "<rich.jupyter.JupyterRenderable at 0x2f211505610>"
      ]
     },
     "metadata": {},
     "output_type": "display_data"
    },
    {
     "name": "stderr",
     "output_type": "stream",
     "text": [
      "100%|██████████| 17/17 [00:00<00:00, 41.88it/s]\n"
     ]
    },
    {
     "data": {
      "text/html": [
       "<pre style=\"white-space:pre;overflow-x:auto;line-height:normal;font-family:Menlo,'DejaVu Sans Mono',consolas,'Courier New',monospace\">here\n",
       "</pre>\n"
      ],
      "text/plain": [
       "<rich.jupyter.JupyterRenderable at 0x2f2125177f0>"
      ]
     },
     "metadata": {},
     "output_type": "display_data"
    },
    {
     "data": {
      "text/html": [
       "<pre style=\"white-space:pre;overflow-x:auto;line-height:normal;font-family:Menlo,'DejaVu Sans Mono',consolas,'Courier New',monospace\"><span style=\"font-weight: bold\">&lt;</span><span style=\"color: #ff00ff; font-weight: bold\">urllib.request.Request</span><span style=\"color: #000000\"> object at </span><span style=\"color: #000080; font-weight: bold\">0x000002F211910E80</span><span style=\"font-weight: bold\">&gt;</span>\n",
       "</pre>\n"
      ],
      "text/plain": [
       "<rich.jupyter.JupyterRenderable at 0x2f212763b50>"
      ]
     },
     "metadata": {},
     "output_type": "display_data"
    },
    {
     "data": {
      "text/html": [
       "<pre style=\"white-space:pre;overflow-x:auto;line-height:normal;font-family:Menlo,'DejaVu Sans Mono',consolas,'Courier New',monospace\">here\n",
       "</pre>\n"
      ],
      "text/plain": [
       "<rich.jupyter.JupyterRenderable at 0x2f2125178e0>"
      ]
     },
     "metadata": {},
     "output_type": "display_data"
    },
    {
     "data": {
      "text/html": [
       "<pre style=\"white-space:pre;overflow-x:auto;line-height:normal;font-family:Menlo,'DejaVu Sans Mono',consolas,'Courier New',monospace\">here\n",
       "</pre>\n"
      ],
      "text/plain": [
       "<rich.jupyter.JupyterRenderable at 0x2f2129493d0>"
      ]
     },
     "metadata": {},
     "output_type": "display_data"
    },
    {
     "data": {
      "text/html": [
       "<pre style=\"white-space:pre;overflow-x:auto;line-height:normal;font-family:Menlo,'DejaVu Sans Mono',consolas,'Courier New',monospace\">here\n",
       "</pre>\n"
      ],
      "text/plain": [
       "<rich.jupyter.JupyterRenderable at 0x2f212949e20>"
      ]
     },
     "metadata": {},
     "output_type": "display_data"
    },
    {
     "data": {
      "text/html": [
       "<pre style=\"white-space:pre;overflow-x:auto;line-height:normal;font-family:Menlo,'DejaVu Sans Mono',consolas,'Courier New',monospace\"><span style=\"font-weight: bold\">&lt;</span><span style=\"color: #ff00ff; font-weight: bold\">urllib.request.Request</span><span style=\"color: #000000\"> object at </span><span style=\"color: #000080; font-weight: bold\">0x000002F210414EB0</span><span style=\"font-weight: bold\">&gt;</span>\n",
       "</pre>\n"
      ],
      "text/plain": [
       "<rich.jupyter.JupyterRenderable at 0x2f2125178e0>"
      ]
     },
     "metadata": {},
     "output_type": "display_data"
    },
    {
     "data": {
      "text/html": [
       "<pre style=\"white-space:pre;overflow-x:auto;line-height:normal;font-family:Menlo,'DejaVu Sans Mono',consolas,'Courier New',monospace\">here\n",
       "</pre>\n"
      ],
      "text/plain": [
       "<rich.jupyter.JupyterRenderable at 0x2f211921b80>"
      ]
     },
     "metadata": {},
     "output_type": "display_data"
    },
    {
     "data": {
      "text/html": [
       "<pre style=\"white-space:pre;overflow-x:auto;line-height:normal;font-family:Menlo,'DejaVu Sans Mono',consolas,'Courier New',monospace\"><span style=\"font-weight: bold\">&lt;</span><span style=\"color: #ff00ff; font-weight: bold\">urllib.request.Request</span><span style=\"color: #000000\"> object at </span><span style=\"color: #000080; font-weight: bold\">0x000002F2129493D0</span><span style=\"font-weight: bold\">&gt;</span>\n",
       "</pre>\n"
      ],
      "text/plain": [
       "<rich.jupyter.JupyterRenderable at 0x2f211921b80>"
      ]
     },
     "metadata": {},
     "output_type": "display_data"
    },
    {
     "data": {
      "text/html": [
       "<pre style=\"white-space:pre;overflow-x:auto;line-height:normal;font-family:Menlo,'DejaVu Sans Mono',consolas,'Courier New',monospace\">here\n",
       "</pre>\n"
      ],
      "text/plain": [
       "<rich.jupyter.JupyterRenderable at 0x2f212517a60>"
      ]
     },
     "metadata": {},
     "output_type": "display_data"
    },
    {
     "data": {
      "text/html": [
       "<pre style=\"white-space:pre;overflow-x:auto;line-height:normal;font-family:Menlo,'DejaVu Sans Mono',consolas,'Courier New',monospace\"><span style=\"font-weight: bold\">&lt;</span><span style=\"color: #ff00ff; font-weight: bold\">urllib.request.Request</span><span style=\"color: #000000\"> object at </span><span style=\"color: #000080; font-weight: bold\">0x000002F212949E20</span><span style=\"font-weight: bold\">&gt;</span>\n",
       "</pre>\n"
      ],
      "text/plain": [
       "<rich.jupyter.JupyterRenderable at 0x2f212517b80>"
      ]
     },
     "metadata": {},
     "output_type": "display_data"
    },
    {
     "data": {
      "text/html": [
       "<pre style=\"white-space:pre;overflow-x:auto;line-height:normal;font-family:Menlo,'DejaVu Sans Mono',consolas,'Courier New',monospace\"><span style=\"font-weight: bold\">&lt;</span><span style=\"color: #ff00ff; font-weight: bold\">urllib.request.Request</span><span style=\"color: #000000\"> object at </span><span style=\"color: #000080; font-weight: bold\">0x000002F2125173D0</span><span style=\"font-weight: bold\">&gt;</span>\n",
       "</pre>\n"
      ],
      "text/plain": [
       "<rich.jupyter.JupyterRenderable at 0x2f21294c910>"
      ]
     },
     "metadata": {},
     "output_type": "display_data"
    },
    {
     "data": {
      "text/html": [
       "<pre style=\"white-space:pre;overflow-x:auto;line-height:normal;font-family:Menlo,'DejaVu Sans Mono',consolas,'Courier New',monospace\">here\n",
       "</pre>\n"
      ],
      "text/plain": [
       "<rich.jupyter.JupyterRenderable at 0x2f211505a00>"
      ]
     },
     "metadata": {},
     "output_type": "display_data"
    },
    {
     "data": {
      "text/html": [
       "<pre style=\"white-space:pre;overflow-x:auto;line-height:normal;font-family:Menlo,'DejaVu Sans Mono',consolas,'Courier New',monospace\"><span style=\"font-weight: bold\">&lt;</span><span style=\"color: #ff00ff; font-weight: bold\">urllib.request.Request</span><span style=\"color: #000000\"> object at </span><span style=\"color: #000080; font-weight: bold\">0x000002F212517A60</span><span style=\"font-weight: bold\">&gt;</span>\n",
       "</pre>\n"
      ],
      "text/plain": [
       "<rich.jupyter.JupyterRenderable at 0x2f211505f40>"
      ]
     },
     "metadata": {},
     "output_type": "display_data"
    },
    {
     "data": {
      "text/html": [
       "<pre style=\"white-space:pre;overflow-x:auto;line-height:normal;font-family:Menlo,'DejaVu Sans Mono',consolas,'Courier New',monospace\"><span style=\"font-weight: bold\">&lt;</span><span style=\"color: #ff00ff; font-weight: bold\">urllib.request.Request</span><span style=\"color: #000000\"> object at </span><span style=\"color: #000080; font-weight: bold\">0x000002F21294C070</span><span style=\"font-weight: bold\">&gt;</span>\n",
       "</pre>\n"
      ],
      "text/plain": [
       "<rich.jupyter.JupyterRenderable at 0x2f211505c40>"
      ]
     },
     "metadata": {},
     "output_type": "display_data"
    },
    {
     "data": {
      "text/html": [
       "<pre style=\"white-space:pre;overflow-x:auto;line-height:normal;font-family:Menlo,'DejaVu Sans Mono',consolas,'Courier New',monospace\">Il faut <span style=\"color: #000080; font-weight: bold\">2.211678981781006</span> secondes pour faire <span style=\"color: #000080; font-weight: bold\">17</span> requêtes HTTP\n",
       "</pre>\n"
      ],
      "text/plain": [
       "<rich.jupyter.JupyterRenderable at 0x2f210414eb0>"
      ]
     },
     "metadata": {},
     "output_type": "display_data"
    }
   ],
   "source": [
    "## TEST 3 avec threads et urllib\n",
    "\n",
    "def obtient_url(url):\n",
    "    print('here')\n",
    "    req = urllib.request.Request(url=url)\n",
    "    print(req)\n",
    "    with urllib.request.urlopen(req) as f:\n",
    "        print('ici')\n",
    "        s = f.read().decode('utf-8')\n",
    "        soup = BeautifulSoup(s, 'html.parser')\n",
    "        truc, *_ = soupe.find_all(attrs = {'class' : ['niceHeaderTitle']})\n",
    "        truc2, *_ = soupe.find_all(attrs = {'id' : ['coreGameGenre']})\n",
    "        with open(r'C:\\Users\\Lucas\\Documents/M2/S2/Big data/Shiny_VG/Lucas/scrapping/data.json', 'a') as f:\n",
    "                    f.write(json.dumps({truc: truc2}) +',')\n",
    "                    f.write('\\n')\n",
    "\n",
    "no_threads = 10\n",
    "\n",
    "debut = time()\n",
    "with concurrent.futures.ThreadPoolExecutor(max_workers=no_threads) as executor:\n",
    "    for url in tqdm(liste_test):\n",
    "        print(f\"Thread starting for WKN: {url}\")\n",
    "        executor.submit(obtient_url, url)\n",
    "        \n",
    "print(f'Il faut {time() - debut} secondes pour faire {len(liste_test)} requêtes HTTP')"
   ]
  },
  {
   "cell_type": "code",
   "execution_count": 386,
   "id": "medium-rings",
   "metadata": {},
   "outputs": [
    {
     "name": "stderr",
     "output_type": "stream",
     "text": [
      "100%|██████████| 17/17 [00:00<00:00, 681.82it/s]\n"
     ]
    },
    {
     "data": {
      "text/html": [
       "<pre style=\"white-space:pre;overflow-x:auto;line-height:normal;font-family:Menlo,'DejaVu Sans Mono',consolas,'Courier New',monospace\">Il faut <span style=\"color: #000080; font-weight: bold\">2.9067630767822266</span> secondes pour faire <span style=\"color: #000080; font-weight: bold\">17</span> requêtes HTTP\n",
       "</pre>\n"
      ],
      "text/plain": [
       "<rich.jupyter.JupyterRenderable at 0x2f20fe2a6d0>"
      ]
     },
     "metadata": {},
     "output_type": "display_data"
    }
   ],
   "source": [
    "## TEST 2 avec threads et request\n",
    "\n",
    "def obtient_url(url):\n",
    "    page = get(url)\n",
    "    code = page.content.decode(\"utf8\")\n",
    "    soupe = BS(code, \"lxml\")\n",
    "    truc, *_ = soupe.find_all(attrs = {'class' : ['niceHeaderTitle']})\n",
    "    truc2, *_ = soupe.find_all(attrs = {'id' : ['coreGameGenre']})\n",
    "    with open(r'C:\\Users\\Lucas\\Documents/M2/S2/Big data/Shiny_VG/Lucas/scrapping/data.json', 'a') as f:\n",
    "        f.write(json.dumps({truc.text: truc2.text}) +',')\n",
    "        f.write('\\n')\n",
    "    liste_test.remove(url)\n",
    "    \n",
    "no_threads = 10\n",
    "\n",
    "debut = time()\n",
    "with concurrent.futures.ThreadPoolExecutor(max_workers=no_threads) as executor:\n",
    "    for url in tqdm(liste_test):\n",
    "        executor.submit(obtient_url, url)\n",
    "        \n",
    "print(f'Il faut {time() - debut} secondes pour faire {len(liste_test)} requêtes HTTP')"
   ]
  },
  {
   "cell_type": "code",
   "execution_count": 381,
   "id": "rising-diameter",
   "metadata": {},
   "outputs": [
    {
     "data": {
      "text/plain": [
       "['https://www.mobygames.com/game/teenage-mutant-ninja-turtles-2-battle-nexus_',\n",
       " 'https://www.mobygames.com/game/teenage-mutant-ninja-turtles-danger-of-the-ooze']"
      ]
     },
     "execution_count": 381,
     "metadata": {},
     "output_type": "execute_result"
    }
   ],
   "source": [
    "liste_test"
   ]
  },
  {
   "cell_type": "markdown",
   "id": "bottom-johnson",
   "metadata": {},
   "source": [
    "## Recherche d'information "
   ]
  },
  {
   "cell_type": "code",
   "execution_count": 277,
   "id": "alone-reaction",
   "metadata": {},
   "outputs": [],
   "source": [
    "page = get('https://www.mobygames.com/game/007-quantum-of-solace_')\n",
    "code = page.content.decode(\"utf8\")\n",
    "soupe = BS(code, \"lxml\")"
   ]
  },
  {
   "cell_type": "markdown",
   "id": "competent-mechanics",
   "metadata": {},
   "source": [
    "### Titre "
   ]
  },
  {
   "cell_type": "code",
   "execution_count": 278,
   "id": "ruled-lebanon",
   "metadata": {},
   "outputs": [],
   "source": [
    "balise_titre, *_ = soupe.find_all(attrs = {'class': ['niceHeaderTitle']})"
   ]
  },
  {
   "cell_type": "code",
   "execution_count": 279,
   "id": "talented-mouse",
   "metadata": {},
   "outputs": [
    {
     "data": {
      "text/html": [
       "<pre style=\"white-space:pre;overflow-x:auto;line-height:normal;font-family:Menlo,'DejaVu Sans Mono',consolas,'Courier New',monospace\"><span style=\"font-weight: bold\">&lt;</span><span style=\"color: #ff00ff; font-weight: bold\">a</span><span style=\"color: #000000\"> </span><span style=\"color: #808000\">href</span><span style=\"color: #000000\">=</span><span style=\"color: #008000\">\"https://www.mobygames.com/game/nintendo-ds/007-quantum-of-solace_\"</span><span style=\"font-weight: bold\">&gt;</span><span style=\"color: #000080; font-weight: bold\">007</span>: Quantum of \n",
       "Solace<span style=\"font-weight: bold\">&lt;</span><span style=\"color: #800080\">/</span><span style=\"color: #ff00ff\">a</span><span style=\"font-weight: bold\">&gt;</span>\n",
       "</pre>\n"
      ],
      "text/plain": [
       "<rich.jupyter.JupyterRenderable at 0x2f212acaa60>"
      ]
     },
     "metadata": {},
     "output_type": "display_data"
    },
    {
     "data": {
      "text/html": [
       "<pre style=\"white-space:pre;overflow-x:auto;line-height:normal;font-family:Menlo,'DejaVu Sans Mono',consolas,'Courier New',monospace\"> \n",
       "</pre>\n"
      ],
      "text/plain": [
       "<rich.jupyter.JupyterRenderable at 0x2f21470df40>"
      ]
     },
     "metadata": {},
     "output_type": "display_data"
    },
    {
     "data": {
      "text/html": [
       "<pre style=\"white-space:pre;overflow-x:auto;line-height:normal;font-family:Menlo,'DejaVu Sans Mono',consolas,'Courier New',monospace\"><span style=\"font-weight: bold\">&lt;</span><span style=\"color: #ff00ff; font-weight: bold\">small</span><span style=\"font-weight: bold\">&gt;(&lt;</span><span style=\"color: #ff00ff; font-weight: bold\">a</span><span style=\"color: #000000\"> </span><span style=\"color: #808000\">href</span><span style=\"color: #000000\">=</span><span style=\"color: #008000\">\"https://www.mobygames.com/browse/games/nintendo-ds/\"</span><span style=\"font-weight: bold\">&gt;</span>Nintendo \n",
       "DS<span style=\"font-weight: bold\">&lt;</span><span style=\"color: #800080\">/</span><span style=\"color: #ff00ff\">a</span><span style=\"font-weight: bold\">&gt;)&lt;</span><span style=\"color: #800080\">/</span><span style=\"color: #ff00ff\">small</span><span style=\"font-weight: bold\">&gt;</span>\n",
       "</pre>\n"
      ],
      "text/plain": [
       "<rich.jupyter.JupyterRenderable at 0x2f212acaa60>"
      ]
     },
     "metadata": {},
     "output_type": "display_data"
    },
    {
     "data": {
      "text/html": [
       "<pre style=\"white-space:pre;overflow-x:auto;line-height:normal;font-family:Menlo,'DejaVu Sans Mono',consolas,'Courier New',monospace\"><span style=\"font-weight: bold\">&lt;</span><span style=\"color: #ff00ff; font-weight: bold\">div</span><span style=\"color: #000000\"> </span><span style=\"color: #808000\">class</span><span style=\"color: #000000\">=</span><span style=\"color: #008000\">\"pull-right\"</span><span style=\"font-weight: bold\">&gt;&lt;</span><span style=\"color: #ff00ff; font-weight: bold\">a</span><span style=\"color: #000000\"> </span><span style=\"color: #808000\">class</span><span style=\"color: #000000\">=</span><span style=\"color: #008000\">\"btn btn-xs btn-clear\"</span><span style=\"color: #000000\"> </span>\n",
       "<span style=\"color: #808000\">href</span><span style=\"color: #000000\">=</span><span style=\"color: #008000\">\"https://www.mobygames.com/game/nintendo-ds/007-quantum-of-solace_/forums\"</span><span style=\"font-weight: bold\">&gt;</span>Discuss<span style=\"font-weight: bold\">&lt;</span><span style=\"color: #800080\">/</span><span style=\"color: #ff00ff\">a</span><span style=\"font-weight: bold\">&gt;</span> \n",
       "<span style=\"font-weight: bold\">&lt;</span><span style=\"color: #ff00ff; font-weight: bold\">a</span><span style=\"color: #000000\"> </span><span style=\"color: #808000\">class</span><span style=\"color: #000000\">=</span><span style=\"color: #008000\">\"btn btn-xs btn-clear\"</span><span style=\"color: #000000\"> </span><span style=\"color: #808000\">href</span><span style=\"color: #000000\">=</span><span style=\"color: #008000\">\"https://www.mobygames.com/game/sheet/review_game/007-qu</span>\n",
       "<span style=\"color: #008000\">antum-of-solace_/nintendo-ds/\"</span><span style=\"font-weight: bold\">&gt;</span>Review<span style=\"font-weight: bold\">&lt;</span><span style=\"color: #800080\">/</span><span style=\"color: #ff00ff\">a</span><span style=\"font-weight: bold\">&gt;</span> <span style=\"font-weight: bold\">&lt;</span><span style=\"color: #ff00ff; font-weight: bold\">a</span><span style=\"color: #000000\"> </span><span style=\"color: #808000\">class</span><span style=\"color: #000000\">=</span><span style=\"color: #008000\">\"btn btn-xs btn-clear\"</span><span style=\"color: #000000\"> </span>\n",
       "<span style=\"color: #808000\">href</span><span style=\"color: #000000\">=</span><span style=\"color: #008000\">\"https://www.mobygames.com/game/nintendo-ds/007-quantum-of-solace_/add-to-want-list\"</span><span style=\"font-weight: bold\">&gt;</span>+ \n",
       "Want<span style=\"font-weight: bold\">&lt;</span><span style=\"color: #800080\">/</span><span style=\"color: #ff00ff\">a</span><span style=\"font-weight: bold\">&gt;</span> <span style=\"font-weight: bold\">&lt;</span><span style=\"color: #ff00ff; font-weight: bold\">a</span><span style=\"color: #000000\"> </span><span style=\"color: #808000\">class</span><span style=\"color: #000000\">=</span><span style=\"color: #008000\">\"btn btn-xs btn-clear\"</span><span style=\"color: #000000\"> </span>\n",
       "<span style=\"color: #808000\">href</span><span style=\"color: #000000\">=</span><span style=\"color: #008000\">\"https://www.mobygames.com/game/nintendo-ds/007-quantum-of-solace_/add-to-have-list\"</span><span style=\"font-weight: bold\">&gt;</span>+ \n",
       "Have<span style=\"font-weight: bold\">&lt;</span><span style=\"color: #800080\">/</span><span style=\"color: #ff00ff\">a</span><span style=\"font-weight: bold\">&gt;</span> <span style=\"font-weight: bold\">&lt;</span><span style=\"color: #ff00ff; font-weight: bold\">a</span><span style=\"color: #000000\"> </span><span style=\"color: #808000\">class</span><span style=\"color: #000000\">=</span><span style=\"color: #008000\">\"btn btn-xs btn-mobysuccess\"</span><span style=\"color: #000000\"> </span><span style=\"color: #808000\">href</span><span style=\"color: #000000\">=</span><span style=\"color: #008000\">\"https://www.mobygames.com/game/nintendo-</span>\n",
       "<span style=\"color: #008000\">ds/007-quantum-of-solace_/contribute\"</span><span style=\"font-weight: bold\">&gt;</span>Contribute<span style=\"font-weight: bold\">&lt;</span><span style=\"color: #800080\">/</span><span style=\"color: #ff00ff\">a</span><span style=\"font-weight: bold\">&gt;</span> <span style=\"font-weight: bold\">&lt;</span><span style=\"color: #800080\">/</span><span style=\"color: #ff00ff\">div</span><span style=\"font-weight: bold\">&gt;</span>\n",
       "</pre>\n"
      ],
      "text/plain": [
       "<rich.jupyter.JupyterRenderable at 0x2f2144ac3d0>"
      ]
     },
     "metadata": {},
     "output_type": "display_data"
    }
   ],
   "source": [
    "for enfant in balise_titre.children:\n",
    "    print(enfant)"
   ]
  },
  {
   "cell_type": "code",
   "execution_count": 280,
   "id": "clean-carol",
   "metadata": {},
   "outputs": [
    {
     "data": {
      "text/plain": [
       "<list_iterator at 0x2f2144ac3a0>"
      ]
     },
     "execution_count": 280,
     "metadata": {},
     "output_type": "execute_result"
    }
   ],
   "source": [
    "balise_titre.childGenerator()"
   ]
  },
  {
   "cell_type": "code",
   "execution_count": 281,
   "id": "administrative-priority",
   "metadata": {},
   "outputs": [
    {
     "data": {
      "text/plain": [
       "'007: Quantum of Solace'"
      ]
     },
     "execution_count": 281,
     "metadata": {},
     "output_type": "execute_result"
    }
   ],
   "source": [
    "balise_titre.findChildren()[0].text"
   ]
  },
  {
   "cell_type": "markdown",
   "id": "classified-hamburg",
   "metadata": {},
   "source": [
    "## Description "
   ]
  },
  {
   "cell_type": "code",
   "execution_count": 282,
   "id": "acceptable-bidder",
   "metadata": {},
   "outputs": [],
   "source": [
    "fenetre, *_ = soupe.find_all(attrs={'class': ['col-md-8 col-lg-8']})"
   ]
  },
  {
   "cell_type": "code",
   "execution_count": 283,
   "id": "piano-lounge",
   "metadata": {},
   "outputs": [
    {
     "data": {
      "text/plain": [
       "[<p style=\"margin-top: 0\">\n",
       "       James Bond is back to settle the score in the Quantum of Solace™ game.\n",
       "     </p>,\n",
       " <p style=\"margin-top: 0\">\n",
       "       James Bond is back to settle the score in the Quantum of Solace™ game. \n",
       "       Introducing a more lethal and cunningly efficient Bond, the game blends \n",
       "       intense first-person action with a unique third-person cover combat \n",
       "       system that allows players to truly feel what it is like to be the \n",
       "       ultimate secret agent as they use their stealth, precision shooting and \n",
       "       lethal combat skills to progress through missions. Seamlessly blending \n",
       "       the heart-pounding action and excitement of the upcoming “Quantum of \n",
       "       Solace” feature film with the “Casino Royale” movie, the title propels \n",
       "       players into the cinematic experience of international espionage.\n",
       "     </p>,\n",
       " <p>\n",
       "       Innovative Touch Screen Control – The Quantum of Solace game for the \n",
       "       Nintendo DS introduces streamlined controls, with players stealthily \n",
       "       navigating the treacherous world and engaging in intense combat using \n",
       "       only the stylus for a unique and compelling James Bond experience.\n",
       "     </p>,\n",
       " <p>There are no Nintendo DS user screenshots for this game.</p>,\n",
       " <p>There are <a href=\"https://www.mobygames.com/game/007-quantum-of-solace_/screenshots\">5 other screenshots</a> from other versions of this game or official promotional screenshots.</p>,\n",
       " <p>There are no reviews for this game.</p>,\n",
       " <p>There are currently no topics for this game.</p>,\n",
       " <p>There is no trivia on file for this game.</p>]"
      ]
     },
     "execution_count": 283,
     "metadata": {},
     "output_type": "execute_result"
    }
   ],
   "source": [
    "fenetre.find_all('p')"
   ]
  },
  {
   "cell_type": "code",
   "execution_count": 284,
   "id": "advisory-width",
   "metadata": {},
   "outputs": [],
   "source": [
    "truc = fenetre.find_all(attrs={'style': [\"margin-top: 0\"]})"
   ]
  },
  {
   "cell_type": "code",
   "execution_count": 285,
   "id": "alpha-string",
   "metadata": {},
   "outputs": [
    {
     "data": {
      "text/plain": [
       "'\\n      James Bond is back to settle the score in the Quantum of Solace™ game.\\n    \\n      James Bond is back to settle the score in the Quantum of Solace™ game. \\n      Introducing a more lethal and cunningly efficient Bond, the game blends \\n      intense first-person action with a unique third-person cover combat \\n      system that allows players to truly feel what it is like to be the \\n      ultimate secret agent as they use their stealth, precision shooting and \\n      lethal combat skills to progress through missions. Seamlessly blending \\n      the heart-pounding action and excitement of the upcoming “Quantum of \\n      Solace” feature film with the “Casino Royale” movie, the title propels \\n      players into the cinematic experience of international espionage.\\n    '"
      ]
     },
     "execution_count": 285,
     "metadata": {},
     "output_type": "execute_result"
    }
   ],
   "source": [
    "text = ''\n",
    "if len(truc) > 1:\n",
    "    for machin in truc:\n",
    "        text += machin.text\n",
    "elif len(truc) == 1:\n",
    "    text += truc.text\n",
    "text"
   ]
  },
  {
   "cell_type": "markdown",
   "id": "dutch-citizenship",
   "metadata": {},
   "source": [
    "## Description 2"
   ]
  },
  {
   "cell_type": "code",
   "execution_count": 286,
   "id": "opening-scene",
   "metadata": {},
   "outputs": [],
   "source": [
    "fenetre, *_ = soupe.find_all(attrs={'class': ['col-md-8 col-lg-8']})"
   ]
  },
  {
   "cell_type": "code",
   "execution_count": 287,
   "id": "individual-island",
   "metadata": {},
   "outputs": [],
   "source": [
    "text = ''\n",
    "for enfant in fenetre.children:\n",
    "    try:\n",
    "        d = str(enfant.text.lower())\n",
    "        if d == 'screenshots':\n",
    "            break\n",
    "    except AttributeError:\n",
    "        text += enfant"
   ]
  },
  {
   "cell_type": "code",
   "execution_count": 288,
   "id": "authentic-andorra",
   "metadata": {},
   "outputs": [
    {
     "data": {
      "text/html": [
       "<pre style=\"white-space:pre;overflow-x:auto;line-height:normal;font-family:Menlo,'DejaVu Sans Mono',consolas,'Courier New',monospace\">\n",
       "\n",
       "\n",
       "</pre>\n"
      ],
      "text/plain": [
       "<rich.jupyter.JupyterRenderable at 0x2f21251c7f0>"
      ]
     },
     "metadata": {},
     "output_type": "display_data"
    }
   ],
   "source": [
    "print(text)"
   ]
  },
  {
   "cell_type": "markdown",
   "id": "spoken-reference",
   "metadata": {},
   "source": [
    "### Description"
   ]
  },
  {
   "cell_type": "code",
   "execution_count": 289,
   "id": "educational-mentor",
   "metadata": {},
   "outputs": [],
   "source": [
    "desc = ''\n",
    "boolean = False\n",
    "fenetre, *_ = soupe.find_all(attrs={'class': ['col-md-8 col-lg-8']})\n",
    "balise_desc = fenetre.find_all(attrs={'style': [\"margin-top: 0\"]})\n",
    "if balise_desc:\n",
    "    if len(truc) > 1:\n",
    "        for texte in balise_desc:\n",
    "            desc += texte.text\n",
    "    elif len(truc) == 1:\n",
    "        desc += balise_desc.text\n",
    "else:\n",
    "    for enfant in fenetre.children:\n",
    "        try:\n",
    "            d = str(enfant.text.lower())\n",
    "            if d == 'screenshots' or d == '[':\n",
    "                break\n",
    "            if boolean == True:\n",
    "                desc += d\n",
    "            if d == 'description':\n",
    "                boolean = True\n",
    "        except AttributeError:\n",
    "            desc += enfant\n",
    "desc = desc.replace(\"[edit description | view history]\",\"\")"
   ]
  },
  {
   "cell_type": "code",
   "execution_count": 290,
   "id": "urban-scheduling",
   "metadata": {},
   "outputs": [
    {
     "data": {
      "text/plain": [
       "'\\n      James Bond is back to settle the score in the Quantum of Solace™ game.\\n    \\n      James Bond is back to settle the score in the Quantum of Solace™ game. \\n      Introducing a more lethal and cunningly efficient Bond, the game blends \\n      intense first-person action with a unique third-person cover combat \\n      system that allows players to truly feel what it is like to be the \\n      ultimate secret agent as they use their stealth, precision shooting and \\n      lethal combat skills to progress through missions. Seamlessly blending \\n      the heart-pounding action and excitement of the upcoming “Quantum of \\n      Solace” feature film with the “Casino Royale” movie, the title propels \\n      players into the cinematic experience of international espionage.\\n    '"
      ]
     },
     "execution_count": 290,
     "metadata": {},
     "output_type": "execute_result"
    }
   ],
   "source": [
    "desc"
   ]
  },
  {
   "cell_type": "markdown",
   "id": "whole-testimony",
   "metadata": {},
   "source": [
    "### Critics reviews"
   ]
  },
  {
   "cell_type": "code",
   "execution_count": 296,
   "id": "sexual-glasgow",
   "metadata": {},
   "outputs": [],
   "source": [
    "fenetre = soupe.find_all(attrs={'class': ['reviewList table table-striped table-condensed table-hover']})"
   ]
  },
  {
   "cell_type": "code",
   "execution_count": 324,
   "id": "polished-fusion",
   "metadata": {},
   "outputs": [],
   "source": [
    "motif_re = re.compile(\"^([0-9]|[1-9][0-9]|100)$\")\n",
    "note = 0\n",
    "n = 0\n",
    "if fenetre:\n",
    "    for critique in fenetre[0].find_all('td'):\n",
    "        if motif_re.findall(critique.text):\n",
    "            note = note + int(critique.text)\n",
    "            n = n + 1\n",
    "    moyenne = note / n\n",
    "else: moyenne = 'NaN'"
   ]
  },
  {
   "cell_type": "code",
   "execution_count": 325,
   "id": "rapid-brunei",
   "metadata": {},
   "outputs": [
    {
     "data": {
      "text/plain": [
       "64.77777777777777"
      ]
     },
     "execution_count": 325,
     "metadata": {},
     "output_type": "execute_result"
    }
   ],
   "source": [
    "moyenne"
   ]
  },
  {
   "cell_type": "markdown",
   "id": "suffering-botswana",
   "metadata": {},
   "source": [
    "### Le reste"
   ]
  },
  {
   "cell_type": "code",
   "execution_count": 329,
   "id": "falling-university",
   "metadata": {},
   "outputs": [],
   "source": [
    "fenetre, *_ = soupe.find_all(attrs={'id': ['floatholder coreGameInfo']})"
   ]
  },
  {
   "cell_type": "code",
   "execution_count": 330,
   "id": "dynamic-calgary",
   "metadata": {},
   "outputs": [
    {
     "data": {
      "text/plain": [
       "1"
      ]
     },
     "execution_count": 330,
     "metadata": {},
     "output_type": "execute_result"
    }
   ],
   "source": [
    "len(fenetre)"
   ]
  },
  {
   "cell_type": "code",
   "execution_count": 333,
   "id": "lyric-finland",
   "metadata": {},
   "outputs": [],
   "source": [
    "left_part, *_ = fenetre.find_all(attrs={'id': ['coreGameRelease']})\n",
    "right_part, *_ = fenetre.find_all(attrs={'id': ['coreGameGenre']})"
   ]
  },
  {
   "cell_type": "code",
   "execution_count": 339,
   "id": "julian-application",
   "metadata": {},
   "outputs": [
    {
     "data": {
      "text/html": [
       "<pre style=\"white-space:pre;overflow-x:auto;line-height:normal;font-family:Menlo,'DejaVu Sans Mono',consolas,'Courier New',monospace\">Published by\n",
       "</pre>\n"
      ],
      "text/plain": [
       "<rich.jupyter.JupyterRenderable at 0x2f214409940>"
      ]
     },
     "metadata": {},
     "output_type": "display_data"
    },
    {
     "data": {
      "text/html": [
       "<pre style=\"white-space:pre;overflow-x:auto;line-height:normal;font-family:Menlo,'DejaVu Sans Mono',consolas,'Courier New',monospace\">------\n",
       "</pre>\n"
      ],
      "text/plain": [
       "<rich.jupyter.JupyterRenderable at 0x2f21160f850>"
      ]
     },
     "metadata": {},
     "output_type": "display_data"
    },
    {
     "data": {
      "text/html": [
       "<pre style=\"white-space:pre;overflow-x:auto;line-height:normal;font-family:Menlo,'DejaVu Sans Mono',consolas,'Courier New',monospace\">Activision Publishing, Inc.\n",
       "</pre>\n"
      ],
      "text/plain": [
       "<rich.jupyter.JupyterRenderable at 0x2f2143dde50>"
      ]
     },
     "metadata": {},
     "output_type": "display_data"
    },
    {
     "data": {
      "text/html": [
       "<pre style=\"white-space:pre;overflow-x:auto;line-height:normal;font-family:Menlo,'DejaVu Sans Mono',consolas,'Courier New',monospace\">------\n",
       "</pre>\n"
      ],
      "text/plain": [
       "<rich.jupyter.JupyterRenderable at 0x2f212acaa60>"
      ]
     },
     "metadata": {},
     "output_type": "display_data"
    },
    {
     "data": {
      "text/html": [
       "<pre style=\"white-space:pre;overflow-x:auto;line-height:normal;font-family:Menlo,'DejaVu Sans Mono',consolas,'Courier New',monospace\">Developed by\n",
       "</pre>\n"
      ],
      "text/plain": [
       "<rich.jupyter.JupyterRenderable at 0x2f21160f460>"
      ]
     },
     "metadata": {},
     "output_type": "display_data"
    },
    {
     "data": {
      "text/html": [
       "<pre style=\"white-space:pre;overflow-x:auto;line-height:normal;font-family:Menlo,'DejaVu Sans Mono',consolas,'Courier New',monospace\">------\n",
       "</pre>\n"
      ],
      "text/plain": [
       "<rich.jupyter.JupyterRenderable at 0x2f2119243d0>"
      ]
     },
     "metadata": {},
     "output_type": "display_data"
    },
    {
     "data": {
      "text/html": [
       "<pre style=\"white-space:pre;overflow-x:auto;line-height:normal;font-family:Menlo,'DejaVu Sans Mono',consolas,'Courier New',monospace\">Vicarious Visions, Inc.\n",
       "</pre>\n"
      ],
      "text/plain": [
       "<rich.jupyter.JupyterRenderable at 0x2f214409b50>"
      ]
     },
     "metadata": {},
     "output_type": "display_data"
    },
    {
     "data": {
      "text/html": [
       "<pre style=\"white-space:pre;overflow-x:auto;line-height:normal;font-family:Menlo,'DejaVu Sans Mono',consolas,'Courier New',monospace\">------\n",
       "</pre>\n"
      ],
      "text/plain": [
       "<rich.jupyter.JupyterRenderable at 0x2f21160f850>"
      ]
     },
     "metadata": {},
     "output_type": "display_data"
    },
    {
     "data": {
      "text/html": [
       "<pre style=\"white-space:pre;overflow-x:auto;line-height:normal;font-family:Menlo,'DejaVu Sans Mono',consolas,'Courier New',monospace\">Released\n",
       "</pre>\n"
      ],
      "text/plain": [
       "<rich.jupyter.JupyterRenderable at 0x2f2119243d0>"
      ]
     },
     "metadata": {},
     "output_type": "display_data"
    },
    {
     "data": {
      "text/html": [
       "<pre style=\"white-space:pre;overflow-x:auto;line-height:normal;font-family:Menlo,'DejaVu Sans Mono',consolas,'Courier New',monospace\">------\n",
       "</pre>\n"
      ],
      "text/plain": [
       "<rich.jupyter.JupyterRenderable at 0x2f214409b50>"
      ]
     },
     "metadata": {},
     "output_type": "display_data"
    },
    {
     "data": {
      "text/html": [
       "<pre style=\"white-space:pre;overflow-x:auto;line-height:normal;font-family:Menlo,'DejaVu Sans Mono',consolas,'Courier New',monospace\">Nov <span style=\"color: #000080; font-weight: bold\">04</span>, <span style=\"color: #000080; font-weight: bold\">2008</span>\n",
       "</pre>\n"
      ],
      "text/plain": [
       "<rich.jupyter.JupyterRenderable at 0x2f21160f850>"
      ]
     },
     "metadata": {},
     "output_type": "display_data"
    },
    {
     "data": {
      "text/html": [
       "<pre style=\"white-space:pre;overflow-x:auto;line-height:normal;font-family:Menlo,'DejaVu Sans Mono',consolas,'Courier New',monospace\">------\n",
       "</pre>\n"
      ],
      "text/plain": [
       "<rich.jupyter.JupyterRenderable at 0x2f2143ddf70>"
      ]
     },
     "metadata": {},
     "output_type": "display_data"
    },
    {
     "data": {
      "text/html": [
       "<pre style=\"white-space:pre;overflow-x:auto;line-height:normal;font-family:Menlo,'DejaVu Sans Mono',consolas,'Courier New',monospace\">Official Site\n",
       "</pre>\n"
      ],
      "text/plain": [
       "<rich.jupyter.JupyterRenderable at 0x2f21160f460>"
      ]
     },
     "metadata": {},
     "output_type": "display_data"
    },
    {
     "data": {
      "text/html": [
       "<pre style=\"white-space:pre;overflow-x:auto;line-height:normal;font-family:Menlo,'DejaVu Sans Mono',consolas,'Courier New',monospace\">------\n",
       "</pre>\n"
      ],
      "text/plain": [
       "<rich.jupyter.JupyterRenderable at 0x2f2143ddf70>"
      ]
     },
     "metadata": {},
     "output_type": "display_data"
    },
    {
     "data": {
      "text/html": [
       "<pre style=\"white-space:pre;overflow-x:auto;line-height:normal;font-family:Menlo,'DejaVu Sans Mono',consolas,'Courier New',monospace\"><span style=\"color: #000080; font-weight: bold\">007</span>: Quantum of Solace\n",
       "</pre>\n"
      ],
      "text/plain": [
       "<rich.jupyter.JupyterRenderable at 0x2f20fb86070>"
      ]
     },
     "metadata": {},
     "output_type": "display_data"
    },
    {
     "data": {
      "text/html": [
       "<pre style=\"white-space:pre;overflow-x:auto;line-height:normal;font-family:Menlo,'DejaVu Sans Mono',consolas,'Courier New',monospace\">------\n",
       "</pre>\n"
      ],
      "text/plain": [
       "<rich.jupyter.JupyterRenderable at 0x2f214409b50>"
      ]
     },
     "metadata": {},
     "output_type": "display_data"
    },
    {
     "data": {
      "text/html": [
       "<pre style=\"white-space:pre;overflow-x:auto;line-height:normal;font-family:Menlo,'DejaVu Sans Mono',consolas,'Courier New',monospace\">Platform\n",
       "</pre>\n"
      ],
      "text/plain": [
       "<rich.jupyter.JupyterRenderable at 0x2f2143dde50>"
      ]
     },
     "metadata": {},
     "output_type": "display_data"
    },
    {
     "data": {
      "text/html": [
       "<pre style=\"white-space:pre;overflow-x:auto;line-height:normal;font-family:Menlo,'DejaVu Sans Mono',consolas,'Courier New',monospace\">------\n",
       "</pre>\n"
      ],
      "text/plain": [
       "<rich.jupyter.JupyterRenderable at 0x2f214409b50>"
      ]
     },
     "metadata": {},
     "output_type": "display_data"
    },
    {
     "data": {
      "text/html": [
       "<pre style=\"white-space:pre;overflow-x:auto;line-height:normal;font-family:Menlo,'DejaVu Sans Mono',consolas,'Courier New',monospace\">Nintendo DS\n",
       "</pre>\n"
      ],
      "text/plain": [
       "<rich.jupyter.JupyterRenderable at 0x2f212acaa60>"
      ]
     },
     "metadata": {},
     "output_type": "display_data"
    },
    {
     "data": {
      "text/html": [
       "<pre style=\"white-space:pre;overflow-x:auto;line-height:normal;font-family:Menlo,'DejaVu Sans Mono',consolas,'Courier New',monospace\">------\n",
       "</pre>\n"
      ],
      "text/plain": [
       "<rich.jupyter.JupyterRenderable at 0x2f2143dd910>"
      ]
     },
     "metadata": {},
     "output_type": "display_data"
    }
   ],
   "source": [
    "for information in left_part.find_all('div'):\n",
    "    print(information.text)\n",
    "    print('------')"
   ]
  },
  {
   "cell_type": "code",
   "execution_count": 355,
   "id": "absolute-dynamics",
   "metadata": {},
   "outputs": [],
   "source": [
    "informations = right_part.find_all('div')"
   ]
  },
  {
   "cell_type": "code",
   "execution_count": 356,
   "id": "wanted-palmer",
   "metadata": {},
   "outputs": [
    {
     "data": {
      "text/plain": [
       "18"
      ]
     },
     "execution_count": 356,
     "metadata": {},
     "output_type": "execute_result"
    }
   ],
   "source": [
    "len(informations)"
   ]
  },
  {
   "cell_type": "code",
   "execution_count": 357,
   "id": "reverse-survey",
   "metadata": {},
   "outputs": [],
   "source": [
    "dictionnaire = dict()\n",
    "for i in range(0, len(informations)- 1, 2):\n",
    "    dictionnaire[informations[i].text] = informations[i + 1].text"
   ]
  },
  {
   "cell_type": "code",
   "execution_count": 358,
   "id": "strategic-indicator",
   "metadata": {},
   "outputs": [
    {
     "data": {
      "text/plain": [
       "{'': \"ESRB RatingTeenGenreActionPerspectiveBehind\\xa0view, Diagonal-downVisual2D\\xa0scrollingGameplayBeat\\xa0'em\\xa0up\\xa0/\\xa0brawler, ShooterInterfacePoint\\xa0and\\xa0selectNarrativeSpy\\xa0/\\xa0espionageMiscLicensed\",\n",
       " 'ESRB Rating': 'Teen',\n",
       " 'Genre': 'Action',\n",
       " 'Perspective': 'Behind\\xa0view, Diagonal-down',\n",
       " 'Visual': '2D\\xa0scrolling',\n",
       " 'Gameplay': \"Beat\\xa0'em\\xa0up\\xa0/\\xa0brawler, Shooter\",\n",
       " 'Interface': 'Point\\xa0and\\xa0select',\n",
       " 'Narrative': 'Spy\\xa0/\\xa0espionage',\n",
       " 'Misc': 'Licensed'}"
      ]
     },
     "execution_count": 358,
     "metadata": {},
     "output_type": "execute_result"
    }
   ],
   "source": [
    "dictionnaire"
   ]
  },
  {
   "cell_type": "code",
   "execution_count": 364,
   "id": "collaborative-candidate",
   "metadata": {},
   "outputs": [
    {
     "data": {
      "text/plain": [
       "<div><div style=\"font-size: 100%; font-weight: bold;\">ESRB Rating</div><div style=\"font-size: 90%; padding-left: 1em; padding-bottom: 0.25em;\"><a href=\"https://www.mobygames.com/attribute/sheet/attributeId,92/\">Teen</a></div><div style=\"font-size: 100%; font-weight: bold;\">Genre</div><div style=\"font-size: 90%; padding-left: 1em; padding-bottom: 0.25em;\"><a href=\"https://www.mobygames.com/genre/sheet/action/\">Action</a></div><div style=\"font-size: 100%; font-weight: bold;\">Perspective</div><div style=\"font-size: 90%; padding-left: 1em; padding-bottom: 0.25em;\"><a href=\"https://www.mobygames.com/genre/sheet/behind-view/\">Behind view</a>, <a href=\"https://www.mobygames.com/genre/sheet/diagonal-down/\">Diagonal-down</a></div><div style=\"font-size: 100%; font-weight: bold;\">Visual</div><div style=\"font-size: 90%; padding-left: 1em; padding-bottom: 0.25em;\"><a href=\"https://www.mobygames.com/genre/sheet/2d-scrolling/\">2D scrolling</a></div><div style=\"font-size: 100%; font-weight: bold;\">Gameplay</div><div style=\"font-size: 90%; padding-left: 1em; padding-bottom: 0.25em;\"><a href=\"https://www.mobygames.com/genre/sheet/beatemup-brawler/\">Beat 'em up / brawler</a>, <a href=\"https://www.mobygames.com/genre/sheet/shooter/\">Shooter</a></div><div style=\"font-size: 100%; font-weight: bold;\">Interface</div><div style=\"font-size: 90%; padding-left: 1em; padding-bottom: 0.25em;\"><a href=\"https://www.mobygames.com/genre/sheet/point_and_select/\">Point and select</a></div><div style=\"font-size: 100%; font-weight: bold;\">Narrative</div><div style=\"font-size: 90%; padding-left: 1em; padding-bottom: 0.25em;\"><a href=\"https://www.mobygames.com/genre/sheet/spy-espionage/\">Spy / espionage</a></div><div style=\"font-size: 100%; font-weight: bold;\">Misc</div><div style=\"font-size: 90%; padding-left: 1em; padding-bottom: 0.25em;\"><a href=\"https://www.mobygames.com/genre/sheet/licensed-title/\">Licensed</a></div></div>"
      ]
     },
     "execution_count": 364,
     "metadata": {},
     "output_type": "execute_result"
    }
   ],
   "source": [
    "informations[1]"
   ]
  },
  {
   "cell_type": "code",
   "execution_count": 366,
   "id": "expired-campaign",
   "metadata": {},
   "outputs": [
    {
     "data": {
      "text/plain": [
       "dict_keys(['', 'ESRB Rating', 'Genre', 'Perspective', 'Visual', 'Gameplay', 'Interface', 'Narrative', 'Misc'])"
      ]
     },
     "execution_count": 366,
     "metadata": {},
     "output_type": "execute_result"
    }
   ],
   "source": [
    "dictionnaire.keys()"
   ]
  },
  {
   "cell_type": "code",
   "execution_count": null,
   "id": "technical-monthly",
   "metadata": {},
   "outputs": [],
   "source": []
  }
 ],
 "metadata": {
  "kernelspec": {
   "display_name": "Python 3",
   "language": "python",
   "name": "python3"
  },
  "language_info": {
   "codemirror_mode": {
    "name": "ipython",
    "version": 3
   },
   "file_extension": ".py",
   "mimetype": "text/x-python",
   "name": "python",
   "nbconvert_exporter": "python",
   "pygments_lexer": "ipython3",
   "version": "3.8.5"
  }
 },
 "nbformat": 4,
 "nbformat_minor": 5
}
