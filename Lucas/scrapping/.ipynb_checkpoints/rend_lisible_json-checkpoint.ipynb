{
 "cells": [
  {
   "cell_type": "markdown",
   "id": "affecting-ghana",
   "metadata": {},
   "source": [
    "# Script pour rendre visible le fichier data.json"
   ]
  },
  {
   "cell_type": "code",
   "execution_count": 5,
   "id": "detailed-elizabeth",
   "metadata": {},
   "outputs": [],
   "source": [
    " with open(r'C:\\Users\\Lucas\\Documents/M2/S2/Big data/Shiny_VG/Lucas/scrapping/data.json', \"r\", encoding=\"utf-8\") as fichier:\n",
    "    data = fichier.read()\n",
    "    data = data[:-1]\n",
    "    data = \"[\" + data + \"]\"\n",
    "    data = data.replace(\"\\u00e9\", \"é\")\n",
    "    print\n",
    "    with open(r'C:\\Users\\Lucas\\Documents/M2/S2/Big data/Shiny_VG/Lucas/scrapping/data_lisible.json', \"w\", encoding=\"utf8\") as fichier:\n",
    "        fichier.write(data)"
   ]
  },
  {
   "cell_type": "code",
   "execution_count": 6,
   "id": "domestic-enterprise",
   "metadata": {},
   "outputs": [
    {
     "name": "stdout",
     "output_type": "stream",
     "text": [
      "{\"titre\": \"^_^\", \"reviews\": null, \"published\": null, \"developed\": null, \"released\": \"Jan 14, 2012\",\n"
     ]
    }
   ],
   "source": [
    "with open(r'C:\\Users\\Lucas\\Documents/M2/S2/Big data/Shiny_VG/Lucas/scrapping/data.json', \"r\", encoding=\"utf-8\") as fichier:\n",
    "    data = fichier.read()\n",
    "    data = data[:-1]\n",
    "    data = \"[\" + data + \"]\"\n",
    "    data = data.replace(\"\\u00e9\", \"é\")\n",
    "print(data[1:100])"
   ]
  },
  {
   "cell_type": "code",
   "execution_count": null,
   "id": "dressed-sequence",
   "metadata": {},
   "outputs": [],
   "source": []
  }
 ],
 "metadata": {
  "kernelspec": {
   "display_name": "Python 3",
   "language": "python",
   "name": "python3"
  },
  "language_info": {
   "codemirror_mode": {
    "name": "ipython",
    "version": 3
   },
   "file_extension": ".py",
   "mimetype": "text/x-python",
   "name": "python",
   "nbconvert_exporter": "python",
   "pygments_lexer": "ipython3",
   "version": "3.8.5"
  }
 },
 "nbformat": 4,
 "nbformat_minor": 5
}
