{
 "cells": [
  {
   "cell_type": "markdown",
   "id": "nominated-naples",
   "metadata": {},
   "source": [
    "# Scrapping "
   ]
  },
  {
   "cell_type": "code",
   "execution_count": 1,
   "id": "spread-discretion",
   "metadata": {},
   "outputs": [],
   "source": [
    "from bs4 import BeautifulSoup as BS\n",
    "from rich import print\n",
    "from requests import get\n",
    "import re\n",
    "from time import sleep, time\n",
    "import json\n",
    "import urllib.request # for downloading data\n",
    "from tqdm import tqdm # for displaying a smart progress meter in loops\n",
    "import concurrent.futures # for multi-threading\n",
    "import webscrapping"
   ]
  },
  {
   "cell_type": "code",
   "execution_count": 2,
   "id": "regional-scanner",
   "metadata": {},
   "outputs": [],
   "source": [
    "with open(r'C:\\Users\\Lucas\\Documents/M2/S2/Big data/Shiny_VG/Lucas/scrapping/url.json', \"r\", encoding=\"utf-8\") as fichier:\n",
    "    data = fichier.read()\n",
    "    data = data[:-1]\n",
    "    data = \"[\" + data + \"]\"\n",
    "    with open(r'C:\\Users\\Lucas\\Documents/M2/S2/Big data/Shiny_VG/Lucas/scrapping/good_url.json', \"w\", encoding=\"utf8\") as fichier:\n",
    "        fichier.write(data)"
   ]
  },
  {
   "cell_type": "code",
   "execution_count": 3,
   "id": "fundamental-glass",
   "metadata": {},
   "outputs": [],
   "source": [
    "with open(r'C:\\Users\\Lucas\\Documents/M2/S2/Big data/Shiny_VG/Lucas/scrapping/good_url.json',\n",
    "    \"r\",\n",
    "    encoding=\"utf-8\",\n",
    ") as fichier:\n",
    "    urls = fichier.read()\n",
    "    urls = json.loads(urls)"
   ]
  },
  {
   "cell_type": "code",
   "execution_count": 4,
   "id": "fitting-threat",
   "metadata": {},
   "outputs": [
    {
     "name": "stderr",
     "output_type": "stream",
     "text": [
      "100%|██████████| 140382/140382 [00:05<00:00, 26736.97it/s]\n"
     ]
    }
   ],
   "source": [
    "no_threads = 16\n",
    "with concurrent.futures.ThreadPoolExecutor(max_workers=no_threads) as executor:\n",
    "    for url in tqdm(urls):\n",
    "        executor.submit(webscrapping.traite_url, url)"
   ]
  },
  {
   "cell_type": "code",
   "execution_count": 2,
   "id": "continued-concrete",
   "metadata": {},
   "outputs": [
    {
     "name": "stdout",
     "output_type": "stream",
     "text": [
      "{'Published by': 'U.S.\\xa0Gold\\xa0Ltd.', 'Developed by': 'Delphine\\xa0Software\\xa0International', 'Released': '1990', 'Platforms': 'Amiga, Atari ST, DOS', 'GenreAdventureGameplayGraphic\\xa0adventure, Puzzle\\xa0elementsNarrativeDetective\\xa0/\\xa0mystery, Spy\\xa0/\\xa0espionageMiscLicensed, Regional\\xa0differences': 'Genre'}\n",
      "{'Published by': 'U.S.\\xa0Gold\\xa0Ltd.', 'Developed by': 'Delphine\\xa0Software\\xa0International', 'Released': '1990', 'Platforms': 'Amiga, Atari ST, DOS', 'GenreAdventureGameplayGraphic\\xa0adventure, Puzzle\\xa0elementsNarrativeDetective\\xa0/\\xa0mystery, Spy\\xa0/\\xa0espionageMiscLicensed, Regional\\xa0differences': 'Genre', 'Adventure': 'Gameplay'}\n",
      "{'Published by': 'U.S.\\xa0Gold\\xa0Ltd.', 'Developed by': 'Delphine\\xa0Software\\xa0International', 'Released': '1990', 'Platforms': 'Amiga, Atari ST, DOS', 'GenreAdventureGameplayGraphic\\xa0adventure, Puzzle\\xa0elementsNarrativeDetective\\xa0/\\xa0mystery, Spy\\xa0/\\xa0espionageMiscLicensed, Regional\\xa0differences': 'Genre', 'Adventure': 'Gameplay', 'Graphic\\xa0adventure, Puzzle\\xa0elements': 'Narrative'}\n",
      "{'Published by': 'U.S.\\xa0Gold\\xa0Ltd.', 'Developed by': 'Delphine\\xa0Software\\xa0International', 'Released': '1990', 'Platforms': 'Amiga, Atari ST, DOS', 'GenreAdventureGameplayGraphic\\xa0adventure, Puzzle\\xa0elementsNarrativeDetective\\xa0/\\xa0mystery, Spy\\xa0/\\xa0espionageMiscLicensed, Regional\\xa0differences': 'Genre', 'Adventure': 'Gameplay', 'Graphic\\xa0adventure, Puzzle\\xa0elements': 'Narrative', 'Detective\\xa0/\\xa0mystery, Spy\\xa0/\\xa0espionage': 'Misc'}\n"
     ]
    },
    {
     "data": {
      "text/html": [
       "<pre style=\"white-space:pre;overflow-x:auto;line-height:normal;font-family:Menlo,'DejaVu Sans Mono',consolas,'Courier New',monospace\">\n",
       "titre           : <span style=\"color: #000080; font-weight: bold\">007</span>: James Bond - The Stealth Affair\n",
       "reviews         : <span style=\"color: #000080; font-weight: bold\">87.0</span>\n",
       "published_by    : U.S. Gold Ltd.\n",
       "developed by    : Delphine Software International\n",
       "released        : <span style=\"color: #000080; font-weight: bold\">1990</span>\n",
       "platform        : <span style=\"color: #800080; font-style: italic\">None</span>\n",
       "genre           : Adventure\n",
       "perspective     : <span style=\"color: #800080; font-style: italic\">None</span>\n",
       "gameplay        : Graphic adventure, Puzzle elements\n",
       "setting         : <span style=\"color: #800080; font-style: italic\">None</span>\n",
       "narrative       : Detective <span style=\"color: #800080\">/</span> mystery, Spy <span style=\"color: #800080\">/</span> espionage\n",
       "special edition : <span style=\"color: #800080; font-style: italic\">None</span>\n",
       "add-on          : <span style=\"color: #800080; font-style: italic\">None</span>\n",
       "visual          : <span style=\"color: #800080; font-style: italic\">None</span>\n",
       "misc            : Licensed, Regional differences\n",
       "description     : \n",
       "the stealth affair is a graphic adventure game with a point-and-click interface. The player \n",
       "controls the famous secret agent James Bond <span style=\"font-weight: bold\">(</span>John Glames in the European version<span style=\"font-weight: bold\">)</span>, whose task\n",
       "is to travel to South America in order to locate and retrieve a newly designed F-<span style=\"color: #000080; font-weight: bold\">19</span> stealth \n",
       "plane, which was stolen from the Naval Air Station in Miramar, California. The game is \n",
       "controlled by the same pop-up command menu consisting of six verbs that was introduced in \n",
       "Delphine<span style=\"color: #008000\">'s debut future wars: adventures in time. However, it'</span>s been slightly improved and \n",
       "does now allow interaction with the inventory, like examining and combining items. The player\n",
       "can use many typical special agent<span style=\"color: #008000\">'s gadgets, beginning with a passport forgery kit and </span>\n",
       "<span style=\"color: #008000\">ending with explosive cigarettes. Apart from solving puzzles, the player has to make it </span>\n",
       "<span style=\"color: #008000\">through some arcade sequences: escape the labyrinth, dive with limited breath, and dodge the </span>\n",
       "<span style=\"color: #008000\">evil guy'</span>s minions. \n",
       "\n",
       "</pre>\n"
      ],
      "text/plain": [
       "<rich.jupyter.JupyterRenderable at 0x1c11cf3f6a0>"
      ]
     },
     "metadata": {},
     "output_type": "display_data"
    }
   ],
   "source": [
    "page = get('https://www.mobygames.com/game/007-james-bond-the-stealth-affair')\n",
    "code = page.content.decode(\"utf8\")\n",
    "print(webscrapping.Jeu_video(code))"
   ]
  },
  {
   "cell_type": "code",
   "execution_count": null,
   "id": "distinct-macro",
   "metadata": {},
   "outputs": [],
   "source": []
  }
 ],
 "metadata": {
  "kernelspec": {
   "display_name": "Python 3",
   "language": "python",
   "name": "python3"
  },
  "language_info": {
   "codemirror_mode": {
    "name": "ipython",
    "version": 3
   },
   "file_extension": ".py",
   "mimetype": "text/x-python",
   "name": "python",
   "nbconvert_exporter": "python",
   "pygments_lexer": "ipython3",
   "version": "3.8.5"
  }
 },
 "nbformat": 4,
 "nbformat_minor": 5
}
